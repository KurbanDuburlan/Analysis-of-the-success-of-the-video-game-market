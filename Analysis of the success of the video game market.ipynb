{
 "cells": [
  {
   "cell_type": "markdown",
   "metadata": {},
   "source": [
    "# Анализ успешности рынка видеоигр"
   ]
  },
  {
   "cell_type": "markdown",
   "metadata": {},
   "source": [
    "# Описание проекта\n",
    "\n",
    "Вы работаете в интернет-магазине «Стримчик», который продаёт по всему миру компьютерные игры. Из открытых источников доступны исторические данные о продажах игр, оценки пользователей и экспертов, жанры и платформы (например, Xbox или PlayStation). Вам нужно выявить определяющие успешность игры закономерности. Это позволит сделать ставку на потенциально популярный продукт и спланировать рекламные кампании.\n",
    "\n",
    "\n",
    "Перед вами данные до 2016 года. Представим, что сейчас декабрь 2016 г., и вы планируете кампанию на 2017-й. Нужно отработать принцип работы с данными. Неважно, прогнозируете ли вы продажи на 2017 год по данным 2016-го или же 2027-й — по данным 2026 года.\n",
    "\n",
    "\n",
    "В наборе данных попадается аббревиатура ESRB (Entertainment Software Rating Board) — это ассоциация, определяющая возрастной рейтинг компьютерных игр. ESRB оценивает игровой контент и присваивает ему подходящую возрастную категорию, например, «Для взрослых», «Для детей младшего возраста» или «Для подростков»."
   ]
  },
  {
   "cell_type": "markdown",
   "metadata": {},
   "source": [
    "# Цель исследования\n",
    "\n",
    "Выявить определяющие успешность игровой платформы закономерности. \n",
    "\n",
    "# Задачи исследования\n",
    "\n",
    "1. Подготовить данные.\n",
    "2. Провести исследовательский анализ данных.\n",
    "3. Составить портрет пользователя каждого региона.\n",
    "4. Проверить гипотезы о среднем пользовательском рейтинге.\n",
    "\n",
    "# Исходные данные\n",
    "\n",
    "Name — название игры\n",
    "\n",
    "Platform — платформа\n",
    "\n",
    "Year_of_Release — год выпуска\n",
    "\n",
    "Genre — жанр игры\n",
    "\n",
    "NA_sales — продажи в Северной Америке (миллионы проданных копий)\n",
    "\n",
    "EU_sales — продажи в Европе (миллионы проданных копий)\n",
    "\n",
    "JP_sales — продажи в Японии (миллионы проданных копий)\n",
    "\n",
    "Other_sales — продажи в других странах (миллионы проданных копий)\n",
    "\n",
    "Critic_Score — оценка критиков (максимум 100)\n",
    "\n",
    "User_Score — оценка пользователей (максимум 10)\n",
    "\n",
    "Rating — рейтинг от организации ESRB (англ. Entertainment Software Rating Board). Эта ассоциация определяет рейтинг компьютерных игр и присваивает им подходящую возрастную категорию.\n",
    "\n",
    "# Данное исследование разделим на несколько частей\n",
    "\n",
    "Часть 1. Изучение общей информации:\n",
    "\n",
    "1. Изучение файлов с данными, получение общей информации, загрузка библиотек.\n",
    "2. Нахождение и ликвидация пропусков.\n",
    "\n",
    "Часть 2. Подготовка данных:\n",
    "\n",
    "1. Приведение данных к нужным типам.\n",
    "2. Нахождение и исправление аномалий и ошибок.\n",
    "\n",
    "Часть 3. Исследовательский анализ данных:\n",
    "\n",
    "1. Определение продаж по платформам на протяжении лет.\n",
    "2. Формирование актуального периода и работа с ним.\n",
    "3. Построение графика \"ящика с усами\".\n",
    "\n",
    "Часть 4. Портрет пользователя каждого региона: \n",
    "1. Описание различий в долях продаж самых популярных платформ (топ-5). \n",
    "2. Определение разницы самых популярных жанров (топ-5). \n",
    "3. Влияние рейтинга ESRB на продажи в отдельном регионе.\n",
    "\n",
    "Часть 5. Проверка гипотез: \n",
    "1. Средние пользовательские рейтинги платформ Xbox One и PC одинаковые;\n",
    "2. Средние пользовательские рейтинги жанров Action (англ. «действие», экшен-игры) и Sports (англ. «спортивные соревнования») разные.\n",
    "\n",
    "Часть 6. Общий вывод."
   ]
  },
  {
   "cell_type": "markdown",
   "metadata": {},
   "source": [
    "## Изучение общей информации"
   ]
  },
  {
   "cell_type": "code",
   "execution_count": 1,
   "metadata": {},
   "outputs": [],
   "source": [
    "import pandas as pd\n",
    "import matplotlib.pyplot as plt\n",
    "import numpy as np\n",
    "from datetime import datetime\n",
    "from scipy import stats as st\n",
    "\n"
   ]
  },
  {
   "cell_type": "code",
   "execution_count": 2,
   "metadata": {},
   "outputs": [],
   "source": [
    "games = pd.read_csv('/datasets/games.csv')"
   ]
  },
  {
   "cell_type": "code",
   "execution_count": 3,
   "metadata": {},
   "outputs": [
    {
     "name": "stdout",
     "output_type": "stream",
     "text": [
      "<class 'pandas.core.frame.DataFrame'>\n",
      "RangeIndex: 16715 entries, 0 to 16714\n",
      "Data columns (total 11 columns):\n",
      " #   Column           Non-Null Count  Dtype  \n",
      "---  ------           --------------  -----  \n",
      " 0   Name             16713 non-null  object \n",
      " 1   Platform         16715 non-null  object \n",
      " 2   Year_of_Release  16446 non-null  float64\n",
      " 3   Genre            16713 non-null  object \n",
      " 4   NA_sales         16715 non-null  float64\n",
      " 5   EU_sales         16715 non-null  float64\n",
      " 6   JP_sales         16715 non-null  float64\n",
      " 7   Other_sales      16715 non-null  float64\n",
      " 8   Critic_Score     8137 non-null   float64\n",
      " 9   User_Score       10014 non-null  object \n",
      " 10  Rating           9949 non-null   object \n",
      "dtypes: float64(6), object(5)\n",
      "memory usage: 1.4+ MB\n"
     ]
    }
   ],
   "source": [
    "games.info()"
   ]
  },
  {
   "cell_type": "code",
   "execution_count": 4,
   "metadata": {},
   "outputs": [
    {
     "data": {
      "text/html": [
       "<div>\n",
       "<style scoped>\n",
       "    .dataframe tbody tr th:only-of-type {\n",
       "        vertical-align: middle;\n",
       "    }\n",
       "\n",
       "    .dataframe tbody tr th {\n",
       "        vertical-align: top;\n",
       "    }\n",
       "\n",
       "    .dataframe thead th {\n",
       "        text-align: right;\n",
       "    }\n",
       "</style>\n",
       "<table border=\"1\" class=\"dataframe\">\n",
       "  <thead>\n",
       "    <tr style=\"text-align: right;\">\n",
       "      <th></th>\n",
       "      <th>Name</th>\n",
       "      <th>Platform</th>\n",
       "      <th>Year_of_Release</th>\n",
       "      <th>Genre</th>\n",
       "      <th>NA_sales</th>\n",
       "      <th>EU_sales</th>\n",
       "      <th>JP_sales</th>\n",
       "      <th>Other_sales</th>\n",
       "      <th>Critic_Score</th>\n",
       "      <th>User_Score</th>\n",
       "      <th>Rating</th>\n",
       "    </tr>\n",
       "  </thead>\n",
       "  <tbody>\n",
       "    <tr>\n",
       "      <th>0</th>\n",
       "      <td>Wii Sports</td>\n",
       "      <td>Wii</td>\n",
       "      <td>2006.0</td>\n",
       "      <td>Sports</td>\n",
       "      <td>41.36</td>\n",
       "      <td>28.96</td>\n",
       "      <td>3.77</td>\n",
       "      <td>8.45</td>\n",
       "      <td>76.0</td>\n",
       "      <td>8</td>\n",
       "      <td>E</td>\n",
       "    </tr>\n",
       "    <tr>\n",
       "      <th>1</th>\n",
       "      <td>Super Mario Bros.</td>\n",
       "      <td>NES</td>\n",
       "      <td>1985.0</td>\n",
       "      <td>Platform</td>\n",
       "      <td>29.08</td>\n",
       "      <td>3.58</td>\n",
       "      <td>6.81</td>\n",
       "      <td>0.77</td>\n",
       "      <td>NaN</td>\n",
       "      <td>NaN</td>\n",
       "      <td>NaN</td>\n",
       "    </tr>\n",
       "    <tr>\n",
       "      <th>2</th>\n",
       "      <td>Mario Kart Wii</td>\n",
       "      <td>Wii</td>\n",
       "      <td>2008.0</td>\n",
       "      <td>Racing</td>\n",
       "      <td>15.68</td>\n",
       "      <td>12.76</td>\n",
       "      <td>3.79</td>\n",
       "      <td>3.29</td>\n",
       "      <td>82.0</td>\n",
       "      <td>8.3</td>\n",
       "      <td>E</td>\n",
       "    </tr>\n",
       "    <tr>\n",
       "      <th>3</th>\n",
       "      <td>Wii Sports Resort</td>\n",
       "      <td>Wii</td>\n",
       "      <td>2009.0</td>\n",
       "      <td>Sports</td>\n",
       "      <td>15.61</td>\n",
       "      <td>10.93</td>\n",
       "      <td>3.28</td>\n",
       "      <td>2.95</td>\n",
       "      <td>80.0</td>\n",
       "      <td>8</td>\n",
       "      <td>E</td>\n",
       "    </tr>\n",
       "    <tr>\n",
       "      <th>4</th>\n",
       "      <td>Pokemon Red/Pokemon Blue</td>\n",
       "      <td>GB</td>\n",
       "      <td>1996.0</td>\n",
       "      <td>Role-Playing</td>\n",
       "      <td>11.27</td>\n",
       "      <td>8.89</td>\n",
       "      <td>10.22</td>\n",
       "      <td>1.00</td>\n",
       "      <td>NaN</td>\n",
       "      <td>NaN</td>\n",
       "      <td>NaN</td>\n",
       "    </tr>\n",
       "    <tr>\n",
       "      <th>5</th>\n",
       "      <td>Tetris</td>\n",
       "      <td>GB</td>\n",
       "      <td>1989.0</td>\n",
       "      <td>Puzzle</td>\n",
       "      <td>23.20</td>\n",
       "      <td>2.26</td>\n",
       "      <td>4.22</td>\n",
       "      <td>0.58</td>\n",
       "      <td>NaN</td>\n",
       "      <td>NaN</td>\n",
       "      <td>NaN</td>\n",
       "    </tr>\n",
       "    <tr>\n",
       "      <th>6</th>\n",
       "      <td>New Super Mario Bros.</td>\n",
       "      <td>DS</td>\n",
       "      <td>2006.0</td>\n",
       "      <td>Platform</td>\n",
       "      <td>11.28</td>\n",
       "      <td>9.14</td>\n",
       "      <td>6.50</td>\n",
       "      <td>2.88</td>\n",
       "      <td>89.0</td>\n",
       "      <td>8.5</td>\n",
       "      <td>E</td>\n",
       "    </tr>\n",
       "    <tr>\n",
       "      <th>7</th>\n",
       "      <td>Wii Play</td>\n",
       "      <td>Wii</td>\n",
       "      <td>2006.0</td>\n",
       "      <td>Misc</td>\n",
       "      <td>13.96</td>\n",
       "      <td>9.18</td>\n",
       "      <td>2.93</td>\n",
       "      <td>2.84</td>\n",
       "      <td>58.0</td>\n",
       "      <td>6.6</td>\n",
       "      <td>E</td>\n",
       "    </tr>\n",
       "    <tr>\n",
       "      <th>8</th>\n",
       "      <td>New Super Mario Bros. Wii</td>\n",
       "      <td>Wii</td>\n",
       "      <td>2009.0</td>\n",
       "      <td>Platform</td>\n",
       "      <td>14.44</td>\n",
       "      <td>6.94</td>\n",
       "      <td>4.70</td>\n",
       "      <td>2.24</td>\n",
       "      <td>87.0</td>\n",
       "      <td>8.4</td>\n",
       "      <td>E</td>\n",
       "    </tr>\n",
       "    <tr>\n",
       "      <th>9</th>\n",
       "      <td>Duck Hunt</td>\n",
       "      <td>NES</td>\n",
       "      <td>1984.0</td>\n",
       "      <td>Shooter</td>\n",
       "      <td>26.93</td>\n",
       "      <td>0.63</td>\n",
       "      <td>0.28</td>\n",
       "      <td>0.47</td>\n",
       "      <td>NaN</td>\n",
       "      <td>NaN</td>\n",
       "      <td>NaN</td>\n",
       "    </tr>\n",
       "  </tbody>\n",
       "</table>\n",
       "</div>"
      ],
      "text/plain": [
       "                        Name Platform  Year_of_Release         Genre  \\\n",
       "0                 Wii Sports      Wii           2006.0        Sports   \n",
       "1          Super Mario Bros.      NES           1985.0      Platform   \n",
       "2             Mario Kart Wii      Wii           2008.0        Racing   \n",
       "3          Wii Sports Resort      Wii           2009.0        Sports   \n",
       "4   Pokemon Red/Pokemon Blue       GB           1996.0  Role-Playing   \n",
       "5                     Tetris       GB           1989.0        Puzzle   \n",
       "6      New Super Mario Bros.       DS           2006.0      Platform   \n",
       "7                   Wii Play      Wii           2006.0          Misc   \n",
       "8  New Super Mario Bros. Wii      Wii           2009.0      Platform   \n",
       "9                  Duck Hunt      NES           1984.0       Shooter   \n",
       "\n",
       "   NA_sales  EU_sales  JP_sales  Other_sales  Critic_Score User_Score Rating  \n",
       "0     41.36     28.96      3.77         8.45          76.0          8      E  \n",
       "1     29.08      3.58      6.81         0.77           NaN        NaN    NaN  \n",
       "2     15.68     12.76      3.79         3.29          82.0        8.3      E  \n",
       "3     15.61     10.93      3.28         2.95          80.0          8      E  \n",
       "4     11.27      8.89     10.22         1.00           NaN        NaN    NaN  \n",
       "5     23.20      2.26      4.22         0.58           NaN        NaN    NaN  \n",
       "6     11.28      9.14      6.50         2.88          89.0        8.5      E  \n",
       "7     13.96      9.18      2.93         2.84          58.0        6.6      E  \n",
       "8     14.44      6.94      4.70         2.24          87.0        8.4      E  \n",
       "9     26.93      0.63      0.28         0.47           NaN        NaN    NaN  "
      ]
     },
     "execution_count": 4,
     "metadata": {},
     "output_type": "execute_result"
    }
   ],
   "source": [
    "games.head(10)"
   ]
  },
  {
   "cell_type": "code",
   "execution_count": 5,
   "metadata": {},
   "outputs": [
    {
     "data": {
      "text/html": [
       "<div>\n",
       "<style scoped>\n",
       "    .dataframe tbody tr th:only-of-type {\n",
       "        vertical-align: middle;\n",
       "    }\n",
       "\n",
       "    .dataframe tbody tr th {\n",
       "        vertical-align: top;\n",
       "    }\n",
       "\n",
       "    .dataframe thead th {\n",
       "        text-align: right;\n",
       "    }\n",
       "</style>\n",
       "<table border=\"1\" class=\"dataframe\">\n",
       "  <thead>\n",
       "    <tr style=\"text-align: right;\">\n",
       "      <th></th>\n",
       "      <th>Year_of_Release</th>\n",
       "      <th>NA_sales</th>\n",
       "      <th>EU_sales</th>\n",
       "      <th>JP_sales</th>\n",
       "      <th>Other_sales</th>\n",
       "      <th>Critic_Score</th>\n",
       "    </tr>\n",
       "  </thead>\n",
       "  <tbody>\n",
       "    <tr>\n",
       "      <th>count</th>\n",
       "      <td>16446.000000</td>\n",
       "      <td>16715.000000</td>\n",
       "      <td>16715.000000</td>\n",
       "      <td>16715.000000</td>\n",
       "      <td>16715.000000</td>\n",
       "      <td>8137.000000</td>\n",
       "    </tr>\n",
       "    <tr>\n",
       "      <th>mean</th>\n",
       "      <td>2006.484616</td>\n",
       "      <td>0.263377</td>\n",
       "      <td>0.145060</td>\n",
       "      <td>0.077617</td>\n",
       "      <td>0.047342</td>\n",
       "      <td>68.967679</td>\n",
       "    </tr>\n",
       "    <tr>\n",
       "      <th>std</th>\n",
       "      <td>5.877050</td>\n",
       "      <td>0.813604</td>\n",
       "      <td>0.503339</td>\n",
       "      <td>0.308853</td>\n",
       "      <td>0.186731</td>\n",
       "      <td>13.938165</td>\n",
       "    </tr>\n",
       "    <tr>\n",
       "      <th>min</th>\n",
       "      <td>1980.000000</td>\n",
       "      <td>0.000000</td>\n",
       "      <td>0.000000</td>\n",
       "      <td>0.000000</td>\n",
       "      <td>0.000000</td>\n",
       "      <td>13.000000</td>\n",
       "    </tr>\n",
       "    <tr>\n",
       "      <th>25%</th>\n",
       "      <td>2003.000000</td>\n",
       "      <td>0.000000</td>\n",
       "      <td>0.000000</td>\n",
       "      <td>0.000000</td>\n",
       "      <td>0.000000</td>\n",
       "      <td>60.000000</td>\n",
       "    </tr>\n",
       "    <tr>\n",
       "      <th>50%</th>\n",
       "      <td>2007.000000</td>\n",
       "      <td>0.080000</td>\n",
       "      <td>0.020000</td>\n",
       "      <td>0.000000</td>\n",
       "      <td>0.010000</td>\n",
       "      <td>71.000000</td>\n",
       "    </tr>\n",
       "    <tr>\n",
       "      <th>75%</th>\n",
       "      <td>2010.000000</td>\n",
       "      <td>0.240000</td>\n",
       "      <td>0.110000</td>\n",
       "      <td>0.040000</td>\n",
       "      <td>0.030000</td>\n",
       "      <td>79.000000</td>\n",
       "    </tr>\n",
       "    <tr>\n",
       "      <th>max</th>\n",
       "      <td>2016.000000</td>\n",
       "      <td>41.360000</td>\n",
       "      <td>28.960000</td>\n",
       "      <td>10.220000</td>\n",
       "      <td>10.570000</td>\n",
       "      <td>98.000000</td>\n",
       "    </tr>\n",
       "  </tbody>\n",
       "</table>\n",
       "</div>"
      ],
      "text/plain": [
       "       Year_of_Release      NA_sales      EU_sales      JP_sales  \\\n",
       "count     16446.000000  16715.000000  16715.000000  16715.000000   \n",
       "mean       2006.484616      0.263377      0.145060      0.077617   \n",
       "std           5.877050      0.813604      0.503339      0.308853   \n",
       "min        1980.000000      0.000000      0.000000      0.000000   \n",
       "25%        2003.000000      0.000000      0.000000      0.000000   \n",
       "50%        2007.000000      0.080000      0.020000      0.000000   \n",
       "75%        2010.000000      0.240000      0.110000      0.040000   \n",
       "max        2016.000000     41.360000     28.960000     10.220000   \n",
       "\n",
       "        Other_sales  Critic_Score  \n",
       "count  16715.000000   8137.000000  \n",
       "mean       0.047342     68.967679  \n",
       "std        0.186731     13.938165  \n",
       "min        0.000000     13.000000  \n",
       "25%        0.000000     60.000000  \n",
       "50%        0.010000     71.000000  \n",
       "75%        0.030000     79.000000  \n",
       "max       10.570000     98.000000  "
      ]
     },
     "execution_count": 5,
     "metadata": {},
     "output_type": "execute_result"
    }
   ],
   "source": [
    "games.describe()"
   ]
  },
  {
   "cell_type": "code",
   "execution_count": 6,
   "metadata": {},
   "outputs": [
    {
     "data": {
      "text/plain": [
       "0"
      ]
     },
     "execution_count": 6,
     "metadata": {},
     "output_type": "execute_result"
    }
   ],
   "source": [
    "# проверим на явные дубликаты\n",
    "games.duplicated().sum()"
   ]
  },
  {
   "cell_type": "markdown",
   "metadata": {},
   "source": [
    "## Подготовка данных"
   ]
  },
  {
   "cell_type": "code",
   "execution_count": 7,
   "metadata": {},
   "outputs": [],
   "source": [
    "# приводим столбцы к нижнему регистру \n",
    "games.columns= games.columns.str.lower()"
   ]
  },
  {
   "cell_type": "code",
   "execution_count": 8,
   "metadata": {},
   "outputs": [
    {
     "data": {
      "text/plain": [
       "NaN    6701\n",
       "tbd    2424\n",
       "7.8     324\n",
       "8       290\n",
       "8.2     282\n",
       "       ... \n",
       "9.6       2\n",
       "2.3       2\n",
       "1.9       2\n",
       "0         1\n",
       "9.7       1\n",
       "Name: user_score, Length: 97, dtype: int64"
      ]
     },
     "execution_count": 8,
     "metadata": {},
     "output_type": "execute_result"
    }
   ],
   "source": [
    "# Проверим столбец user_score на уникальные значения\n",
    "games['user_score'].value_counts(dropna = False)"
   ]
  },
  {
   "cell_type": "code",
   "execution_count": 9,
   "metadata": {},
   "outputs": [],
   "source": [
    "games['user_score'] = pd.to_numeric(games['user_score'], errors='coerce')"
   ]
  },
  {
   "cell_type": "markdown",
   "metadata": {},
   "source": [
    "Чаще всего в столбце мы встречаем значение \"tbd\", которое означает \"to be determined\", что пользовательская оценка отсутствует. "
   ]
  },
  {
   "cell_type": "code",
   "execution_count": 10,
   "metadata": {},
   "outputs": [],
   "source": [
    "# Изменим tbd на Nan\n",
    "games.loc[games['user_score'] == 'tbd', 'user_score'] = np.NaN"
   ]
  },
  {
   "cell_type": "code",
   "execution_count": 11,
   "metadata": {},
   "outputs": [
    {
     "data": {
      "text/plain": [
       "7.8    324\n",
       "8.0    290\n",
       "8.2    282\n",
       "8.3    254\n",
       "8.5    253\n",
       "      ... \n",
       "0.9      2\n",
       "1.9      2\n",
       "1.3      2\n",
       "9.7      1\n",
       "0.0      1\n",
       "Name: user_score, Length: 95, dtype: int64"
      ]
     },
     "execution_count": 11,
     "metadata": {},
     "output_type": "execute_result"
    }
   ],
   "source": [
    "# Проверяем\n",
    "games['user_score'].value_counts()"
   ]
  },
  {
   "cell_type": "code",
   "execution_count": 12,
   "metadata": {},
   "outputs": [
    {
     "data": {
      "text/plain": [
       "platform              0\n",
       "na_sales              0\n",
       "eu_sales              0\n",
       "jp_sales              0\n",
       "other_sales           0\n",
       "name                  2\n",
       "genre                 2\n",
       "year_of_release     269\n",
       "rating             6766\n",
       "critic_score       8578\n",
       "user_score         9125\n",
       "dtype: int64"
      ]
     },
     "execution_count": 12,
     "metadata": {},
     "output_type": "execute_result"
    }
   ],
   "source": [
    "# Ищем пропуски \n",
    "games.isna().sum().sort_values()"
   ]
  },
  {
   "cell_type": "code",
   "execution_count": 13,
   "metadata": {},
   "outputs": [
    {
     "data": {
      "text/html": [
       "<style  type=\"text/css\" >\n",
       "#T_03341_row0_col0,#T_03341_row1_col0,#T_03341_row3_col0,#T_03341_row4_col0,#T_03341_row5_col0,#T_03341_row6_col0,#T_03341_row7_col0{\n",
       "            background-color:  #3b4cc0;\n",
       "            color:  #f1f1f1;\n",
       "        }#T_03341_row2_col0{\n",
       "            background-color:  #455cce;\n",
       "            color:  #f1f1f1;\n",
       "        }#T_03341_row8_col0{\n",
       "            background-color:  #cd423b;\n",
       "            color:  #f1f1f1;\n",
       "        }#T_03341_row9_col0{\n",
       "            background-color:  #b40426;\n",
       "            color:  #f1f1f1;\n",
       "        }#T_03341_row10_col0{\n",
       "            background-color:  #f6a283;\n",
       "            color:  #000000;\n",
       "        }</style><table id=\"T_03341_\" ><thead>    <tr>        <th class=\"blank level0\" ></th>        <th class=\"col_heading level0 col0\" >0</th>    </tr></thead><tbody>\n",
       "                <tr>\n",
       "                        <th id=\"T_03341_level0_row0\" class=\"row_heading level0 row0\" >name</th>\n",
       "                        <td id=\"T_03341_row0_col0\" class=\"data row0 col0\" >0.000000</td>\n",
       "            </tr>\n",
       "            <tr>\n",
       "                        <th id=\"T_03341_level0_row1\" class=\"row_heading level0 row1\" >platform</th>\n",
       "                        <td id=\"T_03341_row1_col0\" class=\"data row1 col0\" >0.000000</td>\n",
       "            </tr>\n",
       "            <tr>\n",
       "                        <th id=\"T_03341_level0_row2\" class=\"row_heading level0 row2\" >year_of_release</th>\n",
       "                        <td id=\"T_03341_row2_col0\" class=\"data row2 col0\" >2.000000</td>\n",
       "            </tr>\n",
       "            <tr>\n",
       "                        <th id=\"T_03341_level0_row3\" class=\"row_heading level0 row3\" >genre</th>\n",
       "                        <td id=\"T_03341_row3_col0\" class=\"data row3 col0\" >0.000000</td>\n",
       "            </tr>\n",
       "            <tr>\n",
       "                        <th id=\"T_03341_level0_row4\" class=\"row_heading level0 row4\" >na_sales</th>\n",
       "                        <td id=\"T_03341_row4_col0\" class=\"data row4 col0\" >0.000000</td>\n",
       "            </tr>\n",
       "            <tr>\n",
       "                        <th id=\"T_03341_level0_row5\" class=\"row_heading level0 row5\" >eu_sales</th>\n",
       "                        <td id=\"T_03341_row5_col0\" class=\"data row5 col0\" >0.000000</td>\n",
       "            </tr>\n",
       "            <tr>\n",
       "                        <th id=\"T_03341_level0_row6\" class=\"row_heading level0 row6\" >jp_sales</th>\n",
       "                        <td id=\"T_03341_row6_col0\" class=\"data row6 col0\" >0.000000</td>\n",
       "            </tr>\n",
       "            <tr>\n",
       "                        <th id=\"T_03341_level0_row7\" class=\"row_heading level0 row7\" >other_sales</th>\n",
       "                        <td id=\"T_03341_row7_col0\" class=\"data row7 col0\" >0.000000</td>\n",
       "            </tr>\n",
       "            <tr>\n",
       "                        <th id=\"T_03341_level0_row8\" class=\"row_heading level0 row8\" >critic_score</th>\n",
       "                        <td id=\"T_03341_row8_col0\" class=\"data row8 col0\" >51.000000</td>\n",
       "            </tr>\n",
       "            <tr>\n",
       "                        <th id=\"T_03341_level0_row9\" class=\"row_heading level0 row9\" >user_score</th>\n",
       "                        <td id=\"T_03341_row9_col0\" class=\"data row9 col0\" >55.000000</td>\n",
       "            </tr>\n",
       "            <tr>\n",
       "                        <th id=\"T_03341_level0_row10\" class=\"row_heading level0 row10\" >rating</th>\n",
       "                        <td id=\"T_03341_row10_col0\" class=\"data row10 col0\" >40.000000</td>\n",
       "            </tr>\n",
       "    </tbody></table>"
      ],
      "text/plain": [
       "<pandas.io.formats.style.Styler at 0x7fcee1299040>"
      ]
     },
     "execution_count": 13,
     "metadata": {},
     "output_type": "execute_result"
    }
   ],
   "source": [
    "# Ищем пропуски в процентах  \n",
    "pd.DataFrame(round(games.isna().mean()*100,)).style.background_gradient('coolwarm')"
   ]
  },
  {
   "cell_type": "markdown",
   "metadata": {},
   "source": [
    "Видим пропуски в столбцах year_of_release, critic_score, user_score, rating."
   ]
  },
  {
   "cell_type": "code",
   "execution_count": 14,
   "metadata": {},
   "outputs": [
    {
     "data": {
      "text/html": [
       "<div>\n",
       "<style scoped>\n",
       "    .dataframe tbody tr th:only-of-type {\n",
       "        vertical-align: middle;\n",
       "    }\n",
       "\n",
       "    .dataframe tbody tr th {\n",
       "        vertical-align: top;\n",
       "    }\n",
       "\n",
       "    .dataframe thead th {\n",
       "        text-align: right;\n",
       "    }\n",
       "</style>\n",
       "<table border=\"1\" class=\"dataframe\">\n",
       "  <thead>\n",
       "    <tr style=\"text-align: right;\">\n",
       "      <th></th>\n",
       "      <th>name</th>\n",
       "      <th>platform</th>\n",
       "      <th>year_of_release</th>\n",
       "      <th>genre</th>\n",
       "      <th>na_sales</th>\n",
       "      <th>eu_sales</th>\n",
       "      <th>jp_sales</th>\n",
       "      <th>other_sales</th>\n",
       "      <th>critic_score</th>\n",
       "      <th>user_score</th>\n",
       "      <th>rating</th>\n",
       "    </tr>\n",
       "  </thead>\n",
       "  <tbody>\n",
       "    <tr>\n",
       "      <th>659</th>\n",
       "      <td>NaN</td>\n",
       "      <td>GEN</td>\n",
       "      <td>1993.0</td>\n",
       "      <td>NaN</td>\n",
       "      <td>1.78</td>\n",
       "      <td>0.53</td>\n",
       "      <td>0.00</td>\n",
       "      <td>0.08</td>\n",
       "      <td>NaN</td>\n",
       "      <td>NaN</td>\n",
       "      <td>NaN</td>\n",
       "    </tr>\n",
       "    <tr>\n",
       "      <th>14244</th>\n",
       "      <td>NaN</td>\n",
       "      <td>GEN</td>\n",
       "      <td>1993.0</td>\n",
       "      <td>NaN</td>\n",
       "      <td>0.00</td>\n",
       "      <td>0.00</td>\n",
       "      <td>0.03</td>\n",
       "      <td>0.00</td>\n",
       "      <td>NaN</td>\n",
       "      <td>NaN</td>\n",
       "      <td>NaN</td>\n",
       "    </tr>\n",
       "  </tbody>\n",
       "</table>\n",
       "</div>"
      ],
      "text/plain": [
       "      name platform  year_of_release genre  na_sales  eu_sales  jp_sales  \\\n",
       "659    NaN      GEN           1993.0   NaN      1.78      0.53      0.00   \n",
       "14244  NaN      GEN           1993.0   NaN      0.00      0.00      0.03   \n",
       "\n",
       "       other_sales  critic_score  user_score rating  \n",
       "659           0.08           NaN         NaN    NaN  \n",
       "14244         0.00           NaN         NaN    NaN  "
      ]
     },
     "execution_count": 14,
     "metadata": {},
     "output_type": "execute_result"
    }
   ],
   "source": [
    "# Проверим пропуски в name\n",
    "games.loc[games['name'].isna()]"
   ]
  },
  {
   "cell_type": "markdown",
   "metadata": {},
   "source": [
    "2 пропуска в имени и жанре, удалим две данные строчки, так как игры старые и не имеют значения для анализа. "
   ]
  },
  {
   "cell_type": "code",
   "execution_count": 15,
   "metadata": {},
   "outputs": [],
   "source": [
    "# удаляем строчки\n",
    "games.dropna(subset=['name'], inplace=True)"
   ]
  },
  {
   "cell_type": "code",
   "execution_count": 16,
   "metadata": {},
   "outputs": [
    {
     "data": {
      "text/html": [
       "<div>\n",
       "<style scoped>\n",
       "    .dataframe tbody tr th:only-of-type {\n",
       "        vertical-align: middle;\n",
       "    }\n",
       "\n",
       "    .dataframe tbody tr th {\n",
       "        vertical-align: top;\n",
       "    }\n",
       "\n",
       "    .dataframe thead th {\n",
       "        text-align: right;\n",
       "    }\n",
       "</style>\n",
       "<table border=\"1\" class=\"dataframe\">\n",
       "  <thead>\n",
       "    <tr style=\"text-align: right;\">\n",
       "      <th></th>\n",
       "      <th>name</th>\n",
       "      <th>platform</th>\n",
       "      <th>year_of_release</th>\n",
       "      <th>genre</th>\n",
       "      <th>na_sales</th>\n",
       "      <th>eu_sales</th>\n",
       "      <th>jp_sales</th>\n",
       "      <th>other_sales</th>\n",
       "      <th>critic_score</th>\n",
       "      <th>user_score</th>\n",
       "      <th>rating</th>\n",
       "    </tr>\n",
       "  </thead>\n",
       "  <tbody>\n",
       "    <tr>\n",
       "      <th>183</th>\n",
       "      <td>Madden NFL 2004</td>\n",
       "      <td>PS2</td>\n",
       "      <td>NaN</td>\n",
       "      <td>Sports</td>\n",
       "      <td>4.26</td>\n",
       "      <td>0.26</td>\n",
       "      <td>0.01</td>\n",
       "      <td>0.71</td>\n",
       "      <td>94.0</td>\n",
       "      <td>8.5</td>\n",
       "      <td>E</td>\n",
       "    </tr>\n",
       "    <tr>\n",
       "      <th>377</th>\n",
       "      <td>FIFA Soccer 2004</td>\n",
       "      <td>PS2</td>\n",
       "      <td>NaN</td>\n",
       "      <td>Sports</td>\n",
       "      <td>0.59</td>\n",
       "      <td>2.36</td>\n",
       "      <td>0.04</td>\n",
       "      <td>0.51</td>\n",
       "      <td>84.0</td>\n",
       "      <td>6.4</td>\n",
       "      <td>E</td>\n",
       "    </tr>\n",
       "    <tr>\n",
       "      <th>456</th>\n",
       "      <td>LEGO Batman: The Videogame</td>\n",
       "      <td>Wii</td>\n",
       "      <td>NaN</td>\n",
       "      <td>Action</td>\n",
       "      <td>1.80</td>\n",
       "      <td>0.97</td>\n",
       "      <td>0.00</td>\n",
       "      <td>0.29</td>\n",
       "      <td>74.0</td>\n",
       "      <td>7.9</td>\n",
       "      <td>E10+</td>\n",
       "    </tr>\n",
       "    <tr>\n",
       "      <th>475</th>\n",
       "      <td>wwe Smackdown vs. Raw 2006</td>\n",
       "      <td>PS2</td>\n",
       "      <td>NaN</td>\n",
       "      <td>Fighting</td>\n",
       "      <td>1.57</td>\n",
       "      <td>1.02</td>\n",
       "      <td>0.00</td>\n",
       "      <td>0.41</td>\n",
       "      <td>NaN</td>\n",
       "      <td>NaN</td>\n",
       "      <td>NaN</td>\n",
       "    </tr>\n",
       "    <tr>\n",
       "      <th>609</th>\n",
       "      <td>Space Invaders</td>\n",
       "      <td>2600</td>\n",
       "      <td>NaN</td>\n",
       "      <td>Shooter</td>\n",
       "      <td>2.36</td>\n",
       "      <td>0.14</td>\n",
       "      <td>0.00</td>\n",
       "      <td>0.03</td>\n",
       "      <td>NaN</td>\n",
       "      <td>NaN</td>\n",
       "      <td>NaN</td>\n",
       "    </tr>\n",
       "    <tr>\n",
       "      <th>627</th>\n",
       "      <td>Rock Band</td>\n",
       "      <td>X360</td>\n",
       "      <td>NaN</td>\n",
       "      <td>Misc</td>\n",
       "      <td>1.93</td>\n",
       "      <td>0.33</td>\n",
       "      <td>0.00</td>\n",
       "      <td>0.21</td>\n",
       "      <td>92.0</td>\n",
       "      <td>8.2</td>\n",
       "      <td>T</td>\n",
       "    </tr>\n",
       "    <tr>\n",
       "      <th>657</th>\n",
       "      <td>Frogger's Adventures: Temple of the Frog</td>\n",
       "      <td>GBA</td>\n",
       "      <td>NaN</td>\n",
       "      <td>Adventure</td>\n",
       "      <td>2.15</td>\n",
       "      <td>0.18</td>\n",
       "      <td>0.00</td>\n",
       "      <td>0.07</td>\n",
       "      <td>73.0</td>\n",
       "      <td>NaN</td>\n",
       "      <td>E</td>\n",
       "    </tr>\n",
       "    <tr>\n",
       "      <th>678</th>\n",
       "      <td>LEGO Indiana Jones: The Original Adventures</td>\n",
       "      <td>Wii</td>\n",
       "      <td>NaN</td>\n",
       "      <td>Action</td>\n",
       "      <td>1.51</td>\n",
       "      <td>0.61</td>\n",
       "      <td>0.00</td>\n",
       "      <td>0.21</td>\n",
       "      <td>78.0</td>\n",
       "      <td>6.6</td>\n",
       "      <td>E10+</td>\n",
       "    </tr>\n",
       "    <tr>\n",
       "      <th>719</th>\n",
       "      <td>Call of Duty 3</td>\n",
       "      <td>Wii</td>\n",
       "      <td>NaN</td>\n",
       "      <td>Shooter</td>\n",
       "      <td>1.17</td>\n",
       "      <td>0.84</td>\n",
       "      <td>0.00</td>\n",
       "      <td>0.23</td>\n",
       "      <td>69.0</td>\n",
       "      <td>6.7</td>\n",
       "      <td>T</td>\n",
       "    </tr>\n",
       "    <tr>\n",
       "      <th>805</th>\n",
       "      <td>Rock Band</td>\n",
       "      <td>Wii</td>\n",
       "      <td>NaN</td>\n",
       "      <td>Misc</td>\n",
       "      <td>1.33</td>\n",
       "      <td>0.56</td>\n",
       "      <td>0.00</td>\n",
       "      <td>0.20</td>\n",
       "      <td>80.0</td>\n",
       "      <td>6.3</td>\n",
       "      <td>T</td>\n",
       "    </tr>\n",
       "  </tbody>\n",
       "</table>\n",
       "</div>"
      ],
      "text/plain": [
       "                                            name platform  year_of_release  \\\n",
       "183                              Madden NFL 2004      PS2              NaN   \n",
       "377                             FIFA Soccer 2004      PS2              NaN   \n",
       "456                   LEGO Batman: The Videogame      Wii              NaN   \n",
       "475                   wwe Smackdown vs. Raw 2006      PS2              NaN   \n",
       "609                               Space Invaders     2600              NaN   \n",
       "627                                    Rock Band     X360              NaN   \n",
       "657     Frogger's Adventures: Temple of the Frog      GBA              NaN   \n",
       "678  LEGO Indiana Jones: The Original Adventures      Wii              NaN   \n",
       "719                               Call of Duty 3      Wii              NaN   \n",
       "805                                    Rock Band      Wii              NaN   \n",
       "\n",
       "         genre  na_sales  eu_sales  jp_sales  other_sales  critic_score  \\\n",
       "183     Sports      4.26      0.26      0.01         0.71          94.0   \n",
       "377     Sports      0.59      2.36      0.04         0.51          84.0   \n",
       "456     Action      1.80      0.97      0.00         0.29          74.0   \n",
       "475   Fighting      1.57      1.02      0.00         0.41           NaN   \n",
       "609    Shooter      2.36      0.14      0.00         0.03           NaN   \n",
       "627       Misc      1.93      0.33      0.00         0.21          92.0   \n",
       "657  Adventure      2.15      0.18      0.00         0.07          73.0   \n",
       "678     Action      1.51      0.61      0.00         0.21          78.0   \n",
       "719    Shooter      1.17      0.84      0.00         0.23          69.0   \n",
       "805       Misc      1.33      0.56      0.00         0.20          80.0   \n",
       "\n",
       "     user_score rating  \n",
       "183         8.5      E  \n",
       "377         6.4      E  \n",
       "456         7.9   E10+  \n",
       "475         NaN    NaN  \n",
       "609         NaN    NaN  \n",
       "627         8.2      T  \n",
       "657         NaN      E  \n",
       "678         6.6   E10+  \n",
       "719         6.7      T  \n",
       "805         6.3      T  "
      ]
     },
     "execution_count": 16,
     "metadata": {},
     "output_type": "execute_result"
    }
   ],
   "source": [
    "# проверим столбец year_of_release\n",
    "games.loc[games['year_of_release'].isna()].head(10)"
   ]
  },
  {
   "cell_type": "markdown",
   "metadata": {},
   "source": [
    "Сritic_score и user_score имеют пропуски, так как, скорее всего, игры не имеют соответствующих данных. "
   ]
  },
  {
   "cell_type": "code",
   "execution_count": 17,
   "metadata": {},
   "outputs": [],
   "source": [
    "# пропуски в rating заменим на \"unknown\"\n",
    "games['rating'] = games['rating'].fillna('unknown')"
   ]
  },
  {
   "cell_type": "code",
   "execution_count": 18,
   "metadata": {},
   "outputs": [],
   "source": [
    "# посчитаем все продажи игр и создадим новый столбец all_sales \n",
    "games['all_sales'] = games[['na_sales', 'eu_sales', 'jp_sales', 'other_sales']].sum(axis=1)"
   ]
  },
  {
   "cell_type": "code",
   "execution_count": 19,
   "metadata": {},
   "outputs": [
    {
     "data": {
      "text/html": [
       "<div>\n",
       "<style scoped>\n",
       "    .dataframe tbody tr th:only-of-type {\n",
       "        vertical-align: middle;\n",
       "    }\n",
       "\n",
       "    .dataframe tbody tr th {\n",
       "        vertical-align: top;\n",
       "    }\n",
       "\n",
       "    .dataframe thead th {\n",
       "        text-align: right;\n",
       "    }\n",
       "</style>\n",
       "<table border=\"1\" class=\"dataframe\">\n",
       "  <thead>\n",
       "    <tr style=\"text-align: right;\">\n",
       "      <th></th>\n",
       "      <th>name</th>\n",
       "      <th>platform</th>\n",
       "      <th>year_of_release</th>\n",
       "      <th>genre</th>\n",
       "      <th>na_sales</th>\n",
       "      <th>eu_sales</th>\n",
       "      <th>jp_sales</th>\n",
       "      <th>other_sales</th>\n",
       "      <th>critic_score</th>\n",
       "      <th>user_score</th>\n",
       "      <th>rating</th>\n",
       "      <th>all_sales</th>\n",
       "    </tr>\n",
       "  </thead>\n",
       "  <tbody>\n",
       "    <tr>\n",
       "      <th>0</th>\n",
       "      <td>Wii Sports</td>\n",
       "      <td>Wii</td>\n",
       "      <td>2006.0</td>\n",
       "      <td>Sports</td>\n",
       "      <td>41.36</td>\n",
       "      <td>28.96</td>\n",
       "      <td>3.77</td>\n",
       "      <td>8.45</td>\n",
       "      <td>76.0</td>\n",
       "      <td>8.0</td>\n",
       "      <td>E</td>\n",
       "      <td>82.54</td>\n",
       "    </tr>\n",
       "    <tr>\n",
       "      <th>1</th>\n",
       "      <td>Super Mario Bros.</td>\n",
       "      <td>NES</td>\n",
       "      <td>1985.0</td>\n",
       "      <td>Platform</td>\n",
       "      <td>29.08</td>\n",
       "      <td>3.58</td>\n",
       "      <td>6.81</td>\n",
       "      <td>0.77</td>\n",
       "      <td>NaN</td>\n",
       "      <td>NaN</td>\n",
       "      <td>unknown</td>\n",
       "      <td>40.24</td>\n",
       "    </tr>\n",
       "    <tr>\n",
       "      <th>2</th>\n",
       "      <td>Mario Kart Wii</td>\n",
       "      <td>Wii</td>\n",
       "      <td>2008.0</td>\n",
       "      <td>Racing</td>\n",
       "      <td>15.68</td>\n",
       "      <td>12.76</td>\n",
       "      <td>3.79</td>\n",
       "      <td>3.29</td>\n",
       "      <td>82.0</td>\n",
       "      <td>8.3</td>\n",
       "      <td>E</td>\n",
       "      <td>35.52</td>\n",
       "    </tr>\n",
       "    <tr>\n",
       "      <th>3</th>\n",
       "      <td>Wii Sports Resort</td>\n",
       "      <td>Wii</td>\n",
       "      <td>2009.0</td>\n",
       "      <td>Sports</td>\n",
       "      <td>15.61</td>\n",
       "      <td>10.93</td>\n",
       "      <td>3.28</td>\n",
       "      <td>2.95</td>\n",
       "      <td>80.0</td>\n",
       "      <td>8.0</td>\n",
       "      <td>E</td>\n",
       "      <td>32.77</td>\n",
       "    </tr>\n",
       "    <tr>\n",
       "      <th>4</th>\n",
       "      <td>Pokemon Red/Pokemon Blue</td>\n",
       "      <td>GB</td>\n",
       "      <td>1996.0</td>\n",
       "      <td>Role-Playing</td>\n",
       "      <td>11.27</td>\n",
       "      <td>8.89</td>\n",
       "      <td>10.22</td>\n",
       "      <td>1.00</td>\n",
       "      <td>NaN</td>\n",
       "      <td>NaN</td>\n",
       "      <td>unknown</td>\n",
       "      <td>31.38</td>\n",
       "    </tr>\n",
       "  </tbody>\n",
       "</table>\n",
       "</div>"
      ],
      "text/plain": [
       "                       name platform  year_of_release         genre  na_sales  \\\n",
       "0                Wii Sports      Wii           2006.0        Sports     41.36   \n",
       "1         Super Mario Bros.      NES           1985.0      Platform     29.08   \n",
       "2            Mario Kart Wii      Wii           2008.0        Racing     15.68   \n",
       "3         Wii Sports Resort      Wii           2009.0        Sports     15.61   \n",
       "4  Pokemon Red/Pokemon Blue       GB           1996.0  Role-Playing     11.27   \n",
       "\n",
       "   eu_sales  jp_sales  other_sales  critic_score  user_score   rating  \\\n",
       "0     28.96      3.77         8.45          76.0         8.0        E   \n",
       "1      3.58      6.81         0.77           NaN         NaN  unknown   \n",
       "2     12.76      3.79         3.29          82.0         8.3        E   \n",
       "3     10.93      3.28         2.95          80.0         8.0        E   \n",
       "4      8.89     10.22         1.00           NaN         NaN  unknown   \n",
       "\n",
       "   all_sales  \n",
       "0      82.54  \n",
       "1      40.24  \n",
       "2      35.52  \n",
       "3      32.77  \n",
       "4      31.38  "
      ]
     },
     "execution_count": 19,
     "metadata": {},
     "output_type": "execute_result"
    }
   ],
   "source": [
    "games.head()"
   ]
  },
  {
   "cell_type": "markdown",
   "metadata": {},
   "source": [
    "## Исследовательский анализ данных"
   ]
  },
  {
   "cell_type": "markdown",
   "metadata": {},
   "source": [
    "Вопросы: \n",
    "Посмотрите, сколько игр выпускалось в разные годы. Важны ли данные за все периоды?\n",
    "\n",
    "Посмотрите, как менялись продажи по платформам. Выберите платформы с наибольшими суммарными продажами и постройте распределение по годам. За какой характерный срок появляются новые и исчезают старые платформы?\n",
    "\n",
    "Какие платформы лидируют по продажам, растут или падают? \n",
    "Посмотрите, как влияют на продажи внутри одной популярной платформы отзывы пользователей и критиков. Постройте диаграмму рассеяния и посчитайте корреляцию между отзывами и продажами.\n",
    "Соотнесите выводы с продажами игр на других платформах.\n",
    "\n",
    "Посмотрите на общее распределение игр по жанрам. Что можно сказать о самых прибыльных жанрах?\n",
    "\n",
    "Выделяются ли жанры с высокими и низкими продажами?"
   ]
  },
  {
   "cell_type": "code",
   "execution_count": 20,
   "metadata": {},
   "outputs": [
    {
     "data": {
      "text/plain": [
       "year_of_release\n",
       "1980.0       9\n",
       "1981.0      46\n",
       "1982.0      36\n",
       "1983.0      17\n",
       "1984.0      14\n",
       "1985.0      14\n",
       "1986.0      21\n",
       "1987.0      16\n",
       "1988.0      15\n",
       "1989.0      17\n",
       "1990.0      16\n",
       "1991.0      41\n",
       "1992.0      43\n",
       "1993.0      60\n",
       "1994.0     121\n",
       "1995.0     219\n",
       "1996.0     263\n",
       "1997.0     289\n",
       "1998.0     379\n",
       "1999.0     338\n",
       "2000.0     350\n",
       "2001.0     482\n",
       "2002.0     829\n",
       "2003.0     775\n",
       "2004.0     762\n",
       "2005.0     939\n",
       "2006.0    1006\n",
       "2007.0    1197\n",
       "2008.0    1427\n",
       "2009.0    1426\n",
       "2010.0    1255\n",
       "2011.0    1136\n",
       "2012.0     653\n",
       "2013.0     544\n",
       "2014.0     581\n",
       "2015.0     606\n",
       "2016.0     502\n",
       "Name: name, dtype: int64"
      ]
     },
     "execution_count": 20,
     "metadata": {},
     "output_type": "execute_result"
    }
   ],
   "source": [
    "counted_games = games.groupby('year_of_release')['name'].count()\n",
    "counted_games"
   ]
  },
  {
   "cell_type": "markdown",
   "metadata": {},
   "source": [
    "Можем наблюдать \"взрыв\" производства игр в конце нулевых, в 2008 году геймдев достиг своего апогея. В 2012 и последующих года выпуск игр сократился почти в два раза. Важными для анализа представляются игры, которые стали выходить с 2000 года, поскольку до данной даты игр выходило не много. "
   ]
  },
  {
   "cell_type": "code",
   "execution_count": 21,
   "metadata": {},
   "outputs": [
    {
     "data": {
      "image/png": "[encoded data removed]",
      "text/plain": [
       "<Figure size 432x288 with 1 Axes>"
      ]
     },
     "metadata": {
      "needs_background": "light"
     },
     "output_type": "display_data"
    }
   ],
   "source": [
    "# Построим гистограмму выпуска игр\n",
    "plt.hist(games['year_of_release'], bins=len(games['year_of_release'].unique())-1)\n",
    "plt.title('Ежегодный выпуск игр')\n",
    "plt.show()\n"
   ]
  },
  {
   "cell_type": "markdown",
   "metadata": {},
   "source": [
    "Видим \"бум\" выпуска игр в конце нулевых. Однако с 2012 можем наблюдать спад выпуска игр, с 2012 начинается новая тенденция выпуска. "
   ]
  },
  {
   "cell_type": "code",
   "execution_count": 22,
   "metadata": {},
   "outputs": [
    {
     "data": {
      "text/html": [
       "<div>\n",
       "<style scoped>\n",
       "    .dataframe tbody tr th:only-of-type {\n",
       "        vertical-align: middle;\n",
       "    }\n",
       "\n",
       "    .dataframe tbody tr th {\n",
       "        vertical-align: top;\n",
       "    }\n",
       "\n",
       "    .dataframe thead th {\n",
       "        text-align: right;\n",
       "    }\n",
       "</style>\n",
       "<table border=\"1\" class=\"dataframe\">\n",
       "  <thead>\n",
       "    <tr style=\"text-align: right;\">\n",
       "      <th></th>\n",
       "      <th>platform</th>\n",
       "      <th>all_sales</th>\n",
       "    </tr>\n",
       "  </thead>\n",
       "  <tbody>\n",
       "    <tr>\n",
       "      <th>0</th>\n",
       "      <td>PS2</td>\n",
       "      <td>1233.56</td>\n",
       "    </tr>\n",
       "    <tr>\n",
       "      <th>1</th>\n",
       "      <td>X360</td>\n",
       "      <td>961.24</td>\n",
       "    </tr>\n",
       "    <tr>\n",
       "      <th>2</th>\n",
       "      <td>PS3</td>\n",
       "      <td>931.34</td>\n",
       "    </tr>\n",
       "    <tr>\n",
       "      <th>3</th>\n",
       "      <td>Wii</td>\n",
       "      <td>891.18</td>\n",
       "    </tr>\n",
       "    <tr>\n",
       "      <th>4</th>\n",
       "      <td>DS</td>\n",
       "      <td>802.76</td>\n",
       "    </tr>\n",
       "    <tr>\n",
       "      <th>5</th>\n",
       "      <td>PS</td>\n",
       "      <td>727.58</td>\n",
       "    </tr>\n",
       "    <tr>\n",
       "      <th>6</th>\n",
       "      <td>PS4</td>\n",
       "      <td>314.14</td>\n",
       "    </tr>\n",
       "    <tr>\n",
       "      <th>7</th>\n",
       "      <td>GBA</td>\n",
       "      <td>312.88</td>\n",
       "    </tr>\n",
       "    <tr>\n",
       "      <th>8</th>\n",
       "      <td>PSP</td>\n",
       "      <td>289.53</td>\n",
       "    </tr>\n",
       "    <tr>\n",
       "      <th>9</th>\n",
       "      <td>3DS</td>\n",
       "      <td>257.81</td>\n",
       "    </tr>\n",
       "  </tbody>\n",
       "</table>\n",
       "</div>"
      ],
      "text/plain": [
       "  platform  all_sales\n",
       "0      PS2    1233.56\n",
       "1     X360     961.24\n",
       "2      PS3     931.34\n",
       "3      Wii     891.18\n",
       "4       DS     802.76\n",
       "5       PS     727.58\n",
       "6      PS4     314.14\n",
       "7      GBA     312.88\n",
       "8      PSP     289.53\n",
       "9      3DS     257.81"
      ]
     },
     "execution_count": 22,
     "metadata": {},
     "output_type": "execute_result"
    }
   ],
   "source": [
    "# проверим лучшие показатели проданных копий игр\n",
    "gaming = games.query('year_of_release >= 1990').groupby('platform')['all_sales'].sum().\\\n",
    "        sort_values(ascending=False).reset_index()\n",
    "gaming.head(10)"
   ]
  },
  {
   "cell_type": "code",
   "execution_count": 23,
   "metadata": {},
   "outputs": [
    {
     "data": {
      "text/html": [
       "<div>\n",
       "<style scoped>\n",
       "    .dataframe tbody tr th:only-of-type {\n",
       "        vertical-align: middle;\n",
       "    }\n",
       "\n",
       "    .dataframe tbody tr th {\n",
       "        vertical-align: top;\n",
       "    }\n",
       "\n",
       "    .dataframe thead th {\n",
       "        text-align: right;\n",
       "    }\n",
       "</style>\n",
       "<table border=\"1\" class=\"dataframe\">\n",
       "  <thead>\n",
       "    <tr style=\"text-align: right;\">\n",
       "      <th></th>\n",
       "      <th>platform</th>\n",
       "      <th>all_sales</th>\n",
       "    </tr>\n",
       "  </thead>\n",
       "  <tbody>\n",
       "    <tr>\n",
       "      <th>0</th>\n",
       "      <td>PS4</td>\n",
       "      <td>314.14</td>\n",
       "    </tr>\n",
       "    <tr>\n",
       "      <th>1</th>\n",
       "      <td>PS3</td>\n",
       "      <td>288.79</td>\n",
       "    </tr>\n",
       "    <tr>\n",
       "      <th>2</th>\n",
       "      <td>X360</td>\n",
       "      <td>236.54</td>\n",
       "    </tr>\n",
       "    <tr>\n",
       "      <th>3</th>\n",
       "      <td>3DS</td>\n",
       "      <td>194.61</td>\n",
       "    </tr>\n",
       "    <tr>\n",
       "      <th>4</th>\n",
       "      <td>XOne</td>\n",
       "      <td>159.32</td>\n",
       "    </tr>\n",
       "    <tr>\n",
       "      <th>5</th>\n",
       "      <td>WiiU</td>\n",
       "      <td>82.19</td>\n",
       "    </tr>\n",
       "    <tr>\n",
       "      <th>6</th>\n",
       "      <td>PC</td>\n",
       "      <td>62.65</td>\n",
       "    </tr>\n",
       "    <tr>\n",
       "      <th>7</th>\n",
       "      <td>PSV</td>\n",
       "      <td>49.18</td>\n",
       "    </tr>\n",
       "    <tr>\n",
       "      <th>8</th>\n",
       "      <td>Wii</td>\n",
       "      <td>35.37</td>\n",
       "    </tr>\n",
       "    <tr>\n",
       "      <th>9</th>\n",
       "      <td>DS</td>\n",
       "      <td>12.55</td>\n",
       "    </tr>\n",
       "  </tbody>\n",
       "</table>\n",
       "</div>"
      ],
      "text/plain": [
       "  platform  all_sales\n",
       "0      PS4     314.14\n",
       "1      PS3     288.79\n",
       "2     X360     236.54\n",
       "3      3DS     194.61\n",
       "4     XOne     159.32\n",
       "5     WiiU      82.19\n",
       "6       PC      62.65\n",
       "7      PSV      49.18\n",
       "8      Wii      35.37\n",
       "9       DS      12.55"
      ]
     },
     "execution_count": 23,
     "metadata": {},
     "output_type": "execute_result"
    }
   ],
   "source": [
    "# Посмотрим выпуск игр по консолям начиная с 2012\n",
    "actual_games = games.query('year_of_release > 2011')\n",
    "platform_all_sales = actual_games.query('year_of_release >= 2011').groupby('platform')['all_sales'].sum().\\\n",
    "            sort_values(ascending=False).reset_index()\n",
    "platform_all_sales.head(10)"
   ]
  },
  {
   "cell_type": "markdown",
   "metadata": {},
   "source": [
    "Возьмем для анализа первую десятку"
   ]
  },
  {
   "cell_type": "code",
   "execution_count": 24,
   "metadata": {},
   "outputs": [
    {
     "data": {
      "text/plain": [
       "['PS4', 'PS3', 'X360', '3DS', 'XOne', 'WiiU', 'PC', 'PSV', 'Wii', 'DS', 'PSP']"
      ]
     },
     "execution_count": 24,
     "metadata": {},
     "output_type": "execute_result"
    }
   ],
   "source": [
    "# топ платформы\n",
    "top_platforms = platform_all_sales['platform'].to_list()\n",
    "top_platforms"
   ]
  },
  {
   "cell_type": "code",
   "execution_count": 25,
   "metadata": {},
   "outputs": [
    {
     "data": {
      "text/html": [
       "<div>\n",
       "<style scoped>\n",
       "    .dataframe tbody tr th:only-of-type {\n",
       "        vertical-align: middle;\n",
       "    }\n",
       "\n",
       "    .dataframe tbody tr th {\n",
       "        vertical-align: top;\n",
       "    }\n",
       "\n",
       "    .dataframe thead th {\n",
       "        text-align: right;\n",
       "    }\n",
       "</style>\n",
       "<table border=\"1\" class=\"dataframe\">\n",
       "  <thead>\n",
       "    <tr style=\"text-align: right;\">\n",
       "      <th>year_of_release</th>\n",
       "      <th>2001.0</th>\n",
       "      <th>2002.0</th>\n",
       "      <th>2003.0</th>\n",
       "      <th>2004.0</th>\n",
       "      <th>2005.0</th>\n",
       "      <th>2006.0</th>\n",
       "      <th>2007.0</th>\n",
       "      <th>2008.0</th>\n",
       "      <th>2009.0</th>\n",
       "      <th>2010.0</th>\n",
       "      <th>2011.0</th>\n",
       "      <th>2012.0</th>\n",
       "      <th>2013.0</th>\n",
       "      <th>2014.0</th>\n",
       "      <th>2015.0</th>\n",
       "      <th>2016.0</th>\n",
       "    </tr>\n",
       "    <tr>\n",
       "      <th>platform</th>\n",
       "      <th></th>\n",
       "      <th></th>\n",
       "      <th></th>\n",
       "      <th></th>\n",
       "      <th></th>\n",
       "      <th></th>\n",
       "      <th></th>\n",
       "      <th></th>\n",
       "      <th></th>\n",
       "      <th></th>\n",
       "      <th></th>\n",
       "      <th></th>\n",
       "      <th></th>\n",
       "      <th></th>\n",
       "      <th></th>\n",
       "      <th></th>\n",
       "    </tr>\n",
       "  </thead>\n",
       "  <tbody>\n",
       "    <tr>\n",
       "      <th>3DS</th>\n",
       "      <td>-</td>\n",
       "      <td>-</td>\n",
       "      <td>-</td>\n",
       "      <td>-</td>\n",
       "      <td>-</td>\n",
       "      <td>-</td>\n",
       "      <td>-</td>\n",
       "      <td>-</td>\n",
       "      <td>-</td>\n",
       "      <td>-</td>\n",
       "      <td>116.0</td>\n",
       "      <td>93.0</td>\n",
       "      <td>91.0</td>\n",
       "      <td>80.0</td>\n",
       "      <td>86.0</td>\n",
       "      <td>46.0</td>\n",
       "    </tr>\n",
       "    <tr>\n",
       "      <th>DC</th>\n",
       "      <td>8.0</td>\n",
       "      <td>1.0</td>\n",
       "      <td>-</td>\n",
       "      <td>-</td>\n",
       "      <td>-</td>\n",
       "      <td>-</td>\n",
       "      <td>1.0</td>\n",
       "      <td>1.0</td>\n",
       "      <td>-</td>\n",
       "      <td>-</td>\n",
       "      <td>-</td>\n",
       "      <td>-</td>\n",
       "      <td>-</td>\n",
       "      <td>-</td>\n",
       "      <td>-</td>\n",
       "      <td>-</td>\n",
       "    </tr>\n",
       "    <tr>\n",
       "      <th>DS</th>\n",
       "      <td>-</td>\n",
       "      <td>-</td>\n",
       "      <td>-</td>\n",
       "      <td>23.0</td>\n",
       "      <td>118.0</td>\n",
       "      <td>201.0</td>\n",
       "      <td>376.0</td>\n",
       "      <td>492.0</td>\n",
       "      <td>403.0</td>\n",
       "      <td>323.0</td>\n",
       "      <td>153.0</td>\n",
       "      <td>23.0</td>\n",
       "      <td>8.0</td>\n",
       "      <td>-</td>\n",
       "      <td>-</td>\n",
       "      <td>-</td>\n",
       "    </tr>\n",
       "    <tr>\n",
       "      <th>GB</th>\n",
       "      <td>10.0</td>\n",
       "      <td>-</td>\n",
       "      <td>-</td>\n",
       "      <td>-</td>\n",
       "      <td>-</td>\n",
       "      <td>-</td>\n",
       "      <td>-</td>\n",
       "      <td>-</td>\n",
       "      <td>-</td>\n",
       "      <td>-</td>\n",
       "      <td>-</td>\n",
       "      <td>-</td>\n",
       "      <td>-</td>\n",
       "      <td>-</td>\n",
       "      <td>-</td>\n",
       "      <td>-</td>\n",
       "    </tr>\n",
       "    <tr>\n",
       "      <th>GBA</th>\n",
       "      <td>107.0</td>\n",
       "      <td>198.0</td>\n",
       "      <td>150.0</td>\n",
       "      <td>175.0</td>\n",
       "      <td>135.0</td>\n",
       "      <td>39.0</td>\n",
       "      <td>6.0</td>\n",
       "      <td>-</td>\n",
       "      <td>-</td>\n",
       "      <td>-</td>\n",
       "      <td>-</td>\n",
       "      <td>-</td>\n",
       "      <td>-</td>\n",
       "      <td>-</td>\n",
       "      <td>-</td>\n",
       "      <td>-</td>\n",
       "    </tr>\n",
       "    <tr>\n",
       "      <th>GC</th>\n",
       "      <td>22.0</td>\n",
       "      <td>152.0</td>\n",
       "      <td>144.0</td>\n",
       "      <td>83.0</td>\n",
       "      <td>97.0</td>\n",
       "      <td>40.0</td>\n",
       "      <td>4.0</td>\n",
       "      <td>-</td>\n",
       "      <td>-</td>\n",
       "      <td>-</td>\n",
       "      <td>-</td>\n",
       "      <td>-</td>\n",
       "      <td>-</td>\n",
       "      <td>-</td>\n",
       "      <td>-</td>\n",
       "      <td>-</td>\n",
       "    </tr>\n",
       "    <tr>\n",
       "      <th>N64</th>\n",
       "      <td>9.0</td>\n",
       "      <td>1.0</td>\n",
       "      <td>-</td>\n",
       "      <td>-</td>\n",
       "      <td>-</td>\n",
       "      <td>-</td>\n",
       "      <td>-</td>\n",
       "      <td>-</td>\n",
       "      <td>-</td>\n",
       "      <td>-</td>\n",
       "      <td>-</td>\n",
       "      <td>-</td>\n",
       "      <td>-</td>\n",
       "      <td>-</td>\n",
       "      <td>-</td>\n",
       "      <td>-</td>\n",
       "    </tr>\n",
       "    <tr>\n",
       "      <th>PC</th>\n",
       "      <td>15.0</td>\n",
       "      <td>19.0</td>\n",
       "      <td>33.0</td>\n",
       "      <td>30.0</td>\n",
       "      <td>37.0</td>\n",
       "      <td>52.0</td>\n",
       "      <td>62.0</td>\n",
       "      <td>76.0</td>\n",
       "      <td>107.0</td>\n",
       "      <td>90.0</td>\n",
       "      <td>139.0</td>\n",
       "      <td>61.0</td>\n",
       "      <td>38.0</td>\n",
       "      <td>47.0</td>\n",
       "      <td>50.0</td>\n",
       "      <td>54.0</td>\n",
       "    </tr>\n",
       "    <tr>\n",
       "      <th>PS</th>\n",
       "      <td>91.0</td>\n",
       "      <td>20.0</td>\n",
       "      <td>3.0</td>\n",
       "      <td>-</td>\n",
       "      <td>-</td>\n",
       "      <td>-</td>\n",
       "      <td>-</td>\n",
       "      <td>-</td>\n",
       "      <td>-</td>\n",
       "      <td>-</td>\n",
       "      <td>-</td>\n",
       "      <td>-</td>\n",
       "      <td>-</td>\n",
       "      <td>-</td>\n",
       "      <td>-</td>\n",
       "      <td>-</td>\n",
       "    </tr>\n",
       "    <tr>\n",
       "      <th>PS2</th>\n",
       "      <td>185.0</td>\n",
       "      <td>280.0</td>\n",
       "      <td>256.0</td>\n",
       "      <td>259.0</td>\n",
       "      <td>260.0</td>\n",
       "      <td>259.0</td>\n",
       "      <td>214.0</td>\n",
       "      <td>191.0</td>\n",
       "      <td>96.0</td>\n",
       "      <td>38.0</td>\n",
       "      <td>7.0</td>\n",
       "      <td>-</td>\n",
       "      <td>-</td>\n",
       "      <td>-</td>\n",
       "      <td>-</td>\n",
       "      <td>-</td>\n",
       "    </tr>\n",
       "    <tr>\n",
       "      <th>PS3</th>\n",
       "      <td>-</td>\n",
       "      <td>-</td>\n",
       "      <td>-</td>\n",
       "      <td>-</td>\n",
       "      <td>-</td>\n",
       "      <td>27.0</td>\n",
       "      <td>90.0</td>\n",
       "      <td>138.0</td>\n",
       "      <td>162.0</td>\n",
       "      <td>181.0</td>\n",
       "      <td>215.0</td>\n",
       "      <td>148.0</td>\n",
       "      <td>126.0</td>\n",
       "      <td>108.0</td>\n",
       "      <td>73.0</td>\n",
       "      <td>38.0</td>\n",
       "    </tr>\n",
       "    <tr>\n",
       "      <th>PS4</th>\n",
       "      <td>-</td>\n",
       "      <td>-</td>\n",
       "      <td>-</td>\n",
       "      <td>-</td>\n",
       "      <td>-</td>\n",
       "      <td>-</td>\n",
       "      <td>-</td>\n",
       "      <td>-</td>\n",
       "      <td>-</td>\n",
       "      <td>-</td>\n",
       "      <td>-</td>\n",
       "      <td>-</td>\n",
       "      <td>16.0</td>\n",
       "      <td>75.0</td>\n",
       "      <td>137.0</td>\n",
       "      <td>164.0</td>\n",
       "    </tr>\n",
       "    <tr>\n",
       "      <th>PSP</th>\n",
       "      <td>-</td>\n",
       "      <td>-</td>\n",
       "      <td>-</td>\n",
       "      <td>15.0</td>\n",
       "      <td>95.0</td>\n",
       "      <td>189.0</td>\n",
       "      <td>133.0</td>\n",
       "      <td>100.0</td>\n",
       "      <td>161.0</td>\n",
       "      <td>188.0</td>\n",
       "      <td>139.0</td>\n",
       "      <td>106.0</td>\n",
       "      <td>54.0</td>\n",
       "      <td>10.0</td>\n",
       "      <td>3.0</td>\n",
       "      <td>-</td>\n",
       "    </tr>\n",
       "    <tr>\n",
       "      <th>PSV</th>\n",
       "      <td>-</td>\n",
       "      <td>-</td>\n",
       "      <td>-</td>\n",
       "      <td>-</td>\n",
       "      <td>-</td>\n",
       "      <td>-</td>\n",
       "      <td>-</td>\n",
       "      <td>-</td>\n",
       "      <td>-</td>\n",
       "      <td>-</td>\n",
       "      <td>18.0</td>\n",
       "      <td>53.0</td>\n",
       "      <td>63.0</td>\n",
       "      <td>100.0</td>\n",
       "      <td>110.0</td>\n",
       "      <td>85.0</td>\n",
       "    </tr>\n",
       "    <tr>\n",
       "      <th>WS</th>\n",
       "      <td>2.0</td>\n",
       "      <td>-</td>\n",
       "      <td>-</td>\n",
       "      <td>-</td>\n",
       "      <td>-</td>\n",
       "      <td>-</td>\n",
       "      <td>-</td>\n",
       "      <td>-</td>\n",
       "      <td>-</td>\n",
       "      <td>-</td>\n",
       "      <td>-</td>\n",
       "      <td>-</td>\n",
       "      <td>-</td>\n",
       "      <td>-</td>\n",
       "      <td>-</td>\n",
       "      <td>-</td>\n",
       "    </tr>\n",
       "    <tr>\n",
       "      <th>Wii</th>\n",
       "      <td>-</td>\n",
       "      <td>-</td>\n",
       "      <td>-</td>\n",
       "      <td>-</td>\n",
       "      <td>-</td>\n",
       "      <td>44.0</td>\n",
       "      <td>185.0</td>\n",
       "      <td>282.0</td>\n",
       "      <td>325.0</td>\n",
       "      <td>253.0</td>\n",
       "      <td>143.0</td>\n",
       "      <td>31.0</td>\n",
       "      <td>12.0</td>\n",
       "      <td>6.0</td>\n",
       "      <td>4.0</td>\n",
       "      <td>1.0</td>\n",
       "    </tr>\n",
       "    <tr>\n",
       "      <th>WiiU</th>\n",
       "      <td>-</td>\n",
       "      <td>-</td>\n",
       "      <td>-</td>\n",
       "      <td>-</td>\n",
       "      <td>-</td>\n",
       "      <td>-</td>\n",
       "      <td>-</td>\n",
       "      <td>-</td>\n",
       "      <td>-</td>\n",
       "      <td>-</td>\n",
       "      <td>-</td>\n",
       "      <td>32.0</td>\n",
       "      <td>42.0</td>\n",
       "      <td>31.0</td>\n",
       "      <td>28.0</td>\n",
       "      <td>14.0</td>\n",
       "    </tr>\n",
       "    <tr>\n",
       "      <th>X360</th>\n",
       "      <td>-</td>\n",
       "      <td>-</td>\n",
       "      <td>-</td>\n",
       "      <td>-</td>\n",
       "      <td>18.0</td>\n",
       "      <td>93.0</td>\n",
       "      <td>123.0</td>\n",
       "      <td>146.0</td>\n",
       "      <td>172.0</td>\n",
       "      <td>182.0</td>\n",
       "      <td>206.0</td>\n",
       "      <td>106.0</td>\n",
       "      <td>75.0</td>\n",
       "      <td>63.0</td>\n",
       "      <td>35.0</td>\n",
       "      <td>13.0</td>\n",
       "    </tr>\n",
       "    <tr>\n",
       "      <th>XB</th>\n",
       "      <td>33.0</td>\n",
       "      <td>158.0</td>\n",
       "      <td>189.0</td>\n",
       "      <td>177.0</td>\n",
       "      <td>179.0</td>\n",
       "      <td>62.0</td>\n",
       "      <td>3.0</td>\n",
       "      <td>1.0</td>\n",
       "      <td>-</td>\n",
       "      <td>-</td>\n",
       "      <td>-</td>\n",
       "      <td>-</td>\n",
       "      <td>-</td>\n",
       "      <td>-</td>\n",
       "      <td>-</td>\n",
       "      <td>-</td>\n",
       "    </tr>\n",
       "    <tr>\n",
       "      <th>XOne</th>\n",
       "      <td>-</td>\n",
       "      <td>-</td>\n",
       "      <td>-</td>\n",
       "      <td>-</td>\n",
       "      <td>-</td>\n",
       "      <td>-</td>\n",
       "      <td>-</td>\n",
       "      <td>-</td>\n",
       "      <td>-</td>\n",
       "      <td>-</td>\n",
       "      <td>-</td>\n",
       "      <td>-</td>\n",
       "      <td>19.0</td>\n",
       "      <td>61.0</td>\n",
       "      <td>80.0</td>\n",
       "      <td>87.0</td>\n",
       "    </tr>\n",
       "  </tbody>\n",
       "</table>\n",
       "</div>"
      ],
      "text/plain": [
       "year_of_release 2001.0 2002.0 2003.0 2004.0 2005.0 2006.0 2007.0 2008.0  \\\n",
       "platform                                                                  \n",
       "3DS                  -      -      -      -      -      -      -      -   \n",
       "DC                 8.0    1.0      -      -      -      -    1.0    1.0   \n",
       "DS                   -      -      -   23.0  118.0  201.0  376.0  492.0   \n",
       "GB                10.0      -      -      -      -      -      -      -   \n",
       "GBA              107.0  198.0  150.0  175.0  135.0   39.0    6.0      -   \n",
       "GC                22.0  152.0  144.0   83.0   97.0   40.0    4.0      -   \n",
       "N64                9.0    1.0      -      -      -      -      -      -   \n",
       "PC                15.0   19.0   33.0   30.0   37.0   52.0   62.0   76.0   \n",
       "PS                91.0   20.0    3.0      -      -      -      -      -   \n",
       "PS2              185.0  280.0  256.0  259.0  260.0  259.0  214.0  191.0   \n",
       "PS3                  -      -      -      -      -   27.0   90.0  138.0   \n",
       "PS4                  -      -      -      -      -      -      -      -   \n",
       "PSP                  -      -      -   15.0   95.0  189.0  133.0  100.0   \n",
       "PSV                  -      -      -      -      -      -      -      -   \n",
       "WS                 2.0      -      -      -      -      -      -      -   \n",
       "Wii                  -      -      -      -      -   44.0  185.0  282.0   \n",
       "WiiU                 -      -      -      -      -      -      -      -   \n",
       "X360                 -      -      -      -   18.0   93.0  123.0  146.0   \n",
       "XB                33.0  158.0  189.0  177.0  179.0   62.0    3.0    1.0   \n",
       "XOne                 -      -      -      -      -      -      -      -   \n",
       "\n",
       "year_of_release 2009.0 2010.0 2011.0 2012.0 2013.0 2014.0 2015.0 2016.0  \n",
       "platform                                                                 \n",
       "3DS                  -      -  116.0   93.0   91.0   80.0   86.0   46.0  \n",
       "DC                   -      -      -      -      -      -      -      -  \n",
       "DS               403.0  323.0  153.0   23.0    8.0      -      -      -  \n",
       "GB                   -      -      -      -      -      -      -      -  \n",
       "GBA                  -      -      -      -      -      -      -      -  \n",
       "GC                   -      -      -      -      -      -      -      -  \n",
       "N64                  -      -      -      -      -      -      -      -  \n",
       "PC               107.0   90.0  139.0   61.0   38.0   47.0   50.0   54.0  \n",
       "PS                   -      -      -      -      -      -      -      -  \n",
       "PS2               96.0   38.0    7.0      -      -      -      -      -  \n",
       "PS3              162.0  181.0  215.0  148.0  126.0  108.0   73.0   38.0  \n",
       "PS4                  -      -      -      -   16.0   75.0  137.0  164.0  \n",
       "PSP              161.0  188.0  139.0  106.0   54.0   10.0    3.0      -  \n",
       "PSV                  -      -   18.0   53.0   63.0  100.0  110.0   85.0  \n",
       "WS                   -      -      -      -      -      -      -      -  \n",
       "Wii              325.0  253.0  143.0   31.0   12.0    6.0    4.0    1.0  \n",
       "WiiU                 -      -      -   32.0   42.0   31.0   28.0   14.0  \n",
       "X360             172.0  182.0  206.0  106.0   75.0   63.0   35.0   13.0  \n",
       "XB                   -      -      -      -      -      -      -      -  \n",
       "XOne                 -      -      -      -   19.0   61.0   80.0   87.0  "
      ]
     },
     "execution_count": 25,
     "metadata": {},
     "output_type": "execute_result"
    }
   ],
   "source": [
    "games.query('year_of_release > 2000'). \\\n",
    "    pivot_table(index='platform', columns='year_of_release',values='name', aggfunc='count', fill_value='-')"
   ]
  },
  {
   "cell_type": "markdown",
   "metadata": {},
   "source": [
    "По таблице можно сделать вывод, что характерный срок работы платформы около 8 - 10 лет. Актуальный период 2012 - 2016 года, когда произведенных игр существенно сократилось. Самыми прибыльными платформами последних лет (2010-2016) являются PS4, PS3, X360, PC, PSV, 3DS, XOne."
   ]
  },
  {
   "cell_type": "markdown",
   "metadata": {},
   "source": [
    "**Какие платформы лидируют по продажам, растут или падают? Выберите несколько потенциально прибыльных платформ.**"
   ]
  },
  {
   "cell_type": "code",
   "execution_count": 26,
   "metadata": {},
   "outputs": [
    {
     "data": {
      "text/html": [
       "<div>\n",
       "<style scoped>\n",
       "    .dataframe tbody tr th:only-of-type {\n",
       "        vertical-align: middle;\n",
       "    }\n",
       "\n",
       "    .dataframe tbody tr th {\n",
       "        vertical-align: top;\n",
       "    }\n",
       "\n",
       "    .dataframe thead th {\n",
       "        text-align: right;\n",
       "    }\n",
       "</style>\n",
       "<table border=\"1\" class=\"dataframe\">\n",
       "  <thead>\n",
       "    <tr style=\"text-align: right;\">\n",
       "      <th></th>\n",
       "      <th>platform</th>\n",
       "      <th>all_sales</th>\n",
       "    </tr>\n",
       "  </thead>\n",
       "  <tbody>\n",
       "    <tr>\n",
       "      <th>0</th>\n",
       "      <td>PS4</td>\n",
       "      <td>314.14</td>\n",
       "    </tr>\n",
       "    <tr>\n",
       "      <th>1</th>\n",
       "      <td>PS3</td>\n",
       "      <td>288.79</td>\n",
       "    </tr>\n",
       "    <tr>\n",
       "      <th>2</th>\n",
       "      <td>X360</td>\n",
       "      <td>236.54</td>\n",
       "    </tr>\n",
       "    <tr>\n",
       "      <th>3</th>\n",
       "      <td>3DS</td>\n",
       "      <td>194.61</td>\n",
       "    </tr>\n",
       "    <tr>\n",
       "      <th>4</th>\n",
       "      <td>XOne</td>\n",
       "      <td>159.32</td>\n",
       "    </tr>\n",
       "    <tr>\n",
       "      <th>5</th>\n",
       "      <td>WiiU</td>\n",
       "      <td>82.19</td>\n",
       "    </tr>\n",
       "    <tr>\n",
       "      <th>6</th>\n",
       "      <td>PC</td>\n",
       "      <td>62.65</td>\n",
       "    </tr>\n",
       "    <tr>\n",
       "      <th>7</th>\n",
       "      <td>PSV</td>\n",
       "      <td>49.18</td>\n",
       "    </tr>\n",
       "    <tr>\n",
       "      <th>8</th>\n",
       "      <td>Wii</td>\n",
       "      <td>35.37</td>\n",
       "    </tr>\n",
       "    <tr>\n",
       "      <th>9</th>\n",
       "      <td>DS</td>\n",
       "      <td>12.55</td>\n",
       "    </tr>\n",
       "  </tbody>\n",
       "</table>\n",
       "</div>"
      ],
      "text/plain": [
       "  platform  all_sales\n",
       "0      PS4     314.14\n",
       "1      PS3     288.79\n",
       "2     X360     236.54\n",
       "3      3DS     194.61\n",
       "4     XOne     159.32\n",
       "5     WiiU      82.19\n",
       "6       PC      62.65\n",
       "7      PSV      49.18\n",
       "8      Wii      35.37\n",
       "9       DS      12.55"
      ]
     },
     "execution_count": 26,
     "metadata": {},
     "output_type": "execute_result"
    }
   ],
   "source": [
    "platforms = actual_games.groupby('platform')['all_sales'].sum().sort_values(ascending=False).reset_index()\n",
    "platforms.head(10)"
   ]
  },
  {
   "cell_type": "code",
   "execution_count": 27,
   "metadata": {},
   "outputs": [
    {
     "data": {
      "text/html": [
       "<div>\n",
       "<style scoped>\n",
       "    .dataframe tbody tr th:only-of-type {\n",
       "        vertical-align: middle;\n",
       "    }\n",
       "\n",
       "    .dataframe tbody tr th {\n",
       "        vertical-align: top;\n",
       "    }\n",
       "\n",
       "    .dataframe thead th {\n",
       "        text-align: right;\n",
       "    }\n",
       "</style>\n",
       "<table border=\"1\" class=\"dataframe\">\n",
       "  <thead>\n",
       "    <tr style=\"text-align: right;\">\n",
       "      <th>platform</th>\n",
       "      <th>year_of_release</th>\n",
       "      <th>3DS</th>\n",
       "      <th>DS</th>\n",
       "      <th>PC</th>\n",
       "      <th>PS3</th>\n",
       "      <th>PS4</th>\n",
       "      <th>PSP</th>\n",
       "      <th>PSV</th>\n",
       "      <th>Wii</th>\n",
       "      <th>WiiU</th>\n",
       "      <th>X360</th>\n",
       "      <th>XOne</th>\n",
       "    </tr>\n",
       "  </thead>\n",
       "  <tbody>\n",
       "    <tr>\n",
       "      <th>0</th>\n",
       "      <td>2012.0</td>\n",
       "      <td>51.36</td>\n",
       "      <td>11.01</td>\n",
       "      <td>23.22</td>\n",
       "      <td>107.36</td>\n",
       "      <td>NaN</td>\n",
       "      <td>7.69</td>\n",
       "      <td>16.19</td>\n",
       "      <td>21.71</td>\n",
       "      <td>17.56</td>\n",
       "      <td>99.74</td>\n",
       "      <td>NaN</td>\n",
       "    </tr>\n",
       "    <tr>\n",
       "      <th>1</th>\n",
       "      <td>2013.0</td>\n",
       "      <td>56.57</td>\n",
       "      <td>1.54</td>\n",
       "      <td>12.38</td>\n",
       "      <td>113.25</td>\n",
       "      <td>25.99</td>\n",
       "      <td>3.14</td>\n",
       "      <td>10.59</td>\n",
       "      <td>8.59</td>\n",
       "      <td>21.65</td>\n",
       "      <td>88.58</td>\n",
       "      <td>18.96</td>\n",
       "    </tr>\n",
       "    <tr>\n",
       "      <th>2</th>\n",
       "      <td>2014.0</td>\n",
       "      <td>43.76</td>\n",
       "      <td>NaN</td>\n",
       "      <td>13.28</td>\n",
       "      <td>47.76</td>\n",
       "      <td>100.00</td>\n",
       "      <td>0.24</td>\n",
       "      <td>11.90</td>\n",
       "      <td>3.75</td>\n",
       "      <td>22.03</td>\n",
       "      <td>34.74</td>\n",
       "      <td>54.07</td>\n",
       "    </tr>\n",
       "    <tr>\n",
       "      <th>3</th>\n",
       "      <td>2015.0</td>\n",
       "      <td>27.78</td>\n",
       "      <td>NaN</td>\n",
       "      <td>8.52</td>\n",
       "      <td>16.82</td>\n",
       "      <td>118.90</td>\n",
       "      <td>0.12</td>\n",
       "      <td>6.25</td>\n",
       "      <td>1.14</td>\n",
       "      <td>16.35</td>\n",
       "      <td>11.96</td>\n",
       "      <td>60.14</td>\n",
       "    </tr>\n",
       "    <tr>\n",
       "      <th>4</th>\n",
       "      <td>2016.0</td>\n",
       "      <td>15.14</td>\n",
       "      <td>NaN</td>\n",
       "      <td>5.25</td>\n",
       "      <td>3.60</td>\n",
       "      <td>69.25</td>\n",
       "      <td>NaN</td>\n",
       "      <td>4.25</td>\n",
       "      <td>0.18</td>\n",
       "      <td>4.60</td>\n",
       "      <td>1.52</td>\n",
       "      <td>26.15</td>\n",
       "    </tr>\n",
       "  </tbody>\n",
       "</table>\n",
       "</div>"
      ],
      "text/plain": [
       "platform  year_of_release    3DS     DS     PC     PS3     PS4   PSP    PSV  \\\n",
       "0                  2012.0  51.36  11.01  23.22  107.36     NaN  7.69  16.19   \n",
       "1                  2013.0  56.57   1.54  12.38  113.25   25.99  3.14  10.59   \n",
       "2                  2014.0  43.76    NaN  13.28   47.76  100.00  0.24  11.90   \n",
       "3                  2015.0  27.78    NaN   8.52   16.82  118.90  0.12   6.25   \n",
       "4                  2016.0  15.14    NaN   5.25    3.60   69.25   NaN   4.25   \n",
       "\n",
       "platform    Wii   WiiU   X360   XOne  \n",
       "0         21.71  17.56  99.74    NaN  \n",
       "1          8.59  21.65  88.58  18.96  \n",
       "2          3.75  22.03  34.74  54.07  \n",
       "3          1.14  16.35  11.96  60.14  \n",
       "4          0.18   4.60   1.52  26.15  "
      ]
     },
     "execution_count": 27,
     "metadata": {},
     "output_type": "execute_result"
    }
   ],
   "source": [
    "platforms_top_sales = actual_games.pivot_table(index='year_of_release', columns='platform', \\\n",
    "                                        values='all_sales', aggfunc='sum')\\\n",
    "                                        .reset_index()\n",
    "platforms_top_sales"
   ]
  },
  {
   "cell_type": "markdown",
   "metadata": {},
   "source": [
    "Продажи по всем платформам падают. Потенциально прибыльными платформами последних лет являются PS4, PS3, X360, PC. Однако надо заметить, что падение выпуска игр может быть связано с тем, что платформы ожидают нового поколения, поскольку они постепенно приближаются к своему характерному сроку работы.  "
   ]
  },
  {
   "cell_type": "markdown",
   "metadata": {},
   "source": [
    "**График «ящик с усами» по глобальным продажам игр в разбивке по платформам.**"
   ]
  },
  {
   "cell_type": "code",
   "execution_count": 28,
   "metadata": {},
   "outputs": [
    {
     "name": "stderr",
     "output_type": "stream",
     "text": [
      "/opt/conda/lib/python3.9/site-packages/seaborn/categorical.py:3805: UserWarning: Setting `sharey=False` with `color=None` may cause different levels of the `y` variable to share colors. This will change in a future version.\n",
      "  warnings.warn(msg.format(\"sharey\", \"y\"), UserWarning)\n"
     ]
    },
    {
     "data": {
      "text/plain": [
       "<seaborn.axisgrid.FacetGrid at 0x7fced8f62df0>"
      ]
     },
     "execution_count": 28,
     "metadata": {},
     "output_type": "execute_result"
    },
    {
     "data": {
      "image/png": "[encoded data removed]",
      "text/plain": [
       "<Figure size 360x360 with 1 Axes>"
      ]
     },
     "metadata": {
      "needs_background": "light"
     },
     "output_type": "display_data"
    }
   ],
   "source": [
    "import seaborn as sns\n",
    "sns.catplot(data=actual_games, kind='box', x='all_sales', y='platform', sharey=False)"
   ]
  },
  {
   "cell_type": "code",
   "execution_count": 29,
   "metadata": {},
   "outputs": [
    {
     "name": "stderr",
     "output_type": "stream",
     "text": [
      "/opt/conda/lib/python3.9/site-packages/seaborn/categorical.py:3805: UserWarning: Setting `sharey=False` with `color=None` may cause different levels of the `y` variable to share colors. This will change in a future version.\n",
      "  warnings.warn(msg.format(\"sharey\", \"y\"), UserWarning)\n"
     ]
    },
    {
     "data": {
      "text/plain": [
       "<seaborn.axisgrid.FacetGrid at 0x7fced8f6bbe0>"
      ]
     },
     "execution_count": 29,
     "metadata": {},
     "output_type": "execute_result"
    },
    {
     "data": {
      "image/png": "[encoded data removed]",
      "text/plain": [
       "<Figure size 720x720 with 1 Axes>"
      ]
     },
     "metadata": {
      "needs_background": "light"
     },
     "output_type": "display_data"
    }
   ],
   "source": [
    "sns.catplot(data=actual_games, kind='box', x='all_sales', y='platform',sharey=False, showfliers=False, height=10,\n",
    "            width = 0.5 \n",
    ")\n"
   ]
  },
  {
   "cell_type": "markdown",
   "metadata": {},
   "source": [
    "Построил два графика, первый демонстрирует всю статистику с выбросами, во втором исключены выбросы."
   ]
  },
  {
   "cell_type": "markdown",
   "metadata": {},
   "source": [
    "Согласно графику самыми успешными платформами являются Wii, WiiU PS3, PS4 XONE, X360"
   ]
  },
  {
   "cell_type": "markdown",
   "metadata": {},
   "source": [
    "**Как влияют на продажи внутри одной популярной платформы отзывы пользователей и критиков?**\n"
   ]
  },
  {
   "cell_type": "markdown",
   "metadata": {},
   "source": [
    "Согласно \"Ящику с усами\" самой популярной консолью является X360. "
   ]
  },
  {
   "cell_type": "code",
   "execution_count": 30,
   "metadata": {},
   "outputs": [
    {
     "data": {
      "image/png": "[encoded data removed]",
      "text/plain": [
       "<Figure size 576x576 with 1 Axes>"
      ]
     },
     "metadata": {
      "needs_background": "light"
     },
     "output_type": "display_data"
    }
   ],
   "source": [
    "# выведем таблицу рассеивания по PS4, отобразив отзывы пользователей\n",
    "actual_games[actual_games['platform']=='PS4'].plot(x='user_score', y='all_sales', \n",
    "                                                   kind='scatter', alpha=0.5, figsize=(8,8), grid=True)\n",
    "plt.show()\n"
   ]
  },
  {
   "cell_type": "code",
   "execution_count": 31,
   "metadata": {},
   "outputs": [
    {
     "data": {
      "image/png": "[encoded data removed]",
      "text/plain": [
       "<Figure size 576x576 with 1 Axes>"
      ]
     },
     "metadata": {
      "needs_background": "light"
     },
     "output_type": "display_data"
    }
   ],
   "source": [
    "# выведем таблицу рассеивания по PS4, отобразив отзывы критиков\n",
    "actual_games[actual_games['platform']=='PS4'].plot(x='critic_score', y='all_sales', \n",
    "                                                   kind='scatter', alpha=0.5, figsize=(8,8), grid=True)\n",
    "plt.show()"
   ]
  },
  {
   "cell_type": "code",
   "execution_count": 32,
   "metadata": {},
   "outputs": [
    {
     "name": "stdout",
     "output_type": "stream",
     "text": [
      "Корреляция отзывов критиков и продаж для платформы PS4: 0.406567902061781\n"
     ]
    }
   ],
   "source": [
    "print(\"Корреляция отзывов критиков и продаж для платформы PS4:\", \\\n",
    "      actual_games.query('platform == \"PS4\"')['all_sales'].\\\n",
    "                                        corr(actual_games.query('platform == \"PS4\"')['critic_score']))"
   ]
  },
  {
   "cell_type": "code",
   "execution_count": 33,
   "metadata": {},
   "outputs": [
    {
     "name": "stdout",
     "output_type": "stream",
     "text": [
      "Корреляция отзывов пользователей и продаж для платформы PS4: -0.031957110204556376\n"
     ]
    }
   ],
   "source": [
    "print(\"Корреляция отзывов пользователей и продаж для платформы PS4:\", \\\n",
    "      actual_games.query('platform == \"PS4\"')['all_sales'].\\\n",
    "                                        corr(actual_games.query('platform == \"PS4\"')['user_score']))"
   ]
  },
  {
   "cell_type": "code",
   "execution_count": 34,
   "metadata": {},
   "outputs": [
    {
     "data": {
      "image/png": "[encoded data removed]",
      "text/plain": [
       "<Figure size 576x576 with 1 Axes>"
      ]
     },
     "metadata": {
      "needs_background": "light"
     },
     "output_type": "display_data"
    }
   ],
   "source": [
    "# выведем таблицу рассеивания по X360, отобразив отзывы пользователей\n",
    "actual_games[actual_games['platform']=='X360'].plot(x='user_score', \n",
    "                                                    y='all_sales', kind='scatter', alpha=0.5,\n",
    "                                                    figsize=(8,8), grid=True)\n",
    "plt.show()"
   ]
  },
  {
   "cell_type": "code",
   "execution_count": 35,
   "metadata": {},
   "outputs": [
    {
     "data": {
      "image/png": "[encoded data removed]",
      "text/plain": [
       "<Figure size 576x576 with 1 Axes>"
      ]
     },
     "metadata": {
      "needs_background": "light"
     },
     "output_type": "display_data"
    }
   ],
   "source": [
    "# выведем таблицу рассеивания по X360, отобразив отзывы критиков\n",
    "actual_games[actual_games['platform']=='X360'].plot(x='critic_score', y='all_sales', \n",
    "                                                   kind='scatter', alpha=0.5, figsize=(8,8), grid=True)\n",
    "plt.show()"
   ]
  },
  {
   "cell_type": "code",
   "execution_count": 36,
   "metadata": {},
   "outputs": [
    {
     "name": "stdout",
     "output_type": "stream",
     "text": [
      "Корреляция отзывов пользователей и продаж для платформы X360: 0.0061639786462133256\n"
     ]
    }
   ],
   "source": [
    "print(\"Корреляция отзывов пользователей и продаж для платформы X360:\", actual_games.query('platform == \"X360\"')['all_sales'].\\\n",
    "                                        corr(actual_games.query('platform == \"X360\"')['user_score']))"
   ]
  },
  {
   "cell_type": "code",
   "execution_count": 37,
   "metadata": {},
   "outputs": [
    {
     "name": "stdout",
     "output_type": "stream",
     "text": [
      "Корреляция отзывов критиков и продаж для платформы X360: 0.36057348885073365\n"
     ]
    }
   ],
   "source": [
    "print(\"Корреляция отзывов критиков и продаж для платформы X360:\", actual_games.query('platform == \"X360\"')['all_sales'].\\\n",
    "                                        corr(actual_games.query('platform == \"X360\"')['critic_score']))"
   ]
  },
  {
   "cell_type": "code",
   "execution_count": 38,
   "metadata": {},
   "outputs": [
    {
     "data": {
      "image/png": "[encoded data removed]",
      "text/plain": [
       "<Figure size 576x576 with 1 Axes>"
      ]
     },
     "metadata": {
      "needs_background": "light"
     },
     "output_type": "display_data"
    }
   ],
   "source": [
    "# выведем таблицу рассеивания по X360, отобразив отзывы пользователей\n",
    "actual_games[actual_games['platform']=='Wii'].plot(x='user_score', \n",
    "                                                    y='all_sales', kind='scatter', alpha=0.5,\n",
    "                                                    figsize=(8,8), grid=True)\n",
    "plt.show()"
   ]
  },
  {
   "cell_type": "code",
   "execution_count": 39,
   "metadata": {},
   "outputs": [
    {
     "data": {
      "image/png": "[encoded data removed]",
      "text/plain": [
       "<Figure size 576x576 with 1 Axes>"
      ]
     },
     "metadata": {
      "needs_background": "light"
     },
     "output_type": "display_data"
    }
   ],
   "source": [
    "# выведем таблицу рассеивания по X360, отобразив отзывы критиков\n",
    "actual_games[actual_games['platform']=='Wii'].plot(x='critic_score', \n",
    "                                                    y='all_sales', kind='scatter', alpha=0.5,\n",
    "                                                    figsize=(8,8), grid=True)\n",
    "plt.show()"
   ]
  },
  {
   "cell_type": "code",
   "execution_count": 40,
   "metadata": {},
   "outputs": [
    {
     "name": "stdout",
     "output_type": "stream",
     "text": [
      "Корреляция отзывов критиков и продаж для платформы Wii: 0.2961968000747953\n"
     ]
    }
   ],
   "source": [
    "print(\"Корреляция отзывов критиков и продаж для платформы Wii:\", actual_games.query('platform == \"Wii\"')['all_sales'].\\\n",
    "                                        corr(actual_games.query('platform == \"Wii\"')['user_score']))"
   ]
  },
  {
   "cell_type": "code",
   "execution_count": 41,
   "metadata": {},
   "outputs": [
    {
     "name": "stdout",
     "output_type": "stream",
     "text": [
      "Корреляция отзывов пользователей и продаж для платформы Wii: -0.4243413011077495\n"
     ]
    }
   ],
   "source": [
    "print(\"Корреляция отзывов пользователей и продаж для платформы Wii:\", actual_games.query('platform == \"Wii\"')['all_sales'].\\\n",
    "                                        corr(actual_games.query('platform == \"Wii\"')['critic_score']))"
   ]
  },
  {
   "cell_type": "markdown",
   "metadata": {},
   "source": [
    "<div style=\"background: #B0E0E6; padding: 5px; border: 1px solid SteelBlue; border-radius: 5px;\">\n",
    "    <font color='4682B4'><u><b>  Оценки критиков игр Wii, как было в ситуации с PS4 и X360, не демонстрируют прямую корреляцию с \"цифрами\" продаж.\n",
    "    Ситуация складывается обратным образом,\n",
    "    оценки критиков корреляции с продажами не имеют, в то время как оценка пользователей показывает среднюю корреляцию с продажами.\n",
    "  </b></u></font>\n",
    "    <br />\n",
    "</div>"
   ]
  },
  {
   "cell_type": "code",
   "execution_count": 42,
   "metadata": {},
   "outputs": [
    {
     "data": {
      "text/html": [
       "<div>\n",
       "<style scoped>\n",
       "    .dataframe tbody tr th:only-of-type {\n",
       "        vertical-align: middle;\n",
       "    }\n",
       "\n",
       "    .dataframe tbody tr th {\n",
       "        vertical-align: top;\n",
       "    }\n",
       "\n",
       "    .dataframe thead th {\n",
       "        text-align: right;\n",
       "    }\n",
       "</style>\n",
       "<table border=\"1\" class=\"dataframe\">\n",
       "  <thead>\n",
       "    <tr style=\"text-align: right;\">\n",
       "      <th></th>\n",
       "      <th>all_sales</th>\n",
       "    </tr>\n",
       "    <tr>\n",
       "      <th>genre</th>\n",
       "      <th></th>\n",
       "    </tr>\n",
       "  </thead>\n",
       "  <tbody>\n",
       "    <tr>\n",
       "      <th>Shooter</th>\n",
       "      <td>0.440</td>\n",
       "    </tr>\n",
       "    <tr>\n",
       "      <th>Sports</th>\n",
       "      <td>0.240</td>\n",
       "    </tr>\n",
       "    <tr>\n",
       "      <th>Platform</th>\n",
       "      <td>0.210</td>\n",
       "    </tr>\n",
       "    <tr>\n",
       "      <th>Role-Playing</th>\n",
       "      <td>0.140</td>\n",
       "    </tr>\n",
       "    <tr>\n",
       "      <th>Racing</th>\n",
       "      <td>0.140</td>\n",
       "    </tr>\n",
       "    <tr>\n",
       "      <th>Fighting</th>\n",
       "      <td>0.130</td>\n",
       "    </tr>\n",
       "    <tr>\n",
       "      <th>Action</th>\n",
       "      <td>0.120</td>\n",
       "    </tr>\n",
       "    <tr>\n",
       "      <th>Misc</th>\n",
       "      <td>0.120</td>\n",
       "    </tr>\n",
       "    <tr>\n",
       "      <th>Simulation</th>\n",
       "      <td>0.120</td>\n",
       "    </tr>\n",
       "    <tr>\n",
       "      <th>Strategy</th>\n",
       "      <td>0.080</td>\n",
       "    </tr>\n",
       "    <tr>\n",
       "      <th>Puzzle</th>\n",
       "      <td>0.045</td>\n",
       "    </tr>\n",
       "    <tr>\n",
       "      <th>Adventure</th>\n",
       "      <td>0.030</td>\n",
       "    </tr>\n",
       "  </tbody>\n",
       "</table>\n",
       "</div>"
      ],
      "text/plain": [
       "              all_sales\n",
       "genre                  \n",
       "Shooter           0.440\n",
       "Sports            0.240\n",
       "Platform          0.210\n",
       "Role-Playing      0.140\n",
       "Racing            0.140\n",
       "Fighting          0.130\n",
       "Action            0.120\n",
       "Misc              0.120\n",
       "Simulation        0.120\n",
       "Strategy          0.080\n",
       "Puzzle            0.045\n",
       "Adventure         0.030"
      ]
     },
     "execution_count": 42,
     "metadata": {},
     "output_type": "execute_result"
    }
   ],
   "source": [
    "actual_games.pivot_table(index = 'genre', values = 'all_sales', aggfunc = 'median').\\\n",
    "sort_values(by = 'all_sales', ascending = False)"
   ]
  },
  {
   "cell_type": "markdown",
   "metadata": {},
   "source": [
    "<div style=\"background: #B0E0E6; padding: 5px; border: 1px solid SteelBlue; border-radius: 5px;\">\n",
    "    <font color='4682B4'><u><b>  По статистике медианных продаж самым высокодоходным жанром является Шутер, далее Спорт, замыкает третью строчку жанр Платформеров. На последних трех местах находятся Стратегия, Приключения, Пазл\n",
    "  </b></u></font>\n",
    "    <br />\n",
    "</div>"
   ]
  },
  {
   "cell_type": "markdown",
   "metadata": {},
   "source": [
    "## Портрет пользователя каждого региона"
   ]
  },
  {
   "cell_type": "markdown",
   "metadata": {},
   "source": [
    "Рассмотрим самые популярные платформы и жанры по регионам"
   ]
  },
  {
   "cell_type": "code",
   "execution_count": 43,
   "metadata": {},
   "outputs": [
    {
     "data": {
      "text/html": [
       "<div>\n",
       "<style scoped>\n",
       "    .dataframe tbody tr th:only-of-type {\n",
       "        vertical-align: middle;\n",
       "    }\n",
       "\n",
       "    .dataframe tbody tr th {\n",
       "        vertical-align: top;\n",
       "    }\n",
       "\n",
       "    .dataframe thead th {\n",
       "        text-align: right;\n",
       "    }\n",
       "</style>\n",
       "<table border=\"1\" class=\"dataframe\">\n",
       "  <thead>\n",
       "    <tr style=\"text-align: right;\">\n",
       "      <th></th>\n",
       "      <th>platform</th>\n",
       "      <th>sum</th>\n",
       "    </tr>\n",
       "  </thead>\n",
       "  <tbody>\n",
       "    <tr>\n",
       "      <th>0</th>\n",
       "      <td>X360</td>\n",
       "      <td>140.05</td>\n",
       "    </tr>\n",
       "    <tr>\n",
       "      <th>1</th>\n",
       "      <td>PS4</td>\n",
       "      <td>108.74</td>\n",
       "    </tr>\n",
       "    <tr>\n",
       "      <th>2</th>\n",
       "      <td>PS3</td>\n",
       "      <td>103.38</td>\n",
       "    </tr>\n",
       "    <tr>\n",
       "      <th>3</th>\n",
       "      <td>XOne</td>\n",
       "      <td>93.12</td>\n",
       "    </tr>\n",
       "    <tr>\n",
       "      <th>4</th>\n",
       "      <td>3DS</td>\n",
       "      <td>55.31</td>\n",
       "    </tr>\n",
       "    <tr>\n",
       "      <th>5</th>\n",
       "      <td>WiiU</td>\n",
       "      <td>38.10</td>\n",
       "    </tr>\n",
       "    <tr>\n",
       "      <th>6</th>\n",
       "      <td>PC</td>\n",
       "      <td>19.12</td>\n",
       "    </tr>\n",
       "    <tr>\n",
       "      <th>7</th>\n",
       "      <td>Wii</td>\n",
       "      <td>17.45</td>\n",
       "    </tr>\n",
       "    <tr>\n",
       "      <th>8</th>\n",
       "      <td>PSV</td>\n",
       "      <td>10.98</td>\n",
       "    </tr>\n",
       "    <tr>\n",
       "      <th>9</th>\n",
       "      <td>DS</td>\n",
       "      <td>4.59</td>\n",
       "    </tr>\n",
       "  </tbody>\n",
       "</table>\n",
       "</div>"
      ],
      "text/plain": [
       "  platform     sum\n",
       "0     X360  140.05\n",
       "1      PS4  108.74\n",
       "2      PS3  103.38\n",
       "3     XOne   93.12\n",
       "4      3DS   55.31\n",
       "5     WiiU   38.10\n",
       "6       PC   19.12\n",
       "7      Wii   17.45\n",
       "8      PSV   10.98\n",
       "9       DS    4.59"
      ]
     },
     "execution_count": 43,
     "metadata": {},
     "output_type": "execute_result"
    }
   ],
   "source": [
    "# NA platforms\n",
    "actual_games.groupby('platform')['na_sales'].agg({'sum'}).sort_values(by='sum', ascending=False).reset_index().head(10)"
   ]
  },
  {
   "cell_type": "code",
   "execution_count": 44,
   "metadata": {},
   "outputs": [
    {
     "data": {
      "text/html": [
       "<div>\n",
       "<style scoped>\n",
       "    .dataframe tbody tr th:only-of-type {\n",
       "        vertical-align: middle;\n",
       "    }\n",
       "\n",
       "    .dataframe tbody tr th {\n",
       "        vertical-align: top;\n",
       "    }\n",
       "\n",
       "    .dataframe thead th {\n",
       "        text-align: right;\n",
       "    }\n",
       "</style>\n",
       "<table border=\"1\" class=\"dataframe\">\n",
       "  <thead>\n",
       "    <tr style=\"text-align: right;\">\n",
       "      <th></th>\n",
       "      <th>genre</th>\n",
       "      <th>sum</th>\n",
       "    </tr>\n",
       "  </thead>\n",
       "  <tbody>\n",
       "    <tr>\n",
       "      <th>0</th>\n",
       "      <td>Action</td>\n",
       "      <td>177.84</td>\n",
       "    </tr>\n",
       "    <tr>\n",
       "      <th>1</th>\n",
       "      <td>Shooter</td>\n",
       "      <td>144.77</td>\n",
       "    </tr>\n",
       "    <tr>\n",
       "      <th>2</th>\n",
       "      <td>Sports</td>\n",
       "      <td>81.53</td>\n",
       "    </tr>\n",
       "    <tr>\n",
       "      <th>3</th>\n",
       "      <td>Role-Playing</td>\n",
       "      <td>64.00</td>\n",
       "    </tr>\n",
       "    <tr>\n",
       "      <th>4</th>\n",
       "      <td>Misc</td>\n",
       "      <td>38.19</td>\n",
       "    </tr>\n",
       "    <tr>\n",
       "      <th>5</th>\n",
       "      <td>Platform</td>\n",
       "      <td>25.38</td>\n",
       "    </tr>\n",
       "    <tr>\n",
       "      <th>6</th>\n",
       "      <td>Fighting</td>\n",
       "      <td>19.79</td>\n",
       "    </tr>\n",
       "    <tr>\n",
       "      <th>7</th>\n",
       "      <td>Racing</td>\n",
       "      <td>17.22</td>\n",
       "    </tr>\n",
       "    <tr>\n",
       "      <th>8</th>\n",
       "      <td>Adventure</td>\n",
       "      <td>8.92</td>\n",
       "    </tr>\n",
       "    <tr>\n",
       "      <th>9</th>\n",
       "      <td>Simulation</td>\n",
       "      <td>7.97</td>\n",
       "    </tr>\n",
       "  </tbody>\n",
       "</table>\n",
       "</div>"
      ],
      "text/plain": [
       "          genre     sum\n",
       "0        Action  177.84\n",
       "1       Shooter  144.77\n",
       "2        Sports   81.53\n",
       "3  Role-Playing   64.00\n",
       "4          Misc   38.19\n",
       "5      Platform   25.38\n",
       "6      Fighting   19.79\n",
       "7        Racing   17.22\n",
       "8     Adventure    8.92\n",
       "9    Simulation    7.97"
      ]
     },
     "execution_count": 44,
     "metadata": {},
     "output_type": "execute_result"
    }
   ],
   "source": [
    "# NA genres\n",
    "actual_games.groupby('genre')['na_sales'].agg({'sum'}).sort_values(by='sum', ascending=False).reset_index().head(10)"
   ]
  },
  {
   "cell_type": "code",
   "execution_count": 45,
   "metadata": {},
   "outputs": [
    {
     "data": {
      "text/html": [
       "<div>\n",
       "<style scoped>\n",
       "    .dataframe tbody tr th:only-of-type {\n",
       "        vertical-align: middle;\n",
       "    }\n",
       "\n",
       "    .dataframe tbody tr th {\n",
       "        vertical-align: top;\n",
       "    }\n",
       "\n",
       "    .dataframe thead th {\n",
       "        text-align: right;\n",
       "    }\n",
       "</style>\n",
       "<table border=\"1\" class=\"dataframe\">\n",
       "  <thead>\n",
       "    <tr style=\"text-align: right;\">\n",
       "      <th></th>\n",
       "      <th>rating</th>\n",
       "      <th>sum</th>\n",
       "    </tr>\n",
       "  </thead>\n",
       "  <tbody>\n",
       "    <tr>\n",
       "      <th>0</th>\n",
       "      <td>M</td>\n",
       "      <td>231.57</td>\n",
       "    </tr>\n",
       "    <tr>\n",
       "      <th>1</th>\n",
       "      <td>E</td>\n",
       "      <td>114.37</td>\n",
       "    </tr>\n",
       "    <tr>\n",
       "      <th>2</th>\n",
       "      <td>unknown</td>\n",
       "      <td>103.31</td>\n",
       "    </tr>\n",
       "    <tr>\n",
       "      <th>3</th>\n",
       "      <td>E10+</td>\n",
       "      <td>75.70</td>\n",
       "    </tr>\n",
       "    <tr>\n",
       "      <th>4</th>\n",
       "      <td>T</td>\n",
       "      <td>66.02</td>\n",
       "    </tr>\n",
       "  </tbody>\n",
       "</table>\n",
       "</div>"
      ],
      "text/plain": [
       "    rating     sum\n",
       "0        M  231.57\n",
       "1        E  114.37\n",
       "2  unknown  103.31\n",
       "3     E10+   75.70\n",
       "4        T   66.02"
      ]
     },
     "execution_count": 45,
     "metadata": {},
     "output_type": "execute_result"
    }
   ],
   "source": [
    "# NA rating ESRB\n",
    "actual_games.groupby('rating')['na_sales'].agg({'sum'}).sort_values(by='sum', ascending=False).reset_index()"
   ]
  },
  {
   "cell_type": "code",
   "execution_count": 46,
   "metadata": {},
   "outputs": [
    {
     "data": {
      "text/html": [
       "<div>\n",
       "<style scoped>\n",
       "    .dataframe tbody tr th:only-of-type {\n",
       "        vertical-align: middle;\n",
       "    }\n",
       "\n",
       "    .dataframe tbody tr th {\n",
       "        vertical-align: top;\n",
       "    }\n",
       "\n",
       "    .dataframe thead th {\n",
       "        text-align: right;\n",
       "    }\n",
       "</style>\n",
       "<table border=\"1\" class=\"dataframe\">\n",
       "  <thead>\n",
       "    <tr style=\"text-align: right;\">\n",
       "      <th></th>\n",
       "      <th>platform</th>\n",
       "      <th>sum</th>\n",
       "    </tr>\n",
       "  </thead>\n",
       "  <tbody>\n",
       "    <tr>\n",
       "      <th>0</th>\n",
       "      <td>PS4</td>\n",
       "      <td>141.09</td>\n",
       "    </tr>\n",
       "    <tr>\n",
       "      <th>1</th>\n",
       "      <td>PS3</td>\n",
       "      <td>106.86</td>\n",
       "    </tr>\n",
       "    <tr>\n",
       "      <th>2</th>\n",
       "      <td>X360</td>\n",
       "      <td>74.52</td>\n",
       "    </tr>\n",
       "    <tr>\n",
       "      <th>3</th>\n",
       "      <td>XOne</td>\n",
       "      <td>51.59</td>\n",
       "    </tr>\n",
       "    <tr>\n",
       "      <th>4</th>\n",
       "      <td>3DS</td>\n",
       "      <td>42.64</td>\n",
       "    </tr>\n",
       "    <tr>\n",
       "      <th>5</th>\n",
       "      <td>PC</td>\n",
       "      <td>37.76</td>\n",
       "    </tr>\n",
       "    <tr>\n",
       "      <th>6</th>\n",
       "      <td>WiiU</td>\n",
       "      <td>25.13</td>\n",
       "    </tr>\n",
       "    <tr>\n",
       "      <th>7</th>\n",
       "      <td>Wii</td>\n",
       "      <td>11.92</td>\n",
       "    </tr>\n",
       "    <tr>\n",
       "      <th>8</th>\n",
       "      <td>PSV</td>\n",
       "      <td>11.36</td>\n",
       "    </tr>\n",
       "    <tr>\n",
       "      <th>9</th>\n",
       "      <td>DS</td>\n",
       "      <td>3.53</td>\n",
       "    </tr>\n",
       "  </tbody>\n",
       "</table>\n",
       "</div>"
      ],
      "text/plain": [
       "  platform     sum\n",
       "0      PS4  141.09\n",
       "1      PS3  106.86\n",
       "2     X360   74.52\n",
       "3     XOne   51.59\n",
       "4      3DS   42.64\n",
       "5       PC   37.76\n",
       "6     WiiU   25.13\n",
       "7      Wii   11.92\n",
       "8      PSV   11.36\n",
       "9       DS    3.53"
      ]
     },
     "execution_count": 46,
     "metadata": {},
     "output_type": "execute_result"
    }
   ],
   "source": [
    "# EU platforms\n",
    "actual_games.groupby('platform')['eu_sales'].agg({'sum'}).sort_values(by='sum', ascending=False).reset_index().head(10)"
   ]
  },
  {
   "cell_type": "code",
   "execution_count": 47,
   "metadata": {},
   "outputs": [
    {
     "data": {
      "text/html": [
       "<div>\n",
       "<style scoped>\n",
       "    .dataframe tbody tr th:only-of-type {\n",
       "        vertical-align: middle;\n",
       "    }\n",
       "\n",
       "    .dataframe tbody tr th {\n",
       "        vertical-align: top;\n",
       "    }\n",
       "\n",
       "    .dataframe thead th {\n",
       "        text-align: right;\n",
       "    }\n",
       "</style>\n",
       "<table border=\"1\" class=\"dataframe\">\n",
       "  <thead>\n",
       "    <tr style=\"text-align: right;\">\n",
       "      <th></th>\n",
       "      <th>genre</th>\n",
       "      <th>sum</th>\n",
       "    </tr>\n",
       "  </thead>\n",
       "  <tbody>\n",
       "    <tr>\n",
       "      <th>0</th>\n",
       "      <td>Action</td>\n",
       "      <td>159.34</td>\n",
       "    </tr>\n",
       "    <tr>\n",
       "      <th>1</th>\n",
       "      <td>Shooter</td>\n",
       "      <td>113.47</td>\n",
       "    </tr>\n",
       "    <tr>\n",
       "      <th>2</th>\n",
       "      <td>Sports</td>\n",
       "      <td>69.09</td>\n",
       "    </tr>\n",
       "    <tr>\n",
       "      <th>3</th>\n",
       "      <td>Role-Playing</td>\n",
       "      <td>48.53</td>\n",
       "    </tr>\n",
       "    <tr>\n",
       "      <th>4</th>\n",
       "      <td>Racing</td>\n",
       "      <td>27.29</td>\n",
       "    </tr>\n",
       "    <tr>\n",
       "      <th>5</th>\n",
       "      <td>Misc</td>\n",
       "      <td>26.32</td>\n",
       "    </tr>\n",
       "    <tr>\n",
       "      <th>6</th>\n",
       "      <td>Platform</td>\n",
       "      <td>21.41</td>\n",
       "    </tr>\n",
       "    <tr>\n",
       "      <th>7</th>\n",
       "      <td>Simulation</td>\n",
       "      <td>14.55</td>\n",
       "    </tr>\n",
       "    <tr>\n",
       "      <th>8</th>\n",
       "      <td>Fighting</td>\n",
       "      <td>10.79</td>\n",
       "    </tr>\n",
       "    <tr>\n",
       "      <th>9</th>\n",
       "      <td>Adventure</td>\n",
       "      <td>9.46</td>\n",
       "    </tr>\n",
       "  </tbody>\n",
       "</table>\n",
       "</div>"
      ],
      "text/plain": [
       "          genre     sum\n",
       "0        Action  159.34\n",
       "1       Shooter  113.47\n",
       "2        Sports   69.09\n",
       "3  Role-Playing   48.53\n",
       "4        Racing   27.29\n",
       "5          Misc   26.32\n",
       "6      Platform   21.41\n",
       "7    Simulation   14.55\n",
       "8      Fighting   10.79\n",
       "9     Adventure    9.46"
      ]
     },
     "execution_count": 47,
     "metadata": {},
     "output_type": "execute_result"
    }
   ],
   "source": [
    "# EU genre\n",
    "actual_games.groupby('genre')['eu_sales'].agg({'sum'}).sort_values(by='sum', ascending=False).reset_index().head(10)"
   ]
  },
  {
   "cell_type": "code",
   "execution_count": 48,
   "metadata": {},
   "outputs": [
    {
     "data": {
      "text/html": [
       "<div>\n",
       "<style scoped>\n",
       "    .dataframe tbody tr th:only-of-type {\n",
       "        vertical-align: middle;\n",
       "    }\n",
       "\n",
       "    .dataframe tbody tr th {\n",
       "        vertical-align: top;\n",
       "    }\n",
       "\n",
       "    .dataframe thead th {\n",
       "        text-align: right;\n",
       "    }\n",
       "</style>\n",
       "<table border=\"1\" class=\"dataframe\">\n",
       "  <thead>\n",
       "    <tr style=\"text-align: right;\">\n",
       "      <th></th>\n",
       "      <th>rating</th>\n",
       "      <th>sum</th>\n",
       "    </tr>\n",
       "  </thead>\n",
       "  <tbody>\n",
       "    <tr>\n",
       "      <th>0</th>\n",
       "      <td>M</td>\n",
       "      <td>193.96</td>\n",
       "    </tr>\n",
       "    <tr>\n",
       "      <th>1</th>\n",
       "      <td>E</td>\n",
       "      <td>113.03</td>\n",
       "    </tr>\n",
       "    <tr>\n",
       "      <th>2</th>\n",
       "      <td>unknown</td>\n",
       "      <td>91.50</td>\n",
       "    </tr>\n",
       "    <tr>\n",
       "      <th>3</th>\n",
       "      <td>E10+</td>\n",
       "      <td>55.37</td>\n",
       "    </tr>\n",
       "    <tr>\n",
       "      <th>4</th>\n",
       "      <td>T</td>\n",
       "      <td>52.96</td>\n",
       "    </tr>\n",
       "  </tbody>\n",
       "</table>\n",
       "</div>"
      ],
      "text/plain": [
       "    rating     sum\n",
       "0        M  193.96\n",
       "1        E  113.03\n",
       "2  unknown   91.50\n",
       "3     E10+   55.37\n",
       "4        T   52.96"
      ]
     },
     "execution_count": 48,
     "metadata": {},
     "output_type": "execute_result"
    }
   ],
   "source": [
    "# EU rating ESRB\n",
    "actual_games.groupby('rating')['eu_sales'].agg({'sum'}).sort_values(by='sum', ascending=False).reset_index()"
   ]
  },
  {
   "cell_type": "code",
   "execution_count": 49,
   "metadata": {},
   "outputs": [
    {
     "data": {
      "text/html": [
       "<div>\n",
       "<style scoped>\n",
       "    .dataframe tbody tr th:only-of-type {\n",
       "        vertical-align: middle;\n",
       "    }\n",
       "\n",
       "    .dataframe tbody tr th {\n",
       "        vertical-align: top;\n",
       "    }\n",
       "\n",
       "    .dataframe thead th {\n",
       "        text-align: right;\n",
       "    }\n",
       "</style>\n",
       "<table border=\"1\" class=\"dataframe\">\n",
       "  <thead>\n",
       "    <tr style=\"text-align: right;\">\n",
       "      <th></th>\n",
       "      <th>platform</th>\n",
       "      <th>sum</th>\n",
       "    </tr>\n",
       "  </thead>\n",
       "  <tbody>\n",
       "    <tr>\n",
       "      <th>0</th>\n",
       "      <td>3DS</td>\n",
       "      <td>87.79</td>\n",
       "    </tr>\n",
       "    <tr>\n",
       "      <th>1</th>\n",
       "      <td>PS3</td>\n",
       "      <td>35.29</td>\n",
       "    </tr>\n",
       "    <tr>\n",
       "      <th>2</th>\n",
       "      <td>PSV</td>\n",
       "      <td>21.04</td>\n",
       "    </tr>\n",
       "    <tr>\n",
       "      <th>3</th>\n",
       "      <td>PS4</td>\n",
       "      <td>15.96</td>\n",
       "    </tr>\n",
       "    <tr>\n",
       "      <th>4</th>\n",
       "      <td>WiiU</td>\n",
       "      <td>13.01</td>\n",
       "    </tr>\n",
       "    <tr>\n",
       "      <th>5</th>\n",
       "      <td>PSP</td>\n",
       "      <td>10.47</td>\n",
       "    </tr>\n",
       "    <tr>\n",
       "      <th>6</th>\n",
       "      <td>DS</td>\n",
       "      <td>3.72</td>\n",
       "    </tr>\n",
       "    <tr>\n",
       "      <th>7</th>\n",
       "      <td>Wii</td>\n",
       "      <td>3.39</td>\n",
       "    </tr>\n",
       "    <tr>\n",
       "      <th>8</th>\n",
       "      <td>X360</td>\n",
       "      <td>1.57</td>\n",
       "    </tr>\n",
       "    <tr>\n",
       "      <th>9</th>\n",
       "      <td>XOne</td>\n",
       "      <td>0.34</td>\n",
       "    </tr>\n",
       "  </tbody>\n",
       "</table>\n",
       "</div>"
      ],
      "text/plain": [
       "  platform    sum\n",
       "0      3DS  87.79\n",
       "1      PS3  35.29\n",
       "2      PSV  21.04\n",
       "3      PS4  15.96\n",
       "4     WiiU  13.01\n",
       "5      PSP  10.47\n",
       "6       DS   3.72\n",
       "7      Wii   3.39\n",
       "8     X360   1.57\n",
       "9     XOne   0.34"
      ]
     },
     "execution_count": 49,
     "metadata": {},
     "output_type": "execute_result"
    }
   ],
   "source": [
    "# jp platform\n",
    "actual_games.groupby('platform')['jp_sales'].agg({'sum'}).sort_values(by='sum', ascending=False).reset_index().head(10)"
   ]
  },
  {
   "cell_type": "code",
   "execution_count": 50,
   "metadata": {},
   "outputs": [
    {
     "data": {
      "text/html": [
       "<div>\n",
       "<style scoped>\n",
       "    .dataframe tbody tr th:only-of-type {\n",
       "        vertical-align: middle;\n",
       "    }\n",
       "\n",
       "    .dataframe tbody tr th {\n",
       "        vertical-align: top;\n",
       "    }\n",
       "\n",
       "    .dataframe thead th {\n",
       "        text-align: right;\n",
       "    }\n",
       "</style>\n",
       "<table border=\"1\" class=\"dataframe\">\n",
       "  <thead>\n",
       "    <tr style=\"text-align: right;\">\n",
       "      <th></th>\n",
       "      <th>genre</th>\n",
       "      <th>sum</th>\n",
       "    </tr>\n",
       "  </thead>\n",
       "  <tbody>\n",
       "    <tr>\n",
       "      <th>0</th>\n",
       "      <td>Role-Playing</td>\n",
       "      <td>65.44</td>\n",
       "    </tr>\n",
       "    <tr>\n",
       "      <th>1</th>\n",
       "      <td>Action</td>\n",
       "      <td>52.80</td>\n",
       "    </tr>\n",
       "    <tr>\n",
       "      <th>2</th>\n",
       "      <td>Misc</td>\n",
       "      <td>12.86</td>\n",
       "    </tr>\n",
       "    <tr>\n",
       "      <th>3</th>\n",
       "      <td>Simulation</td>\n",
       "      <td>10.41</td>\n",
       "    </tr>\n",
       "    <tr>\n",
       "      <th>4</th>\n",
       "      <td>Fighting</td>\n",
       "      <td>9.44</td>\n",
       "    </tr>\n",
       "    <tr>\n",
       "      <th>5</th>\n",
       "      <td>Shooter</td>\n",
       "      <td>9.23</td>\n",
       "    </tr>\n",
       "    <tr>\n",
       "      <th>6</th>\n",
       "      <td>Platform</td>\n",
       "      <td>8.63</td>\n",
       "    </tr>\n",
       "    <tr>\n",
       "      <th>7</th>\n",
       "      <td>Adventure</td>\n",
       "      <td>8.24</td>\n",
       "    </tr>\n",
       "    <tr>\n",
       "      <th>8</th>\n",
       "      <td>Sports</td>\n",
       "      <td>8.01</td>\n",
       "    </tr>\n",
       "    <tr>\n",
       "      <th>9</th>\n",
       "      <td>Strategy</td>\n",
       "      <td>2.88</td>\n",
       "    </tr>\n",
       "  </tbody>\n",
       "</table>\n",
       "</div>"
      ],
      "text/plain": [
       "          genre    sum\n",
       "0  Role-Playing  65.44\n",
       "1        Action  52.80\n",
       "2          Misc  12.86\n",
       "3    Simulation  10.41\n",
       "4      Fighting   9.44\n",
       "5       Shooter   9.23\n",
       "6      Platform   8.63\n",
       "7     Adventure   8.24\n",
       "8        Sports   8.01\n",
       "9      Strategy   2.88"
      ]
     },
     "execution_count": 50,
     "metadata": {},
     "output_type": "execute_result"
    }
   ],
   "source": [
    "# jp genre\n",
    "actual_games.groupby('genre')['jp_sales'].agg({'sum'}).sort_values(by='sum', ascending=False).reset_index().head(10)"
   ]
  },
  {
   "cell_type": "code",
   "execution_count": 51,
   "metadata": {},
   "outputs": [
    {
     "data": {
      "text/html": [
       "<div>\n",
       "<style scoped>\n",
       "    .dataframe tbody tr th:only-of-type {\n",
       "        vertical-align: middle;\n",
       "    }\n",
       "\n",
       "    .dataframe tbody tr th {\n",
       "        vertical-align: top;\n",
       "    }\n",
       "\n",
       "    .dataframe thead th {\n",
       "        text-align: right;\n",
       "    }\n",
       "</style>\n",
       "<table border=\"1\" class=\"dataframe\">\n",
       "  <thead>\n",
       "    <tr style=\"text-align: right;\">\n",
       "      <th></th>\n",
       "      <th>rating</th>\n",
       "      <th>sum</th>\n",
       "    </tr>\n",
       "  </thead>\n",
       "  <tbody>\n",
       "    <tr>\n",
       "      <th>0</th>\n",
       "      <td>unknown</td>\n",
       "      <td>108.84</td>\n",
       "    </tr>\n",
       "    <tr>\n",
       "      <th>1</th>\n",
       "      <td>E</td>\n",
       "      <td>28.33</td>\n",
       "    </tr>\n",
       "    <tr>\n",
       "      <th>2</th>\n",
       "      <td>T</td>\n",
       "      <td>26.02</td>\n",
       "    </tr>\n",
       "    <tr>\n",
       "      <th>3</th>\n",
       "      <td>M</td>\n",
       "      <td>21.20</td>\n",
       "    </tr>\n",
       "    <tr>\n",
       "      <th>4</th>\n",
       "      <td>E10+</td>\n",
       "      <td>8.19</td>\n",
       "    </tr>\n",
       "  </tbody>\n",
       "</table>\n",
       "</div>"
      ],
      "text/plain": [
       "    rating     sum\n",
       "0  unknown  108.84\n",
       "1        E   28.33\n",
       "2        T   26.02\n",
       "3        M   21.20\n",
       "4     E10+    8.19"
      ]
     },
     "execution_count": 51,
     "metadata": {},
     "output_type": "execute_result"
    }
   ],
   "source": [
    "#jp rating ESRB\n",
    "actual_games.groupby('rating')['jp_sales'].agg({'sum'}).sort_values(by='sum', ascending=False).reset_index()"
   ]
  },
  {
   "cell_type": "markdown",
   "metadata": {},
   "source": [
    "Популярность платформ:\n",
    "\n",
    "В регионе NA самая популярная платформа - X360, самый популярный жанр - Action. В рейтинге ESRB на первом месте категория Е, с большим отставанием рейтинг М и Т.  \n",
    "В регионе EU самая популярная платформа - PS4, самый популярный жанр - Action, на втором и третьем - sports и shooter.  В рейтинге ESRB на первом месте категория Е. На третьем месте неизвестный. \n",
    "В регионе JP самая популярная платформа - 3DS. X360 и XOne вообще не входит в топ-5 платформ в отличие от двух других регионов. Самый популярный жанр - Role-Playing. В рейтинге ESRB на первом месте категория неизвестно.\n"
   ]
  },
  {
   "cell_type": "markdown",
   "metadata": {},
   "source": [
    "<div style=\"background: #B0E0E6; padding: 5px; border: 1px solid SteelBlue; border-radius: 5px;\">\n",
    "    <font color='4682B4'><u><b>  На мой взгляд рейтинг ESRB рассчитан больше на западную аудиторию\n",
    "        Японская культура очень не похожа на западную, вероятно, национальные особенности японцев таковы, что ESRB\n",
    "        не может категоризовать игры, в которые они играют \n",
    "  </b></u></font>\n",
    "    <br />\n",
    "</div>\n",
    "\n"
   ]
  },
  {
   "cell_type": "markdown",
   "metadata": {},
   "source": [
    "## Проверим гипотезы"
   ]
  },
  {
   "cell_type": "markdown",
   "metadata": {},
   "source": [
    "1. Средние пользовательские рейтинги платформ Xbox One и PC одинаковые\n",
    "\n",
    "Сформулируем нулевую и альтернативную гипотезы. Нулевую гипотезу будем формулировать так, чтобы использовать знак равенства. \n",
    "Альтернативную гипотезу сформулируем оттакливаясь от нулевой гипотезы.\n",
    "\n",
    "H₀ - средние пользовательские рейтинги платформ Xbox One и PC равны\n",
    "H₁ - средние пользовательские рейтинги платформ Xbox One и PC не равны"
   ]
  },
  {
   "cell_type": "code",
   "execution_count": 52,
   "metadata": {},
   "outputs": [
    {
     "name": "stdout",
     "output_type": "stream",
     "text": [
      "p-значение: 0.018849513526187356\n",
      "Отвергаем нулевую гипотезу\n"
     ]
    }
   ],
   "source": [
    "alpha = 0.05  # критический уровень статистической значимости\n",
    "results = st.ttest_ind(\n",
    "actual_games[actual_games['platform'] == 'PC']['user_score'].notnull(), \n",
    "    actual_games[actual_games['platform'] == 'XOne']['user_score'].notnull()\n",
    ")\n",
    "\n",
    "print('p-значение:', results.pvalue)\n",
    "\n",
    "if results.pvalue < alpha:\n",
    "    print('Отвергаем нулевую гипотезу')\n",
    "else:\n",
    "    print('Не получилось отвергнуть нулевую гипотезу')"
   ]
  },
  {
   "cell_type": "markdown",
   "metadata": {},
   "source": [
    "Средние пользовательские рейтинги жанров Action (англ. «действие», экшен-игры) и Sports (англ. «спортивные соревнования») разные.\n",
    "\n",
    "H₀ - средние пользовательские рейтинги жанров Action и Sports равны\n",
    "H₁ - средние пользовательские рейтинги жанров Action и Sports не равны\n"
   ]
  },
  {
   "cell_type": "code",
   "execution_count": 53,
   "metadata": {},
   "outputs": [
    {
     "name": "stdout",
     "output_type": "stream",
     "text": [
      "p-значение: 7.530595412367685e-11\n",
      "Отвергаем нулевую гипотезу\n"
     ]
    }
   ],
   "source": [
    "alpha = 0.05  # критический уровень статистической значимости\n",
    "results = st.ttest_ind(\n",
    "    actual_games[actual_games['genre'] == 'Action']['user_score'].notnull(), \n",
    "    actual_games[actual_games['genre'] == 'Sports']['user_score'].notnull())\n",
    "\n",
    "print('p-значение:', results.pvalue)\n",
    "\n",
    "if results.pvalue < alpha:\n",
    "    print('Отвергаем нулевую гипотезу')\n",
    "else:\n",
    "    print('Не получилось отвергнуть нулевую гипотезу')"
   ]
  },
  {
   "cell_type": "markdown",
   "metadata": {},
   "source": [
    "Вывод: Стат анализ показал, что оценки пользователей для игр на платформах Xbox One и PC не равны, а также при анализе пользовательских оценок по жанрам Action и Sports нулевая гипотеза была отвергнута."
   ]
  },
  {
   "cell_type": "markdown",
   "metadata": {},
   "source": [
    "**Общий вывод:** "
   ]
  },
  {
   "cell_type": "markdown",
   "metadata": {},
   "source": [
    "В ходе работы пришли к следующим выводам: \n",
    "\n",
    "1) Компания \"Стримчик\" в 2017 должна сделать упор на платформах нового поколения - PS4, Xone, поскольку данные консоли являются последними моделями в своей категории, а значит, на них будут выходить игры в 2017 году.\n",
    "\n",
    "2) Игры на портативные компьютеры всегда актуальны, поскольку данная платформа не подвержена устареванию (не имеет срок жизни) и, следовательно, игры на данную платформу будут актуальными и в 2017 году.\n",
    "\n",
    "3) Существует категория устаревающих платформ - PS3, X360, им на замену пришли более новые модели, поэтому игры (согласно статистике) на эти платформы, продают/покупают реже. Компании стоит меньше сосредотачивать свои ресурсы на данных платформах. \n",
    "\n",
    "4) Согласно статистике самая популярная платформа в Северной Америке - это Xbox 360, однако последний тренд на сокращение купли/продажи игр этой платформы говорит о том, что Xbox 360 уступит свое место более новым консолям.\n",
    "\n",
    "5) Необходимо ожидать появления платформ нового поколения, поскольку нынешнее новое поколение PS4, Xone существует уже несколько лет, обычно, новое поколение появляется раз в пятилетие. \n",
    "\n",
    "6) Корреляция между отзывами (пользователи и критики) и количеством продаж, исходя из изученных данных, слабо выражена, следовательно, плохие отзывы не конверсируются в плохие продажи.\n",
    "\n",
    "7) В Северной Америке и Европе любимыми жанрами игр являются экшн и шутер, то есть компании \"Стримчик\" на этих рынках советуем продавать игры данных жанров. При входе на рынок Японии необходимо понимать уникальную культуру японцев, чтобы достичь успеха. Стандартные жанры и платформы не подходят для этого рынка, если компания предвидит инвестиции в этот рынок, то надо инвестрировать в жанры ролевых игр и миск, хотя любовь к играм жанра экшн в Японии тоже наличествует.\n",
    "\n",
    "8) Рейтинг ESRB в Японии не находит поддержки, поэтому необходимо сосредоточить свои усилия на обнаружение новых нестандартных ниш в этой стране.\n",
    "\n",
    "Итак: устроить рекламную компанию в Японии не представляется возможным, поскольку это страна довольно необычна для западного мышления, поэтому риск провалить рекламную компанию в этой стране высок. Поэтому необходимо сосредоточить свои усилия на Европе и Северной Америке. \n",
    "\n",
    "В Европе сильны позиции у компании Sony, значит, платформа рекламы должна быть PS4, жанр экшн либо шутер, категория M\n",
    "\n",
    "Учитывая тот факт, что Microsoft американская компания - то поддержка консоли-детища Microsoft - Xbox, будет высокой, об этом свидетельствует статистика, рекламировать Xone (консоль нового поколения) необходимо в Северной Америке,жанр экшн либо шутер, категория M.\n"
   ]
  }
 ],
 "metadata": {
  "ExecuteTimeLog": [
   {
    "duration": 476,
    "start_time": "2023-03-22T21:39:31.077Z"
   },
   {
    "duration": 132,
    "start_time": "2023-03-22T21:39:59.974Z"
   },
   {
    "duration": 1125,
    "start_time": "2023-03-22T21:44:13.433Z"
   },
   {
    "duration": 17,
    "start_time": "2023-03-22T21:44:26.569Z"
   },
   {
    "duration": 16,
    "start_time": "2023-03-22T21:44:55.234Z"
   },
   {
    "duration": 47,
    "start_time": "2023-03-22T21:45:41.520Z"
   },
   {
    "duration": 32,
    "start_time": "2023-03-22T22:25:59.651Z"
   },
   {
    "duration": 14,
    "start_time": "2023-03-22T22:29:37.014Z"
   },
   {
    "duration": 52,
    "start_time": "2023-03-22T22:30:47.117Z"
   },
   {
    "duration": 12,
    "start_time": "2023-03-22T22:30:47.978Z"
   },
   {
    "duration": 13,
    "start_time": "2023-03-22T22:30:48.654Z"
   },
   {
    "duration": 22,
    "start_time": "2023-03-22T22:30:49.461Z"
   },
   {
    "duration": 12,
    "start_time": "2023-03-22T22:30:50.409Z"
   },
   {
    "duration": 87,
    "start_time": "2023-03-22T22:32:55.690Z"
   },
   {
    "duration": 8,
    "start_time": "2023-03-22T22:33:02.551Z"
   },
   {
    "duration": 4,
    "start_time": "2023-03-22T22:33:08.728Z"
   },
   {
    "duration": 20,
    "start_time": "2023-03-22T22:37:32.567Z"
   },
   {
    "duration": 13,
    "start_time": "2023-03-22T22:38:51.751Z"
   },
   {
    "duration": 7,
    "start_time": "2023-03-22T22:40:09.847Z"
   },
   {
    "duration": 7,
    "start_time": "2023-03-22T22:40:15.551Z"
   },
   {
    "duration": 5,
    "start_time": "2023-03-22T22:40:26.259Z"
   },
   {
    "duration": 3,
    "start_time": "2023-03-22T22:46:07.355Z"
   },
   {
    "duration": 7,
    "start_time": "2023-03-22T22:46:08.264Z"
   },
   {
    "duration": 15,
    "start_time": "2023-03-22T22:49:40.553Z"
   },
   {
    "duration": 5,
    "start_time": "2023-03-22T22:49:54.627Z"
   },
   {
    "duration": 3,
    "start_time": "2023-03-22T22:49:57.999Z"
   },
   {
    "duration": 4,
    "start_time": "2023-03-22T22:50:36.131Z"
   },
   {
    "duration": 4,
    "start_time": "2023-03-22T22:50:58.008Z"
   },
   {
    "duration": 5,
    "start_time": "2023-03-22T22:51:17.763Z"
   },
   {
    "duration": 5,
    "start_time": "2023-03-22T22:51:27.250Z"
   },
   {
    "duration": 6,
    "start_time": "2023-03-22T22:52:09.636Z"
   },
   {
    "duration": 8,
    "start_time": "2023-03-22T22:52:20.975Z"
   },
   {
    "duration": 7,
    "start_time": "2023-03-22T23:00:53.742Z"
   },
   {
    "duration": 10,
    "start_time": "2023-03-22T23:01:01.491Z"
   },
   {
    "duration": 8,
    "start_time": "2023-03-22T23:01:34.978Z"
   },
   {
    "duration": 45,
    "start_time": "2023-03-22T23:01:43.834Z"
   },
   {
    "duration": 13,
    "start_time": "2023-03-22T23:05:19.183Z"
   },
   {
    "duration": 12,
    "start_time": "2023-03-22T23:05:39.414Z"
   },
   {
    "duration": 20,
    "start_time": "2023-03-22T23:06:15.378Z"
   },
   {
    "duration": 9,
    "start_time": "2023-03-22T23:07:15.638Z"
   },
   {
    "duration": 10,
    "start_time": "2023-03-22T23:07:40.356Z"
   },
   {
    "duration": 14,
    "start_time": "2023-03-22T23:07:40.924Z"
   },
   {
    "duration": 11,
    "start_time": "2023-03-22T23:07:57.204Z"
   },
   {
    "duration": 8,
    "start_time": "2023-03-22T23:10:17.468Z"
   },
   {
    "duration": 13,
    "start_time": "2023-03-22T23:10:18.291Z"
   },
   {
    "duration": 11,
    "start_time": "2023-03-22T23:10:20.164Z"
   },
   {
    "duration": 6,
    "start_time": "2023-03-22T23:10:54.786Z"
   },
   {
    "duration": 12,
    "start_time": "2023-03-22T23:12:01.242Z"
   },
   {
    "duration": 16,
    "start_time": "2023-03-22T23:12:08.073Z"
   },
   {
    "duration": 5,
    "start_time": "2023-03-22T23:25:34.493Z"
   },
   {
    "duration": 13,
    "start_time": "2023-03-22T23:27:58.301Z"
   },
   {
    "duration": 12,
    "start_time": "2023-03-22T23:34:51.672Z"
   },
   {
    "duration": 43,
    "start_time": "2023-03-22T23:36:29.502Z"
   },
   {
    "duration": 8,
    "start_time": "2023-03-22T23:36:36.574Z"
   },
   {
    "duration": 5,
    "start_time": "2023-03-22T23:36:44.606Z"
   },
   {
    "duration": 5,
    "start_time": "2023-03-22T23:36:48.605Z"
   },
   {
    "duration": 12,
    "start_time": "2023-03-22T23:36:59.355Z"
   },
   {
    "duration": 10,
    "start_time": "2023-03-22T23:38:41.974Z"
   },
   {
    "duration": 11,
    "start_time": "2023-03-22T23:38:54.098Z"
   },
   {
    "duration": 5,
    "start_time": "2023-03-22T23:47:50.738Z"
   },
   {
    "duration": 244,
    "start_time": "2023-03-22T23:47:53.883Z"
   },
   {
    "duration": 7,
    "start_time": "2023-03-22T23:48:02.187Z"
   },
   {
    "duration": 10,
    "start_time": "2023-03-22T23:52:08.676Z"
   },
   {
    "duration": 10,
    "start_time": "2023-03-22T23:52:37.148Z"
   },
   {
    "duration": 803,
    "start_time": "2023-03-22T23:53:04.007Z"
   },
   {
    "duration": 430,
    "start_time": "2023-03-22T23:54:15.869Z"
   },
   {
    "duration": 9,
    "start_time": "2023-03-22T23:56:51.039Z"
   },
   {
    "duration": 8,
    "start_time": "2023-03-22T23:57:06.144Z"
   },
   {
    "duration": 9,
    "start_time": "2023-03-22T23:57:11.477Z"
   },
   {
    "duration": 139,
    "start_time": "2023-03-22T23:57:16.811Z"
   },
   {
    "duration": 48,
    "start_time": "2023-03-22T23:57:47.354Z"
   },
   {
    "duration": 137,
    "start_time": "2023-03-22T23:57:54.279Z"
   },
   {
    "duration": 164,
    "start_time": "2023-03-22T23:58:42.169Z"
   },
   {
    "duration": 11,
    "start_time": "2023-03-23T00:08:39.905Z"
   },
   {
    "duration": 17,
    "start_time": "2023-03-23T00:08:56.863Z"
   },
   {
    "duration": 12,
    "start_time": "2023-03-23T00:10:01.909Z"
   },
   {
    "duration": 73,
    "start_time": "2023-03-23T00:10:57.088Z"
   },
   {
    "duration": 10,
    "start_time": "2023-03-23T00:11:03.633Z"
   },
   {
    "duration": 19,
    "start_time": "2023-03-23T00:11:47.966Z"
   },
   {
    "duration": 18,
    "start_time": "2023-03-23T00:12:03.846Z"
   },
   {
    "duration": 22,
    "start_time": "2023-03-23T00:21:22.669Z"
   },
   {
    "duration": 12,
    "start_time": "2023-03-23T00:24:54.088Z"
   },
   {
    "duration": 9,
    "start_time": "2023-03-23T00:26:57.593Z"
   },
   {
    "duration": 9,
    "start_time": "2023-03-23T00:27:47.212Z"
   },
   {
    "duration": 6,
    "start_time": "2023-03-23T00:27:56.048Z"
   },
   {
    "duration": 11,
    "start_time": "2023-03-23T00:28:05.763Z"
   },
   {
    "duration": 12,
    "start_time": "2023-03-23T00:33:59.078Z"
   },
   {
    "duration": 27,
    "start_time": "2023-03-23T00:34:07.844Z"
   },
   {
    "duration": 7,
    "start_time": "2023-03-23T00:34:27.999Z"
   },
   {
    "duration": 669,
    "start_time": "2023-03-23T00:35:32.762Z"
   },
   {
    "duration": 12,
    "start_time": "2023-03-23T00:36:38.150Z"
   },
   {
    "duration": 14,
    "start_time": "2023-03-23T00:38:36.049Z"
   },
   {
    "duration": 14,
    "start_time": "2023-03-23T00:38:44.968Z"
   },
   {
    "duration": 13,
    "start_time": "2023-03-23T00:40:14.360Z"
   },
   {
    "duration": 93,
    "start_time": "2023-03-23T00:43:38.976Z"
   },
   {
    "duration": 98,
    "start_time": "2023-03-23T00:44:00.311Z"
   },
   {
    "duration": 12,
    "start_time": "2023-03-23T00:51:36.609Z"
   },
   {
    "duration": 3,
    "start_time": "2023-03-23T00:51:55.873Z"
   },
   {
    "duration": 12,
    "start_time": "2023-03-23T00:51:56.956Z"
   },
   {
    "duration": 23,
    "start_time": "2023-03-23T00:52:15.691Z"
   },
   {
    "duration": 18,
    "start_time": "2023-03-23T00:54:30.870Z"
   },
   {
    "duration": 10,
    "start_time": "2023-03-23T00:55:46.086Z"
   },
   {
    "duration": 12,
    "start_time": "2023-03-23T00:56:00.294Z"
   },
   {
    "duration": 21,
    "start_time": "2023-03-23T00:56:20.360Z"
   },
   {
    "duration": 320,
    "start_time": "2023-03-23T01:04:07.947Z"
   },
   {
    "duration": 107,
    "start_time": "2023-03-23T01:27:54.279Z"
   },
   {
    "duration": 27,
    "start_time": "2023-03-23T01:34:47.571Z"
   },
   {
    "duration": 7,
    "start_time": "2023-03-23T01:35:06.649Z"
   },
   {
    "duration": 8,
    "start_time": "2023-03-23T01:35:48.632Z"
   },
   {
    "duration": 3,
    "start_time": "2023-03-23T01:36:00.339Z"
   },
   {
    "duration": 7,
    "start_time": "2023-03-23T01:36:01.114Z"
   },
   {
    "duration": 15,
    "start_time": "2023-03-23T01:36:01.824Z"
   },
   {
    "duration": 7,
    "start_time": "2023-03-23T01:38:11.134Z"
   },
   {
    "duration": 3,
    "start_time": "2023-03-23T01:38:29.381Z"
   },
   {
    "duration": 8,
    "start_time": "2023-03-23T01:38:30.083Z"
   },
   {
    "duration": 7,
    "start_time": "2023-03-23T01:38:30.800Z"
   },
   {
    "duration": 7,
    "start_time": "2023-03-23T01:38:57.295Z"
   },
   {
    "duration": 14,
    "start_time": "2023-03-23T01:38:58.309Z"
   },
   {
    "duration": 28,
    "start_time": "2023-03-23T01:42:32.355Z"
   },
   {
    "duration": 36,
    "start_time": "2023-03-23T01:47:20.658Z"
   },
   {
    "duration": 11,
    "start_time": "2023-03-23T01:48:50.518Z"
   },
   {
    "duration": 9,
    "start_time": "2023-03-23T01:48:55.884Z"
   },
   {
    "duration": 4,
    "start_time": "2023-03-23T01:53:11.186Z"
   },
   {
    "duration": 19,
    "start_time": "2023-03-23T01:56:12.096Z"
   },
   {
    "duration": 9,
    "start_time": "2023-03-23T01:57:06.673Z"
   },
   {
    "duration": 31,
    "start_time": "2023-03-23T01:57:16.497Z"
   },
   {
    "duration": 20,
    "start_time": "2023-03-23T01:58:52.300Z"
   },
   {
    "duration": 28,
    "start_time": "2023-03-23T02:02:07.777Z"
   },
   {
    "duration": 28,
    "start_time": "2023-03-23T02:02:48.837Z"
   },
   {
    "duration": 21,
    "start_time": "2023-03-23T02:02:51.261Z"
   },
   {
    "duration": 28,
    "start_time": "2023-03-23T02:02:52.217Z"
   },
   {
    "duration": 27,
    "start_time": "2023-03-23T02:04:59.429Z"
   },
   {
    "duration": 9,
    "start_time": "2023-03-23T02:16:27.349Z"
   },
   {
    "duration": 6,
    "start_time": "2023-03-23T02:16:38.332Z"
   },
   {
    "duration": 10,
    "start_time": "2023-03-23T02:16:46.583Z"
   },
   {
    "duration": 9,
    "start_time": "2023-03-23T02:21:47.835Z"
   },
   {
    "duration": 11,
    "start_time": "2023-03-23T02:22:49.082Z"
   },
   {
    "duration": 14,
    "start_time": "2023-03-23T02:22:58.732Z"
   },
   {
    "duration": 12,
    "start_time": "2023-03-23T02:23:51.234Z"
   },
   {
    "duration": 12,
    "start_time": "2023-03-23T02:24:01.249Z"
   },
   {
    "duration": 50,
    "start_time": "2023-03-23T02:24:07.393Z"
   },
   {
    "duration": 7,
    "start_time": "2023-03-23T02:24:35.295Z"
   },
   {
    "duration": 6,
    "start_time": "2023-03-23T02:24:52.382Z"
   },
   {
    "duration": 29,
    "start_time": "2023-03-23T02:25:02.078Z"
   },
   {
    "duration": 136,
    "start_time": "2023-03-23T02:27:11.231Z"
   },
   {
    "duration": 260,
    "start_time": "2023-03-23T02:27:21.970Z"
   },
   {
    "duration": 891,
    "start_time": "2023-03-23T02:27:44.456Z"
   },
   {
    "duration": 264,
    "start_time": "2023-03-23T02:27:52.251Z"
   },
   {
    "duration": 232,
    "start_time": "2023-03-23T02:28:01.711Z"
   },
   {
    "duration": 269,
    "start_time": "2023-03-23T02:28:15.215Z"
   },
   {
    "duration": 24,
    "start_time": "2023-03-23T02:33:53.454Z"
   },
   {
    "duration": 1070,
    "start_time": "2023-03-23T02:34:04.305Z"
   },
   {
    "duration": 594,
    "start_time": "2023-03-23T02:34:29.178Z"
   },
   {
    "duration": 612,
    "start_time": "2023-03-23T02:34:49.301Z"
   },
   {
    "duration": 543,
    "start_time": "2023-03-23T02:39:05.208Z"
   },
   {
    "duration": 675,
    "start_time": "2023-03-23T02:39:21.898Z"
   },
   {
    "duration": 590,
    "start_time": "2023-03-23T02:41:02.700Z"
   },
   {
    "duration": 895,
    "start_time": "2023-03-23T02:43:00.492Z"
   },
   {
    "duration": 591,
    "start_time": "2023-03-23T02:43:31.262Z"
   },
   {
    "duration": 585,
    "start_time": "2023-03-23T02:43:46.384Z"
   },
   {
    "duration": 597,
    "start_time": "2023-03-23T02:55:38.549Z"
   },
   {
    "duration": 580,
    "start_time": "2023-03-23T02:55:53.381Z"
   },
   {
    "duration": 1057,
    "start_time": "2023-03-23T02:57:45.885Z"
   },
   {
    "duration": 132,
    "start_time": "2023-03-23T02:58:03.150Z"
   },
   {
    "duration": 112,
    "start_time": "2023-03-23T03:04:22.129Z"
   },
   {
    "duration": 108,
    "start_time": "2023-03-23T03:05:24.573Z"
   },
   {
    "duration": 112,
    "start_time": "2023-03-23T03:06:28.099Z"
   },
   {
    "duration": 127,
    "start_time": "2023-03-23T03:06:37.728Z"
   },
   {
    "duration": 42,
    "start_time": "2023-03-23T03:07:40.053Z"
   },
   {
    "duration": 72,
    "start_time": "2023-03-23T03:07:49.740Z"
   },
   {
    "duration": 53,
    "start_time": "2023-03-23T03:07:54.960Z"
   },
   {
    "duration": 9,
    "start_time": "2023-03-23T03:09:48.522Z"
   },
   {
    "duration": 794,
    "start_time": "2023-03-23T03:10:00.398Z"
   },
   {
    "duration": 217,
    "start_time": "2023-03-23T03:10:14.984Z"
   },
   {
    "duration": 192,
    "start_time": "2023-03-23T03:11:34.481Z"
   },
   {
    "duration": 7,
    "start_time": "2023-03-23T03:15:09.966Z"
   },
   {
    "duration": 153,
    "start_time": "2023-03-23T03:15:36.254Z"
   },
   {
    "duration": 64,
    "start_time": "2023-03-23T03:16:16.669Z"
   },
   {
    "duration": 46,
    "start_time": "2023-03-23T03:16:26.147Z"
   },
   {
    "duration": 47,
    "start_time": "2023-03-23T03:16:54.781Z"
   },
   {
    "duration": 243,
    "start_time": "2023-03-23T03:17:12.622Z"
   },
   {
    "duration": 236,
    "start_time": "2023-03-23T03:17:53.256Z"
   },
   {
    "duration": 519,
    "start_time": "2023-03-23T03:18:01.097Z"
   },
   {
    "duration": 237,
    "start_time": "2023-03-23T03:18:08.683Z"
   },
   {
    "duration": 127,
    "start_time": "2023-03-23T03:20:05.018Z"
   },
   {
    "duration": 2945,
    "start_time": "2023-03-23T03:20:49.185Z"
   },
   {
    "duration": 128,
    "start_time": "2023-03-23T03:21:02.300Z"
   },
   {
    "duration": 131,
    "start_time": "2023-03-23T03:21:24.743Z"
   },
   {
    "duration": 938,
    "start_time": "2023-03-23T03:26:18.319Z"
   },
   {
    "duration": 105,
    "start_time": "2023-03-23T03:27:10.439Z"
   },
   {
    "duration": 129,
    "start_time": "2023-03-23T03:28:06.671Z"
   },
   {
    "duration": 138,
    "start_time": "2023-03-23T03:28:10.259Z"
   },
   {
    "duration": 11,
    "start_time": "2023-03-23T03:31:14.061Z"
   },
   {
    "duration": 13,
    "start_time": "2023-03-23T03:41:07.766Z"
   },
   {
    "duration": 17,
    "start_time": "2023-03-23T03:41:16.874Z"
   },
   {
    "duration": 13,
    "start_time": "2023-03-23T03:41:24.701Z"
   },
   {
    "duration": 129,
    "start_time": "2023-03-23T03:46:56.911Z"
   },
   {
    "duration": 134,
    "start_time": "2023-03-23T03:47:00.043Z"
   },
   {
    "duration": 12,
    "start_time": "2023-03-23T03:47:04.024Z"
   },
   {
    "duration": 129,
    "start_time": "2023-03-23T03:47:54.809Z"
   },
   {
    "duration": 130,
    "start_time": "2023-03-23T03:47:57.836Z"
   },
   {
    "duration": 12,
    "start_time": "2023-03-23T03:56:33.732Z"
   },
   {
    "duration": 14,
    "start_time": "2023-03-23T03:57:37.017Z"
   },
   {
    "duration": 10,
    "start_time": "2023-03-23T03:58:54.634Z"
   },
   {
    "duration": 13,
    "start_time": "2023-03-23T03:59:06.277Z"
   },
   {
    "duration": 12,
    "start_time": "2023-03-23T03:59:15.421Z"
   },
   {
    "duration": 12,
    "start_time": "2023-03-23T04:00:13.482Z"
   },
   {
    "duration": 10,
    "start_time": "2023-03-23T04:00:38.517Z"
   },
   {
    "duration": 11,
    "start_time": "2023-03-23T04:01:24.709Z"
   },
   {
    "duration": 12,
    "start_time": "2023-03-23T04:02:02.057Z"
   },
   {
    "duration": 12,
    "start_time": "2023-03-23T04:03:16.311Z"
   },
   {
    "duration": 50,
    "start_time": "2023-03-23T04:03:36.502Z"
   },
   {
    "duration": 10,
    "start_time": "2023-03-23T04:03:46.557Z"
   },
   {
    "duration": 12,
    "start_time": "2023-03-23T04:04:17.996Z"
   },
   {
    "duration": 53,
    "start_time": "2023-03-23T04:04:24.716Z"
   },
   {
    "duration": 11,
    "start_time": "2023-03-23T04:04:34.526Z"
   },
   {
    "duration": 11,
    "start_time": "2023-03-23T04:04:42.592Z"
   },
   {
    "duration": 11,
    "start_time": "2023-03-23T04:04:53.911Z"
   },
   {
    "duration": 53,
    "start_time": "2023-03-23T04:05:00.418Z"
   },
   {
    "duration": 10,
    "start_time": "2023-03-23T04:05:05.953Z"
   },
   {
    "duration": 49,
    "start_time": "2023-03-23T04:05:17.886Z"
   },
   {
    "duration": 11,
    "start_time": "2023-03-23T04:05:22.751Z"
   },
   {
    "duration": 12,
    "start_time": "2023-03-23T04:05:30.042Z"
   },
   {
    "duration": 18,
    "start_time": "2023-03-23T04:35:08.939Z"
   },
   {
    "duration": 23,
    "start_time": "2023-03-23T04:36:17.910Z"
   },
   {
    "duration": 20,
    "start_time": "2023-03-23T04:45:27.668Z"
   },
   {
    "duration": 25,
    "start_time": "2023-03-23T04:46:50.029Z"
   },
   {
    "duration": 1050,
    "start_time": "2023-03-23T04:46:57.852Z"
   },
   {
    "duration": 13,
    "start_time": "2023-03-23T04:46:58.904Z"
   },
   {
    "duration": 18,
    "start_time": "2023-03-23T04:46:58.919Z"
   },
   {
    "duration": 23,
    "start_time": "2023-03-23T04:46:58.938Z"
   },
   {
    "duration": 12,
    "start_time": "2023-03-23T04:46:58.963Z"
   },
   {
    "duration": 3,
    "start_time": "2023-03-23T04:46:58.976Z"
   },
   {
    "duration": 9,
    "start_time": "2023-03-23T04:46:58.980Z"
   },
   {
    "duration": 5,
    "start_time": "2023-03-23T04:46:58.991Z"
   },
   {
    "duration": 11,
    "start_time": "2023-03-23T04:46:58.997Z"
   },
   {
    "duration": 34,
    "start_time": "2023-03-23T04:46:59.010Z"
   },
   {
    "duration": 48,
    "start_time": "2023-03-23T04:46:59.045Z"
   },
   {
    "duration": 11,
    "start_time": "2023-03-23T04:46:59.094Z"
   },
   {
    "duration": 8,
    "start_time": "2023-03-23T04:46:59.107Z"
   },
   {
    "duration": 14,
    "start_time": "2023-03-23T04:46:59.116Z"
   },
   {
    "duration": 4,
    "start_time": "2023-03-23T04:46:59.131Z"
   },
   {
    "duration": 9,
    "start_time": "2023-03-23T04:46:59.136Z"
   },
   {
    "duration": 15,
    "start_time": "2023-03-23T04:46:59.161Z"
   },
   {
    "duration": 16,
    "start_time": "2023-03-23T04:46:59.178Z"
   },
   {
    "duration": 153,
    "start_time": "2023-03-23T04:46:59.195Z"
   },
   {
    "duration": 17,
    "start_time": "2023-03-23T04:46:59.350Z"
   },
   {
    "duration": 3,
    "start_time": "2023-03-23T04:46:59.368Z"
   },
   {
    "duration": 26,
    "start_time": "2023-03-23T04:46:59.373Z"
   },
   {
    "duration": 28,
    "start_time": "2023-03-23T04:46:59.400Z"
   },
   {
    "duration": 30,
    "start_time": "2023-03-23T04:46:59.430Z"
   },
   {
    "duration": 48,
    "start_time": "2023-03-23T04:46:59.462Z"
   },
   {
    "duration": 1022,
    "start_time": "2023-03-23T04:46:59.512Z"
   },
   {
    "duration": 54,
    "start_time": "2023-03-23T04:47:00.535Z"
   },
   {
    "duration": 0,
    "start_time": "2023-03-23T04:47:00.591Z"
   },
   {
    "duration": 0,
    "start_time": "2023-03-23T04:47:00.592Z"
   },
   {
    "duration": 0,
    "start_time": "2023-03-23T04:47:00.594Z"
   },
   {
    "duration": 0,
    "start_time": "2023-03-23T04:47:00.595Z"
   },
   {
    "duration": 0,
    "start_time": "2023-03-23T04:47:00.596Z"
   },
   {
    "duration": 0,
    "start_time": "2023-03-23T04:47:00.597Z"
   },
   {
    "duration": 0,
    "start_time": "2023-03-23T04:47:00.598Z"
   },
   {
    "duration": 0,
    "start_time": "2023-03-23T04:47:00.599Z"
   },
   {
    "duration": 0,
    "start_time": "2023-03-23T04:47:00.600Z"
   },
   {
    "duration": 0,
    "start_time": "2023-03-23T04:47:00.601Z"
   },
   {
    "duration": 0,
    "start_time": "2023-03-23T04:47:00.601Z"
   },
   {
    "duration": 0,
    "start_time": "2023-03-23T04:47:00.602Z"
   },
   {
    "duration": 13,
    "start_time": "2023-03-23T05:59:52.382Z"
   },
   {
    "duration": 91,
    "start_time": "2023-03-23T06:00:24.567Z"
   },
   {
    "duration": 10,
    "start_time": "2023-03-23T06:00:43.826Z"
   },
   {
    "duration": 12,
    "start_time": "2023-03-23T06:01:04.119Z"
   },
   {
    "duration": 14,
    "start_time": "2023-03-23T06:05:42.472Z"
   },
   {
    "duration": 4,
    "start_time": "2023-03-23T06:05:55.288Z"
   },
   {
    "duration": 20,
    "start_time": "2023-03-23T06:05:58.339Z"
   },
   {
    "duration": 20,
    "start_time": "2023-03-23T06:06:06.980Z"
   },
   {
    "duration": 23,
    "start_time": "2023-03-23T06:06:08.225Z"
   },
   {
    "duration": 10,
    "start_time": "2023-03-23T06:06:11.115Z"
   },
   {
    "duration": 12,
    "start_time": "2023-03-23T06:07:52.873Z"
   },
   {
    "duration": 1045,
    "start_time": "2023-03-23T06:09:09.469Z"
   },
   {
    "duration": 14,
    "start_time": "2023-03-23T06:09:10.516Z"
   },
   {
    "duration": 18,
    "start_time": "2023-03-23T06:09:10.531Z"
   },
   {
    "duration": 25,
    "start_time": "2023-03-23T06:09:10.550Z"
   },
   {
    "duration": 12,
    "start_time": "2023-03-23T06:09:10.577Z"
   },
   {
    "duration": 5,
    "start_time": "2023-03-23T06:09:10.590Z"
   },
   {
    "duration": 13,
    "start_time": "2023-03-23T06:09:10.596Z"
   },
   {
    "duration": 11,
    "start_time": "2023-03-23T06:09:10.611Z"
   },
   {
    "duration": 8,
    "start_time": "2023-03-23T06:09:10.624Z"
   },
   {
    "duration": 12,
    "start_time": "2023-03-23T06:09:10.634Z"
   },
   {
    "duration": 51,
    "start_time": "2023-03-23T06:09:10.648Z"
   },
   {
    "duration": 11,
    "start_time": "2023-03-23T06:09:10.701Z"
   },
   {
    "duration": 7,
    "start_time": "2023-03-23T06:09:10.713Z"
   },
   {
    "duration": 13,
    "start_time": "2023-03-23T06:09:10.723Z"
   },
   {
    "duration": 5,
    "start_time": "2023-03-23T06:09:10.760Z"
   },
   {
    "duration": 14,
    "start_time": "2023-03-23T06:09:10.766Z"
   },
   {
    "duration": 13,
    "start_time": "2023-03-23T06:09:10.781Z"
   },
   {
    "duration": 7,
    "start_time": "2023-03-23T06:09:10.796Z"
   },
   {
    "duration": 163,
    "start_time": "2023-03-23T06:09:10.805Z"
   },
   {
    "duration": 14,
    "start_time": "2023-03-23T06:09:10.969Z"
   },
   {
    "duration": 101,
    "start_time": "2023-03-23T06:09:10.985Z"
   },
   {
    "duration": 0,
    "start_time": "2023-03-23T06:09:11.089Z"
   },
   {
    "duration": 0,
    "start_time": "2023-03-23T06:09:11.089Z"
   },
   {
    "duration": 0,
    "start_time": "2023-03-23T06:09:11.091Z"
   },
   {
    "duration": 0,
    "start_time": "2023-03-23T06:09:11.092Z"
   },
   {
    "duration": 0,
    "start_time": "2023-03-23T06:09:11.093Z"
   },
   {
    "duration": 0,
    "start_time": "2023-03-23T06:09:11.094Z"
   },
   {
    "duration": 0,
    "start_time": "2023-03-23T06:09:11.095Z"
   },
   {
    "duration": 0,
    "start_time": "2023-03-23T06:09:11.096Z"
   },
   {
    "duration": 0,
    "start_time": "2023-03-23T06:09:11.097Z"
   },
   {
    "duration": 0,
    "start_time": "2023-03-23T06:09:11.098Z"
   },
   {
    "duration": 0,
    "start_time": "2023-03-23T06:09:11.099Z"
   },
   {
    "duration": 0,
    "start_time": "2023-03-23T06:09:11.100Z"
   },
   {
    "duration": 0,
    "start_time": "2023-03-23T06:09:11.101Z"
   },
   {
    "duration": 0,
    "start_time": "2023-03-23T06:09:11.102Z"
   },
   {
    "duration": 0,
    "start_time": "2023-03-23T06:09:11.103Z"
   },
   {
    "duration": 0,
    "start_time": "2023-03-23T06:09:11.104Z"
   },
   {
    "duration": 0,
    "start_time": "2023-03-23T06:09:11.105Z"
   },
   {
    "duration": 0,
    "start_time": "2023-03-23T06:09:11.107Z"
   },
   {
    "duration": 12,
    "start_time": "2023-03-23T06:09:21.647Z"
   },
   {
    "duration": 7,
    "start_time": "2023-03-23T06:09:29.515Z"
   },
   {
    "duration": 48,
    "start_time": "2023-03-23T06:09:41.022Z"
   },
   {
    "duration": 12,
    "start_time": "2023-03-23T06:09:41.914Z"
   },
   {
    "duration": 13,
    "start_time": "2023-03-23T06:09:42.835Z"
   },
   {
    "duration": 24,
    "start_time": "2023-03-23T06:09:45.069Z"
   },
   {
    "duration": 13,
    "start_time": "2023-03-23T06:09:46.242Z"
   },
   {
    "duration": 2,
    "start_time": "2023-03-23T06:09:48.621Z"
   },
   {
    "duration": 7,
    "start_time": "2023-03-23T06:09:50.869Z"
   },
   {
    "duration": 4,
    "start_time": "2023-03-23T06:09:54.418Z"
   },
   {
    "duration": 7,
    "start_time": "2023-03-23T06:09:55.742Z"
   },
   {
    "duration": 8,
    "start_time": "2023-03-23T06:09:57.917Z"
   },
   {
    "duration": 13,
    "start_time": "2023-03-23T06:09:59.161Z"
   },
   {
    "duration": 12,
    "start_time": "2023-03-23T06:10:06.517Z"
   },
   {
    "duration": 6,
    "start_time": "2023-03-23T06:10:10.854Z"
   },
   {
    "duration": 14,
    "start_time": "2023-03-23T06:10:12.446Z"
   },
   {
    "duration": 5,
    "start_time": "2023-03-23T06:10:19.512Z"
   },
   {
    "duration": 4,
    "start_time": "2023-03-23T06:10:20.356Z"
   },
   {
    "duration": 11,
    "start_time": "2023-03-23T06:10:27.266Z"
   },
   {
    "duration": 6,
    "start_time": "2023-03-23T06:10:31.422Z"
   },
   {
    "duration": 7,
    "start_time": "2023-03-23T06:10:36.621Z"
   },
   {
    "duration": 143,
    "start_time": "2023-03-23T06:10:40.959Z"
   },
   {
    "duration": 15,
    "start_time": "2023-03-23T06:10:46.912Z"
   },
   {
    "duration": 17,
    "start_time": "2023-03-23T06:11:19.732Z"
   },
   {
    "duration": 8,
    "start_time": "2023-03-23T06:11:24.124Z"
   },
   {
    "duration": 4,
    "start_time": "2023-03-23T06:11:41.518Z"
   },
   {
    "duration": 24,
    "start_time": "2023-03-23T06:12:02.115Z"
   },
   {
    "duration": 27,
    "start_time": "2023-03-23T06:12:17.235Z"
   },
   {
    "duration": 12,
    "start_time": "2023-03-23T06:14:12.717Z"
   },
   {
    "duration": 3,
    "start_time": "2023-03-23T06:14:26.029Z"
   },
   {
    "duration": 22,
    "start_time": "2023-03-23T06:14:29.813Z"
   },
   {
    "duration": 26,
    "start_time": "2023-03-23T06:14:47.835Z"
   },
   {
    "duration": 12,
    "start_time": "2023-03-23T06:15:29.862Z"
   },
   {
    "duration": 4,
    "start_time": "2023-03-23T06:15:50.218Z"
   },
   {
    "duration": 3,
    "start_time": "2023-03-23T06:16:05.517Z"
   },
   {
    "duration": 25,
    "start_time": "2023-03-23T06:16:36.763Z"
   },
   {
    "duration": 39,
    "start_time": "2023-03-23T06:16:51.036Z"
   },
   {
    "duration": 25,
    "start_time": "2023-03-23T06:17:05.168Z"
   },
   {
    "duration": 8,
    "start_time": "2023-03-23T06:17:42.946Z"
   },
   {
    "duration": 11,
    "start_time": "2023-03-23T06:18:22.415Z"
   },
   {
    "duration": 9,
    "start_time": "2023-03-23T06:19:38.742Z"
   },
   {
    "duration": 8,
    "start_time": "2023-03-23T06:38:59.154Z"
   },
   {
    "duration": 8,
    "start_time": "2023-03-23T06:39:08.569Z"
   },
   {
    "duration": 155,
    "start_time": "2023-03-23T06:39:14.936Z"
   },
   {
    "duration": 12,
    "start_time": "2023-03-23T06:39:40.066Z"
   },
   {
    "duration": 4,
    "start_time": "2023-03-23T06:41:02.259Z"
   },
   {
    "duration": 8,
    "start_time": "2023-03-23T06:41:03.422Z"
   },
   {
    "duration": 11,
    "start_time": "2023-03-23T06:41:04.615Z"
   },
   {
    "duration": 50,
    "start_time": "2023-03-23T06:41:04.845Z"
   },
   {
    "duration": 1030,
    "start_time": "2023-03-23T06:41:06.486Z"
   },
   {
    "duration": 157,
    "start_time": "2023-03-23T06:41:08.817Z"
   },
   {
    "duration": 135,
    "start_time": "2023-03-23T06:41:09.530Z"
   },
   {
    "duration": 12,
    "start_time": "2023-03-23T06:41:10.910Z"
   },
   {
    "duration": 11,
    "start_time": "2023-03-23T06:41:13.723Z"
   },
   {
    "duration": 11,
    "start_time": "2023-03-23T06:41:14.018Z"
   },
   {
    "duration": 12,
    "start_time": "2023-03-23T06:41:14.236Z"
   },
   {
    "duration": 14,
    "start_time": "2023-03-23T06:41:14.818Z"
   },
   {
    "duration": 13,
    "start_time": "2023-03-23T06:41:14.983Z"
   },
   {
    "duration": 13,
    "start_time": "2023-03-23T06:41:15.167Z"
   },
   {
    "duration": 13,
    "start_time": "2023-03-23T06:41:15.326Z"
   },
   {
    "duration": 16,
    "start_time": "2023-03-23T06:41:15.501Z"
   },
   {
    "duration": 12,
    "start_time": "2023-03-23T06:41:15.733Z"
   },
   {
    "duration": 15,
    "start_time": "2023-03-23T06:41:16.019Z"
   },
   {
    "duration": 32,
    "start_time": "2023-03-23T06:45:53.018Z"
   },
   {
    "duration": 10,
    "start_time": "2023-03-23T06:47:25.664Z"
   },
   {
    "duration": 10,
    "start_time": "2023-03-23T06:47:45.267Z"
   },
   {
    "duration": 10,
    "start_time": "2023-03-23T06:48:22.011Z"
   },
   {
    "duration": 10,
    "start_time": "2023-03-23T06:48:33.175Z"
   },
   {
    "duration": 69,
    "start_time": "2023-03-23T06:50:49.948Z"
   },
   {
    "duration": 26,
    "start_time": "2023-03-23T06:54:16.408Z"
   },
   {
    "duration": 35,
    "start_time": "2023-03-23T06:57:14.938Z"
   },
   {
    "duration": 17,
    "start_time": "2023-03-23T06:58:12.459Z"
   },
   {
    "duration": 6,
    "start_time": "2023-03-23T06:58:22.078Z"
   },
   {
    "duration": 63,
    "start_time": "2023-03-23T06:58:22.628Z"
   },
   {
    "duration": 17,
    "start_time": "2023-03-23T06:58:24.391Z"
   },
   {
    "duration": 111,
    "start_time": "2023-03-23T06:58:24.932Z"
   },
   {
    "duration": 1589,
    "start_time": "2023-03-23T06:58:26.782Z"
   },
   {
    "duration": 238,
    "start_time": "2023-03-23T06:58:28.814Z"
   },
   {
    "duration": 190,
    "start_time": "2023-03-23T06:58:29.458Z"
   },
   {
    "duration": 19,
    "start_time": "2023-03-23T06:58:30.706Z"
   },
   {
    "duration": 2314,
    "start_time": "2023-03-23T07:11:14.708Z"
   },
   {
    "duration": 286,
    "start_time": "2023-03-23T07:11:35.080Z"
   },
   {
    "duration": 694,
    "start_time": "2023-03-23T07:12:47.059Z"
   },
   {
    "duration": 189,
    "start_time": "2023-03-23T07:13:16.454Z"
   },
   {
    "duration": 9,
    "start_time": "2023-03-23T07:13:47.530Z"
   },
   {
    "duration": 290,
    "start_time": "2023-03-23T07:13:50.679Z"
   },
   {
    "duration": 1844,
    "start_time": "2023-03-23T07:15:06.843Z"
   },
   {
    "duration": 264,
    "start_time": "2023-03-23T07:17:58.365Z"
   },
   {
    "duration": 12,
    "start_time": "2023-03-23T07:18:46.061Z"
   },
   {
    "duration": 228,
    "start_time": "2023-03-23T07:23:34.461Z"
   },
   {
    "duration": 18,
    "start_time": "2023-03-23T07:32:45.717Z"
   },
   {
    "duration": 19,
    "start_time": "2023-03-23T07:36:58.251Z"
   },
   {
    "duration": 17,
    "start_time": "2023-03-23T07:37:21.808Z"
   },
   {
    "duration": 9,
    "start_time": "2023-03-23T07:49:45.079Z"
   },
   {
    "duration": 45,
    "start_time": "2023-03-23T07:49:58.445Z"
   },
   {
    "duration": 15,
    "start_time": "2023-03-23T07:50:08.130Z"
   },
   {
    "duration": 11,
    "start_time": "2023-03-23T07:50:09.847Z"
   },
   {
    "duration": 15,
    "start_time": "2023-03-23T07:50:10.036Z"
   },
   {
    "duration": 11,
    "start_time": "2023-03-23T07:50:10.226Z"
   },
   {
    "duration": 11,
    "start_time": "2023-03-23T07:50:10.380Z"
   },
   {
    "duration": 13,
    "start_time": "2023-03-23T07:50:10.576Z"
   },
   {
    "duration": 12,
    "start_time": "2023-03-23T07:50:10.734Z"
   },
   {
    "duration": 11,
    "start_time": "2023-03-23T07:50:10.892Z"
   },
   {
    "duration": 13,
    "start_time": "2023-03-23T07:50:11.033Z"
   },
   {
    "duration": 13,
    "start_time": "2023-03-23T07:50:11.191Z"
   },
   {
    "duration": 19,
    "start_time": "2023-03-23T07:50:11.931Z"
   },
   {
    "duration": 23,
    "start_time": "2023-03-23T07:59:48.385Z"
   },
   {
    "duration": 17,
    "start_time": "2023-03-23T08:03:31.995Z"
   },
   {
    "duration": 8,
    "start_time": "2023-03-23T08:21:41.746Z"
   },
   {
    "duration": 10,
    "start_time": "2023-03-23T08:24:48.899Z"
   },
   {
    "duration": 61,
    "start_time": "2023-03-23T08:31:05.080Z"
   },
   {
    "duration": 10,
    "start_time": "2023-03-23T08:39:45.801Z"
   },
   {
    "duration": 15,
    "start_time": "2023-03-23T08:39:57.923Z"
   },
   {
    "duration": 13,
    "start_time": "2023-03-23T08:40:18.230Z"
   },
   {
    "duration": 43,
    "start_time": "2023-03-23T08:40:19.255Z"
   },
   {
    "duration": 15,
    "start_time": "2023-03-23T08:40:20.787Z"
   },
   {
    "duration": 56,
    "start_time": "2023-03-23T08:40:21.476Z"
   },
   {
    "duration": 9,
    "start_time": "2023-03-23T08:40:23.529Z"
   },
   {
    "duration": 74,
    "start_time": "2023-03-23T08:40:24.143Z"
   },
   {
    "duration": 1251,
    "start_time": "2023-03-23T08:40:26.035Z"
   },
   {
    "duration": 182,
    "start_time": "2023-03-23T08:40:28.329Z"
   },
   {
    "duration": 196,
    "start_time": "2023-03-23T08:40:28.853Z"
   },
   {
    "duration": 8,
    "start_time": "2023-03-23T08:40:30.132Z"
   },
   {
    "duration": 13,
    "start_time": "2023-03-23T08:40:31.235Z"
   },
   {
    "duration": 12,
    "start_time": "2023-03-23T08:40:33.330Z"
   },
   {
    "duration": 11,
    "start_time": "2023-03-23T08:40:33.927Z"
   },
   {
    "duration": 25,
    "start_time": "2023-03-23T08:40:34.457Z"
   },
   {
    "duration": 24,
    "start_time": "2023-03-23T08:40:34.974Z"
   },
   {
    "duration": 22,
    "start_time": "2023-03-23T08:40:35.456Z"
   },
   {
    "duration": 22,
    "start_time": "2023-03-23T08:40:35.950Z"
   },
   {
    "duration": 15,
    "start_time": "2023-03-23T08:40:36.505Z"
   },
   {
    "duration": 12,
    "start_time": "2023-03-23T08:40:37.033Z"
   },
   {
    "duration": 14,
    "start_time": "2023-03-23T08:40:37.831Z"
   },
   {
    "duration": 8,
    "start_time": "2023-03-23T08:40:40.517Z"
   },
   {
    "duration": 11,
    "start_time": "2023-03-23T08:40:41.999Z"
   },
   {
    "duration": 1126,
    "start_time": "2023-03-23T08:45:05.330Z"
   },
   {
    "duration": 40,
    "start_time": "2023-03-23T08:45:06.458Z"
   },
   {
    "duration": 39,
    "start_time": "2023-03-23T08:45:06.503Z"
   },
   {
    "duration": 39,
    "start_time": "2023-03-23T08:45:06.543Z"
   },
   {
    "duration": 24,
    "start_time": "2023-03-23T08:45:06.584Z"
   },
   {
    "duration": 10,
    "start_time": "2023-03-23T08:45:06.610Z"
   },
   {
    "duration": 8,
    "start_time": "2023-03-23T08:45:06.621Z"
   },
   {
    "duration": 6,
    "start_time": "2023-03-23T08:45:06.630Z"
   },
   {
    "duration": 10,
    "start_time": "2023-03-23T08:45:06.637Z"
   },
   {
    "duration": 24,
    "start_time": "2023-03-23T08:45:06.648Z"
   },
   {
    "duration": 88,
    "start_time": "2023-03-23T08:45:06.674Z"
   },
   {
    "duration": 13,
    "start_time": "2023-03-23T08:45:06.763Z"
   },
   {
    "duration": 6,
    "start_time": "2023-03-23T08:45:06.778Z"
   },
   {
    "duration": 20,
    "start_time": "2023-03-23T08:45:06.787Z"
   },
   {
    "duration": 20,
    "start_time": "2023-03-23T08:45:06.808Z"
   },
   {
    "duration": 9,
    "start_time": "2023-03-23T08:45:06.829Z"
   },
   {
    "duration": 17,
    "start_time": "2023-03-23T08:45:06.839Z"
   },
   {
    "duration": 47,
    "start_time": "2023-03-23T08:45:06.857Z"
   },
   {
    "duration": 188,
    "start_time": "2023-03-23T08:45:06.906Z"
   },
   {
    "duration": 20,
    "start_time": "2023-03-23T08:45:07.095Z"
   },
   {
    "duration": 18,
    "start_time": "2023-03-23T08:45:07.116Z"
   },
   {
    "duration": 4,
    "start_time": "2023-03-23T08:45:07.136Z"
   },
   {
    "duration": 63,
    "start_time": "2023-03-23T08:45:07.141Z"
   },
   {
    "duration": 20,
    "start_time": "2023-03-23T08:45:07.206Z"
   },
   {
    "duration": 79,
    "start_time": "2023-03-23T08:45:07.228Z"
   },
   {
    "duration": 1249,
    "start_time": "2023-03-23T08:45:07.310Z"
   },
   {
    "duration": 163,
    "start_time": "2023-03-23T08:45:08.561Z"
   },
   {
    "duration": 196,
    "start_time": "2023-03-23T08:45:08.726Z"
   },
   {
    "duration": 20,
    "start_time": "2023-03-23T08:45:08.924Z"
   },
   {
    "duration": 121,
    "start_time": "2023-03-23T08:45:08.945Z"
   },
   {
    "duration": 0,
    "start_time": "2023-03-23T08:45:09.068Z"
   },
   {
    "duration": 0,
    "start_time": "2023-03-23T08:45:09.069Z"
   },
   {
    "duration": 0,
    "start_time": "2023-03-23T08:45:09.070Z"
   },
   {
    "duration": 0,
    "start_time": "2023-03-23T08:45:09.071Z"
   },
   {
    "duration": 0,
    "start_time": "2023-03-23T08:45:09.071Z"
   },
   {
    "duration": 0,
    "start_time": "2023-03-23T08:45:09.072Z"
   },
   {
    "duration": 0,
    "start_time": "2023-03-23T08:45:09.073Z"
   },
   {
    "duration": 0,
    "start_time": "2023-03-23T08:45:09.073Z"
   },
   {
    "duration": 0,
    "start_time": "2023-03-23T08:45:09.074Z"
   },
   {
    "duration": 0,
    "start_time": "2023-03-23T08:45:09.075Z"
   },
   {
    "duration": 0,
    "start_time": "2023-03-23T08:45:09.077Z"
   },
   {
    "duration": 1239,
    "start_time": "2023-03-23T15:39:06.197Z"
   },
   {
    "duration": 20,
    "start_time": "2023-03-23T15:39:07.438Z"
   },
   {
    "duration": 24,
    "start_time": "2023-03-23T15:39:07.460Z"
   },
   {
    "duration": 57,
    "start_time": "2023-03-23T15:39:07.486Z"
   },
   {
    "duration": 17,
    "start_time": "2023-03-23T15:39:07.547Z"
   },
   {
    "duration": 14,
    "start_time": "2023-03-23T15:39:07.566Z"
   },
   {
    "duration": 23,
    "start_time": "2023-03-23T15:39:07.582Z"
   },
   {
    "duration": 25,
    "start_time": "2023-03-23T15:39:07.607Z"
   },
   {
    "duration": 9,
    "start_time": "2023-03-23T15:39:07.634Z"
   },
   {
    "duration": 12,
    "start_time": "2023-03-23T15:39:07.645Z"
   },
   {
    "duration": 60,
    "start_time": "2023-03-23T15:39:07.659Z"
   },
   {
    "duration": 15,
    "start_time": "2023-03-23T15:39:07.721Z"
   },
   {
    "duration": 9,
    "start_time": "2023-03-23T15:39:07.738Z"
   },
   {
    "duration": 36,
    "start_time": "2023-03-23T15:39:07.750Z"
   },
   {
    "duration": 6,
    "start_time": "2023-03-23T15:39:07.788Z"
   },
   {
    "duration": 9,
    "start_time": "2023-03-23T15:39:07.796Z"
   },
   {
    "duration": 18,
    "start_time": "2023-03-23T15:39:07.807Z"
   },
   {
    "duration": 9,
    "start_time": "2023-03-23T15:39:07.828Z"
   },
   {
    "duration": 243,
    "start_time": "2023-03-23T15:39:07.839Z"
   },
   {
    "duration": 22,
    "start_time": "2023-03-23T15:39:08.084Z"
   },
   {
    "duration": 28,
    "start_time": "2023-03-23T15:39:08.108Z"
   },
   {
    "duration": 9,
    "start_time": "2023-03-23T15:39:08.138Z"
   },
   {
    "duration": 56,
    "start_time": "2023-03-23T15:39:08.149Z"
   },
   {
    "duration": 16,
    "start_time": "2023-03-23T15:39:08.207Z"
   },
   {
    "duration": 85,
    "start_time": "2023-03-23T15:39:08.224Z"
   },
   {
    "duration": 1382,
    "start_time": "2023-03-23T15:39:08.310Z"
   },
   {
    "duration": 184,
    "start_time": "2023-03-23T15:39:09.694Z"
   },
   {
    "duration": 182,
    "start_time": "2023-03-23T15:39:09.881Z"
   },
   {
    "duration": 19,
    "start_time": "2023-03-23T15:39:10.065Z"
   },
   {
    "duration": 125,
    "start_time": "2023-03-23T15:39:10.087Z"
   },
   {
    "duration": 0,
    "start_time": "2023-03-23T15:39:10.214Z"
   },
   {
    "duration": 0,
    "start_time": "2023-03-23T15:39:10.215Z"
   },
   {
    "duration": 0,
    "start_time": "2023-03-23T15:39:10.217Z"
   },
   {
    "duration": 0,
    "start_time": "2023-03-23T15:39:10.218Z"
   },
   {
    "duration": 0,
    "start_time": "2023-03-23T15:39:10.220Z"
   },
   {
    "duration": 0,
    "start_time": "2023-03-23T15:39:10.222Z"
   },
   {
    "duration": 0,
    "start_time": "2023-03-23T15:39:10.223Z"
   },
   {
    "duration": 0,
    "start_time": "2023-03-23T15:39:10.225Z"
   },
   {
    "duration": 0,
    "start_time": "2023-03-23T15:39:10.227Z"
   },
   {
    "duration": 0,
    "start_time": "2023-03-23T15:39:10.229Z"
   },
   {
    "duration": 0,
    "start_time": "2023-03-23T15:39:10.230Z"
   },
   {
    "duration": 16,
    "start_time": "2023-03-23T15:40:16.358Z"
   },
   {
    "duration": 1245,
    "start_time": "2023-03-23T15:40:23.192Z"
   },
   {
    "duration": 16,
    "start_time": "2023-03-23T15:40:24.440Z"
   },
   {
    "duration": 20,
    "start_time": "2023-03-23T15:40:24.458Z"
   },
   {
    "duration": 32,
    "start_time": "2023-03-23T15:40:24.480Z"
   },
   {
    "duration": 15,
    "start_time": "2023-03-23T15:40:24.514Z"
   },
   {
    "duration": 3,
    "start_time": "2023-03-23T15:40:24.531Z"
   },
   {
    "duration": 9,
    "start_time": "2023-03-23T15:40:24.536Z"
   },
   {
    "duration": 28,
    "start_time": "2023-03-23T15:40:24.547Z"
   },
   {
    "duration": 9,
    "start_time": "2023-03-23T15:40:24.577Z"
   },
   {
    "duration": 9,
    "start_time": "2023-03-23T15:40:24.589Z"
   },
   {
    "duration": 79,
    "start_time": "2023-03-23T15:40:24.600Z"
   },
   {
    "duration": 14,
    "start_time": "2023-03-23T15:40:24.681Z"
   },
   {
    "duration": 10,
    "start_time": "2023-03-23T15:40:24.697Z"
   },
   {
    "duration": 20,
    "start_time": "2023-03-23T15:40:24.709Z"
   },
   {
    "duration": 5,
    "start_time": "2023-03-23T15:40:24.731Z"
   },
   {
    "duration": 6,
    "start_time": "2023-03-23T15:40:24.738Z"
   },
   {
    "duration": 42,
    "start_time": "2023-03-23T15:40:24.745Z"
   },
   {
    "duration": 10,
    "start_time": "2023-03-23T15:40:24.789Z"
   },
   {
    "duration": 207,
    "start_time": "2023-03-23T15:40:24.801Z"
   },
   {
    "duration": 20,
    "start_time": "2023-03-23T15:40:25.010Z"
   },
   {
    "duration": 18,
    "start_time": "2023-03-23T15:40:25.031Z"
   },
   {
    "duration": 25,
    "start_time": "2023-03-23T15:40:25.051Z"
   },
   {
    "duration": 53,
    "start_time": "2023-03-23T15:40:25.078Z"
   },
   {
    "duration": 12,
    "start_time": "2023-03-23T15:40:25.133Z"
   },
   {
    "duration": 80,
    "start_time": "2023-03-23T15:40:25.148Z"
   },
   {
    "duration": 1408,
    "start_time": "2023-03-23T15:40:25.230Z"
   },
   {
    "duration": 184,
    "start_time": "2023-03-23T15:40:26.639Z"
   },
   {
    "duration": 190,
    "start_time": "2023-03-23T15:40:26.826Z"
   },
   {
    "duration": 11,
    "start_time": "2023-03-23T15:40:27.019Z"
   },
   {
    "duration": 16,
    "start_time": "2023-03-23T15:40:27.033Z"
   },
   {
    "duration": 34,
    "start_time": "2023-03-23T15:40:27.051Z"
   },
   {
    "duration": 14,
    "start_time": "2023-03-23T15:40:27.088Z"
   },
   {
    "duration": 12,
    "start_time": "2023-03-23T15:40:27.104Z"
   },
   {
    "duration": 17,
    "start_time": "2023-03-23T15:40:27.118Z"
   },
   {
    "duration": 48,
    "start_time": "2023-03-23T15:40:27.137Z"
   },
   {
    "duration": 13,
    "start_time": "2023-03-23T15:40:27.187Z"
   },
   {
    "duration": 12,
    "start_time": "2023-03-23T15:40:27.202Z"
   },
   {
    "duration": 13,
    "start_time": "2023-03-23T15:40:27.216Z"
   },
   {
    "duration": 12,
    "start_time": "2023-03-23T15:40:27.231Z"
   },
   {
    "duration": 8,
    "start_time": "2023-03-23T15:40:27.276Z"
   },
   {
    "duration": 9,
    "start_time": "2023-03-23T15:40:27.286Z"
   },
   {
    "duration": 1282,
    "start_time": "2023-03-23T19:23:07.616Z"
   },
   {
    "duration": 105,
    "start_time": "2023-03-23T19:23:08.900Z"
   },
   {
    "duration": 18,
    "start_time": "2023-03-23T19:23:14.394Z"
   },
   {
    "duration": 19,
    "start_time": "2023-03-23T19:23:15.123Z"
   },
   {
    "duration": 15,
    "start_time": "2023-03-23T19:28:18.451Z"
   },
   {
    "duration": 111,
    "start_time": "2023-03-23T19:29:20.769Z"
   },
   {
    "duration": 25,
    "start_time": "2023-03-23T19:32:32.420Z"
   },
   {
    "duration": 27,
    "start_time": "2023-03-23T19:33:48.995Z"
   },
   {
    "duration": 20,
    "start_time": "2023-03-23T19:34:46.001Z"
   },
   {
    "duration": 27,
    "start_time": "2023-03-23T19:35:23.770Z"
   },
   {
    "duration": 38,
    "start_time": "2023-03-23T21:10:36.326Z"
   },
   {
    "duration": 18,
    "start_time": "2023-03-23T21:10:47.261Z"
   },
   {
    "duration": 774,
    "start_time": "2023-03-23T21:21:45.928Z"
   },
   {
    "duration": 801,
    "start_time": "2023-03-23T21:22:33.119Z"
   },
   {
    "duration": 748,
    "start_time": "2023-03-23T21:23:31.497Z"
   },
   {
    "duration": 3,
    "start_time": "2023-03-23T21:24:29.932Z"
   },
   {
    "duration": 62,
    "start_time": "2023-03-23T21:24:29.937Z"
   },
   {
    "duration": 13,
    "start_time": "2023-03-23T21:24:30.000Z"
   },
   {
    "duration": 20,
    "start_time": "2023-03-23T21:24:30.014Z"
   },
   {
    "duration": 61,
    "start_time": "2023-03-23T21:24:30.036Z"
   },
   {
    "duration": 20,
    "start_time": "2023-03-23T21:24:30.099Z"
   },
   {
    "duration": 32,
    "start_time": "2023-03-23T21:24:30.121Z"
   },
   {
    "duration": 3,
    "start_time": "2023-03-23T21:24:30.155Z"
   },
   {
    "duration": 15,
    "start_time": "2023-03-23T21:24:30.160Z"
   },
   {
    "duration": 17,
    "start_time": "2023-03-23T21:24:30.177Z"
   },
   {
    "duration": 26,
    "start_time": "2023-03-23T21:24:30.196Z"
   },
   {
    "duration": 20,
    "start_time": "2023-03-23T21:24:30.224Z"
   },
   {
    "duration": 89,
    "start_time": "2023-03-23T21:24:30.246Z"
   },
   {
    "duration": 13,
    "start_time": "2023-03-23T21:24:30.337Z"
   },
   {
    "duration": 31,
    "start_time": "2023-03-23T21:24:30.352Z"
   },
   {
    "duration": 48,
    "start_time": "2023-03-23T21:24:30.385Z"
   },
   {
    "duration": 22,
    "start_time": "2023-03-23T21:24:30.435Z"
   },
   {
    "duration": 28,
    "start_time": "2023-03-23T21:24:30.459Z"
   },
   {
    "duration": 34,
    "start_time": "2023-03-23T21:24:30.488Z"
   },
   {
    "duration": 27,
    "start_time": "2023-03-23T21:24:30.525Z"
   },
   {
    "duration": 178,
    "start_time": "2023-03-23T21:24:34.724Z"
   },
   {
    "duration": 312,
    "start_time": "2023-03-23T21:26:44.548Z"
   },
   {
    "duration": 1265,
    "start_time": "2023-03-23T21:32:44.545Z"
   },
   {
    "duration": 523,
    "start_time": "2023-03-23T22:01:36.657Z"
   },
   {
    "duration": 387,
    "start_time": "2023-03-23T22:02:47.531Z"
   },
   {
    "duration": 494,
    "start_time": "2023-03-23T22:03:16.918Z"
   },
   {
    "duration": 447,
    "start_time": "2023-03-23T22:03:53.659Z"
   },
   {
    "duration": 415,
    "start_time": "2023-03-23T22:05:47.804Z"
   },
   {
    "duration": 437,
    "start_time": "2023-03-23T22:06:03.287Z"
   },
   {
    "duration": 2161,
    "start_time": "2023-03-23T22:06:30.454Z"
   },
   {
    "duration": 2196,
    "start_time": "2023-03-23T22:06:42.457Z"
   },
   {
    "duration": 2206,
    "start_time": "2023-03-23T22:06:54.444Z"
   },
   {
    "duration": 410,
    "start_time": "2023-03-23T22:07:04.442Z"
   },
   {
    "duration": 427,
    "start_time": "2023-03-23T22:07:43.109Z"
   },
   {
    "duration": 421,
    "start_time": "2023-03-23T22:07:50.583Z"
   },
   {
    "duration": 384,
    "start_time": "2023-03-23T22:07:56.045Z"
   },
   {
    "duration": 520,
    "start_time": "2023-03-23T22:09:08.818Z"
   },
   {
    "duration": 413,
    "start_time": "2023-03-23T22:10:10.944Z"
   },
   {
    "duration": 179,
    "start_time": "2023-03-23T22:15:24.993Z"
   },
   {
    "duration": 1122,
    "start_time": "2023-03-23T22:25:45.068Z"
   },
   {
    "duration": 60,
    "start_time": "2023-03-23T22:25:46.192Z"
   },
   {
    "duration": 16,
    "start_time": "2023-03-23T22:25:46.255Z"
   },
   {
    "duration": 33,
    "start_time": "2023-03-23T22:25:46.273Z"
   },
   {
    "duration": 42,
    "start_time": "2023-03-23T22:25:46.308Z"
   },
   {
    "duration": 15,
    "start_time": "2023-03-23T22:25:46.352Z"
   },
   {
    "duration": 29,
    "start_time": "2023-03-23T22:25:46.369Z"
   },
   {
    "duration": 13,
    "start_time": "2023-03-23T22:25:46.399Z"
   },
   {
    "duration": 23,
    "start_time": "2023-03-23T22:25:46.413Z"
   },
   {
    "duration": 8,
    "start_time": "2023-03-23T22:25:46.439Z"
   },
   {
    "duration": 19,
    "start_time": "2023-03-23T22:25:46.448Z"
   },
   {
    "duration": 34,
    "start_time": "2023-03-23T22:25:46.469Z"
   },
   {
    "duration": 65,
    "start_time": "2023-03-23T22:25:46.505Z"
   },
   {
    "duration": 13,
    "start_time": "2023-03-23T22:25:46.572Z"
   },
   {
    "duration": 16,
    "start_time": "2023-03-23T22:25:46.587Z"
   },
   {
    "duration": 24,
    "start_time": "2023-03-23T22:25:46.604Z"
   },
   {
    "duration": 8,
    "start_time": "2023-03-23T22:25:46.629Z"
   },
   {
    "duration": 10,
    "start_time": "2023-03-23T22:25:46.639Z"
   },
   {
    "duration": 20,
    "start_time": "2023-03-23T22:25:46.651Z"
   },
   {
    "duration": 13,
    "start_time": "2023-03-23T22:25:46.673Z"
   },
   {
    "duration": 199,
    "start_time": "2023-03-23T22:25:46.688Z"
   },
   {
    "duration": 30,
    "start_time": "2023-03-23T22:25:46.888Z"
   },
   {
    "duration": 16,
    "start_time": "2023-03-23T22:25:46.920Z"
   },
   {
    "duration": 4,
    "start_time": "2023-03-23T22:25:46.938Z"
   },
   {
    "duration": 41,
    "start_time": "2023-03-23T22:25:46.943Z"
   },
   {
    "duration": 39,
    "start_time": "2023-03-23T22:25:46.985Z"
   },
   {
    "duration": 60,
    "start_time": "2023-03-23T22:25:47.026Z"
   },
   {
    "duration": 484,
    "start_time": "2023-03-23T22:25:47.089Z"
   },
   {
    "duration": 476,
    "start_time": "2023-03-23T22:25:47.574Z"
   },
   {
    "duration": 178,
    "start_time": "2023-03-23T22:25:48.051Z"
   },
   {
    "duration": 177,
    "start_time": "2023-03-23T22:25:48.231Z"
   },
   {
    "duration": 11,
    "start_time": "2023-03-23T22:25:48.410Z"
   },
   {
    "duration": 32,
    "start_time": "2023-03-23T22:25:48.423Z"
   },
   {
    "duration": 19,
    "start_time": "2023-03-23T22:25:48.457Z"
   },
   {
    "duration": 14,
    "start_time": "2023-03-23T22:25:48.479Z"
   },
   {
    "duration": 23,
    "start_time": "2023-03-23T22:25:48.496Z"
   },
   {
    "duration": 12,
    "start_time": "2023-03-23T22:25:48.521Z"
   },
   {
    "duration": 98,
    "start_time": "2023-03-23T22:25:48.534Z"
   },
   {
    "duration": 11,
    "start_time": "2023-03-23T22:25:48.634Z"
   },
   {
    "duration": 13,
    "start_time": "2023-03-23T22:25:48.647Z"
   },
   {
    "duration": 12,
    "start_time": "2023-03-23T22:25:48.662Z"
   },
   {
    "duration": 42,
    "start_time": "2023-03-23T22:25:48.676Z"
   },
   {
    "duration": 116,
    "start_time": "2023-03-23T22:25:48.720Z"
   },
   {
    "duration": 0,
    "start_time": "2023-03-23T22:25:48.838Z"
   },
   {
    "duration": 972,
    "start_time": "2023-03-23T22:27:20.638Z"
   },
   {
    "duration": 195,
    "start_time": "2023-03-23T22:28:16.709Z"
   },
   {
    "duration": 257,
    "start_time": "2023-03-23T22:29:53.363Z"
   },
   {
    "duration": 10,
    "start_time": "2023-03-23T22:30:06.371Z"
   },
   {
    "duration": 254,
    "start_time": "2023-03-23T22:30:44.163Z"
   },
   {
    "duration": 11,
    "start_time": "2023-03-23T22:30:47.056Z"
   },
   {
    "duration": 10,
    "start_time": "2023-03-23T22:30:52.473Z"
   },
   {
    "duration": 183,
    "start_time": "2023-03-23T22:31:16.805Z"
   },
   {
    "duration": 8,
    "start_time": "2023-03-23T22:33:25.315Z"
   },
   {
    "duration": 260,
    "start_time": "2023-03-23T22:33:41.940Z"
   },
   {
    "duration": 1106,
    "start_time": "2023-03-23T22:33:56.179Z"
   },
   {
    "duration": 53,
    "start_time": "2023-03-23T22:33:57.287Z"
   },
   {
    "duration": 16,
    "start_time": "2023-03-23T22:33:57.342Z"
   },
   {
    "duration": 27,
    "start_time": "2023-03-23T22:33:57.360Z"
   },
   {
    "duration": 38,
    "start_time": "2023-03-23T22:33:57.389Z"
   },
   {
    "duration": 16,
    "start_time": "2023-03-23T22:33:57.429Z"
   },
   {
    "duration": 25,
    "start_time": "2023-03-23T22:33:57.447Z"
   },
   {
    "duration": 3,
    "start_time": "2023-03-23T22:33:57.474Z"
   },
   {
    "duration": 17,
    "start_time": "2023-03-23T22:33:57.479Z"
   },
   {
    "duration": 26,
    "start_time": "2023-03-23T22:33:57.498Z"
   },
   {
    "duration": 10,
    "start_time": "2023-03-23T22:33:57.526Z"
   },
   {
    "duration": 19,
    "start_time": "2023-03-23T22:33:57.538Z"
   },
   {
    "duration": 19,
    "start_time": "2023-03-23T22:33:57.558Z"
   },
   {
    "duration": 58,
    "start_time": "2023-03-23T22:33:57.580Z"
   },
   {
    "duration": 15,
    "start_time": "2023-03-23T22:33:57.640Z"
   },
   {
    "duration": 7,
    "start_time": "2023-03-23T22:33:57.657Z"
   },
   {
    "duration": 18,
    "start_time": "2023-03-23T22:33:57.665Z"
   },
   {
    "duration": 4,
    "start_time": "2023-03-23T22:33:57.685Z"
   },
   {
    "duration": 32,
    "start_time": "2023-03-23T22:33:57.691Z"
   },
   {
    "duration": 21,
    "start_time": "2023-03-23T22:33:57.724Z"
   },
   {
    "duration": 11,
    "start_time": "2023-03-23T22:33:57.746Z"
   },
   {
    "duration": 199,
    "start_time": "2023-03-23T22:33:57.758Z"
   },
   {
    "duration": 18,
    "start_time": "2023-03-23T22:33:57.958Z"
   },
   {
    "duration": 17,
    "start_time": "2023-03-23T22:33:57.977Z"
   },
   {
    "duration": 25,
    "start_time": "2023-03-23T22:33:57.995Z"
   },
   {
    "duration": 43,
    "start_time": "2023-03-23T22:33:58.021Z"
   },
   {
    "duration": 11,
    "start_time": "2023-03-23T22:33:58.066Z"
   },
   {
    "duration": 78,
    "start_time": "2023-03-23T22:33:58.079Z"
   },
   {
    "duration": 461,
    "start_time": "2023-03-23T22:33:58.159Z"
   },
   {
    "duration": 456,
    "start_time": "2023-03-23T22:33:58.621Z"
   },
   {
    "duration": 178,
    "start_time": "2023-03-23T22:33:59.079Z"
   },
   {
    "duration": 169,
    "start_time": "2023-03-23T22:33:59.259Z"
   },
   {
    "duration": 8,
    "start_time": "2023-03-23T22:33:59.430Z"
   },
   {
    "duration": 20,
    "start_time": "2023-03-23T22:33:59.439Z"
   },
   {
    "duration": 21,
    "start_time": "2023-03-23T22:33:59.461Z"
   },
   {
    "duration": 12,
    "start_time": "2023-03-23T22:33:59.484Z"
   },
   {
    "duration": 100,
    "start_time": "2023-03-23T22:33:59.497Z"
   },
   {
    "duration": 20,
    "start_time": "2023-03-23T22:33:59.598Z"
   },
   {
    "duration": 13,
    "start_time": "2023-03-23T22:33:59.621Z"
   },
   {
    "duration": 16,
    "start_time": "2023-03-23T22:33:59.636Z"
   },
   {
    "duration": 12,
    "start_time": "2023-03-23T22:33:59.655Z"
   },
   {
    "duration": 13,
    "start_time": "2023-03-23T22:33:59.668Z"
   },
   {
    "duration": 45,
    "start_time": "2023-03-23T22:33:59.682Z"
   },
   {
    "duration": 12,
    "start_time": "2023-03-23T22:33:59.728Z"
   },
   {
    "duration": 117,
    "start_time": "2023-03-23T22:33:59.741Z"
   },
   {
    "duration": 0,
    "start_time": "2023-03-23T22:33:59.860Z"
   },
   {
    "duration": 158,
    "start_time": "2023-03-23T22:36:53.029Z"
   },
   {
    "duration": 187,
    "start_time": "2023-03-23T22:37:15.815Z"
   },
   {
    "duration": 10,
    "start_time": "2023-03-23T22:37:45.921Z"
   },
   {
    "duration": 9,
    "start_time": "2023-03-23T22:38:39.316Z"
   },
   {
    "duration": 28,
    "start_time": "2023-03-23T22:40:13.125Z"
   },
   {
    "duration": 23,
    "start_time": "2023-03-23T22:40:42.703Z"
   },
   {
    "duration": 12,
    "start_time": "2023-03-23T22:41:22.980Z"
   },
   {
    "duration": 22,
    "start_time": "2023-03-23T22:47:25.560Z"
   },
   {
    "duration": 22,
    "start_time": "2023-03-23T22:47:41.436Z"
   },
   {
    "duration": 16,
    "start_time": "2023-03-23T22:50:50.535Z"
   },
   {
    "duration": 14,
    "start_time": "2023-03-23T22:51:05.246Z"
   },
   {
    "duration": 8,
    "start_time": "2023-03-23T22:52:29.824Z"
   },
   {
    "duration": 10,
    "start_time": "2023-03-23T22:52:51.488Z"
   },
   {
    "duration": 8,
    "start_time": "2023-03-23T22:54:04.505Z"
   },
   {
    "duration": 10,
    "start_time": "2023-03-23T22:55:18.630Z"
   },
   {
    "duration": 8,
    "start_time": "2023-03-23T22:55:50.338Z"
   },
   {
    "duration": 1180,
    "start_time": "2023-03-23T23:00:33.703Z"
   },
   {
    "duration": 55,
    "start_time": "2023-03-23T23:00:34.886Z"
   },
   {
    "duration": 18,
    "start_time": "2023-03-23T23:00:34.943Z"
   },
   {
    "duration": 32,
    "start_time": "2023-03-23T23:00:34.963Z"
   },
   {
    "duration": 43,
    "start_time": "2023-03-23T23:00:34.996Z"
   },
   {
    "duration": 19,
    "start_time": "2023-03-23T23:00:35.040Z"
   },
   {
    "duration": 46,
    "start_time": "2023-03-23T23:00:35.060Z"
   },
   {
    "duration": 9,
    "start_time": "2023-03-23T23:00:35.108Z"
   },
   {
    "duration": 24,
    "start_time": "2023-03-23T23:00:35.119Z"
   },
   {
    "duration": 21,
    "start_time": "2023-03-23T23:00:35.146Z"
   },
   {
    "duration": 10,
    "start_time": "2023-03-23T23:00:35.169Z"
   },
   {
    "duration": 18,
    "start_time": "2023-03-23T23:00:35.181Z"
   },
   {
    "duration": 22,
    "start_time": "2023-03-23T23:00:35.201Z"
   },
   {
    "duration": 72,
    "start_time": "2023-03-23T23:00:35.226Z"
   },
   {
    "duration": 18,
    "start_time": "2023-03-23T23:00:35.300Z"
   },
   {
    "duration": 19,
    "start_time": "2023-03-23T23:00:35.320Z"
   },
   {
    "duration": 30,
    "start_time": "2023-03-23T23:00:35.340Z"
   },
   {
    "duration": 13,
    "start_time": "2023-03-23T23:00:35.372Z"
   },
   {
    "duration": 19,
    "start_time": "2023-03-23T23:00:35.387Z"
   },
   {
    "duration": 20,
    "start_time": "2023-03-23T23:00:35.408Z"
   },
   {
    "duration": 30,
    "start_time": "2023-03-23T23:00:35.430Z"
   },
   {
    "duration": 191,
    "start_time": "2023-03-23T23:00:35.461Z"
   },
   {
    "duration": 16,
    "start_time": "2023-03-23T23:00:35.654Z"
   },
   {
    "duration": 31,
    "start_time": "2023-03-23T23:00:35.672Z"
   },
   {
    "duration": 12,
    "start_time": "2023-03-23T23:00:35.705Z"
   },
   {
    "duration": 53,
    "start_time": "2023-03-23T23:00:35.719Z"
   },
   {
    "duration": 12,
    "start_time": "2023-03-23T23:00:35.773Z"
   },
   {
    "duration": 95,
    "start_time": "2023-03-23T23:00:35.788Z"
   },
   {
    "duration": 445,
    "start_time": "2023-03-23T23:00:35.885Z"
   },
   {
    "duration": 447,
    "start_time": "2023-03-23T23:00:36.332Z"
   },
   {
    "duration": 184,
    "start_time": "2023-03-23T23:00:36.781Z"
   },
   {
    "duration": 183,
    "start_time": "2023-03-23T23:00:36.967Z"
   },
   {
    "duration": 10,
    "start_time": "2023-03-23T23:00:37.153Z"
   },
   {
    "duration": 29,
    "start_time": "2023-03-23T23:00:37.165Z"
   },
   {
    "duration": 257,
    "start_time": "2023-03-23T23:00:37.196Z"
   },
   {
    "duration": 182,
    "start_time": "2023-03-23T23:00:37.455Z"
   },
   {
    "duration": 9,
    "start_time": "2023-03-23T23:00:37.639Z"
   },
   {
    "duration": 12,
    "start_time": "2023-03-23T23:00:37.650Z"
   },
   {
    "duration": 17,
    "start_time": "2023-03-23T23:00:37.664Z"
   },
   {
    "duration": 12,
    "start_time": "2023-03-23T23:00:37.683Z"
   },
   {
    "duration": 13,
    "start_time": "2023-03-23T23:00:37.718Z"
   },
   {
    "duration": 14,
    "start_time": "2023-03-23T23:00:37.733Z"
   },
   {
    "duration": 13,
    "start_time": "2023-03-23T23:00:37.749Z"
   },
   {
    "duration": 14,
    "start_time": "2023-03-23T23:00:37.763Z"
   },
   {
    "duration": 43,
    "start_time": "2023-03-23T23:00:37.779Z"
   },
   {
    "duration": 12,
    "start_time": "2023-03-23T23:00:37.824Z"
   },
   {
    "duration": 13,
    "start_time": "2023-03-23T23:00:37.838Z"
   },
   {
    "duration": 11,
    "start_time": "2023-03-23T23:00:37.853Z"
   },
   {
    "duration": 8,
    "start_time": "2023-03-23T23:00:37.866Z"
   },
   {
    "duration": 45,
    "start_time": "2023-03-23T23:00:37.876Z"
   },
   {
    "duration": 4,
    "start_time": "2023-03-23T23:02:08.455Z"
   },
   {
    "duration": 1121,
    "start_time": "2023-03-23T23:02:17.576Z"
   },
   {
    "duration": 56,
    "start_time": "2023-03-23T23:02:18.699Z"
   },
   {
    "duration": 18,
    "start_time": "2023-03-23T23:02:18.757Z"
   },
   {
    "duration": 20,
    "start_time": "2023-03-23T23:02:18.778Z"
   },
   {
    "duration": 42,
    "start_time": "2023-03-23T23:02:18.800Z"
   },
   {
    "duration": 16,
    "start_time": "2023-03-23T23:02:18.844Z"
   },
   {
    "duration": 25,
    "start_time": "2023-03-23T23:02:18.863Z"
   },
   {
    "duration": 3,
    "start_time": "2023-03-23T23:02:18.890Z"
   },
   {
    "duration": 8,
    "start_time": "2023-03-23T23:02:18.917Z"
   },
   {
    "duration": 19,
    "start_time": "2023-03-23T23:02:18.927Z"
   },
   {
    "duration": 8,
    "start_time": "2023-03-23T23:02:18.948Z"
   },
   {
    "duration": 17,
    "start_time": "2023-03-23T23:02:18.957Z"
   },
   {
    "duration": 14,
    "start_time": "2023-03-23T23:02:18.975Z"
   },
   {
    "duration": 62,
    "start_time": "2023-03-23T23:02:18.990Z"
   },
   {
    "duration": 15,
    "start_time": "2023-03-23T23:02:19.054Z"
   },
   {
    "duration": 7,
    "start_time": "2023-03-23T23:02:19.071Z"
   },
   {
    "duration": 37,
    "start_time": "2023-03-23T23:02:19.080Z"
   },
   {
    "duration": 10,
    "start_time": "2023-03-23T23:02:19.119Z"
   },
   {
    "duration": 9,
    "start_time": "2023-03-23T23:02:19.131Z"
   },
   {
    "duration": 20,
    "start_time": "2023-03-23T23:02:19.141Z"
   },
   {
    "duration": 18,
    "start_time": "2023-03-23T23:02:19.162Z"
   },
   {
    "duration": 191,
    "start_time": "2023-03-23T23:02:19.182Z"
   },
   {
    "duration": 17,
    "start_time": "2023-03-23T23:02:19.375Z"
   },
   {
    "duration": 27,
    "start_time": "2023-03-23T23:02:19.394Z"
   },
   {
    "duration": 7,
    "start_time": "2023-03-23T23:02:19.423Z"
   },
   {
    "duration": 47,
    "start_time": "2023-03-23T23:02:19.431Z"
   },
   {
    "duration": 12,
    "start_time": "2023-03-23T23:02:19.480Z"
   },
   {
    "duration": 86,
    "start_time": "2023-03-23T23:02:19.495Z"
   },
   {
    "duration": 483,
    "start_time": "2023-03-23T23:02:19.583Z"
   },
   {
    "duration": 471,
    "start_time": "2023-03-23T23:02:20.068Z"
   },
   {
    "duration": 177,
    "start_time": "2023-03-23T23:02:20.540Z"
   },
   {
    "duration": 174,
    "start_time": "2023-03-23T23:02:20.719Z"
   },
   {
    "duration": 23,
    "start_time": "2023-03-23T23:02:20.895Z"
   },
   {
    "duration": 9,
    "start_time": "2023-03-23T23:02:20.920Z"
   },
   {
    "duration": 242,
    "start_time": "2023-03-23T23:02:20.931Z"
   },
   {
    "duration": 180,
    "start_time": "2023-03-23T23:02:21.175Z"
   },
   {
    "duration": 9,
    "start_time": "2023-03-23T23:02:21.357Z"
   },
   {
    "duration": 16,
    "start_time": "2023-03-23T23:02:21.368Z"
   },
   {
    "duration": 31,
    "start_time": "2023-03-23T23:02:21.386Z"
   },
   {
    "duration": 28,
    "start_time": "2023-03-23T23:02:21.419Z"
   },
   {
    "duration": 12,
    "start_time": "2023-03-23T23:02:21.449Z"
   },
   {
    "duration": 17,
    "start_time": "2023-03-23T23:02:21.463Z"
   },
   {
    "duration": 12,
    "start_time": "2023-03-23T23:02:21.482Z"
   },
   {
    "duration": 40,
    "start_time": "2023-03-23T23:02:21.495Z"
   },
   {
    "duration": 17,
    "start_time": "2023-03-23T23:02:21.536Z"
   },
   {
    "duration": 15,
    "start_time": "2023-03-23T23:02:21.555Z"
   },
   {
    "duration": 28,
    "start_time": "2023-03-23T23:02:21.572Z"
   },
   {
    "duration": 35,
    "start_time": "2023-03-23T23:02:21.602Z"
   },
   {
    "duration": 11,
    "start_time": "2023-03-23T23:02:21.639Z"
   },
   {
    "duration": 26,
    "start_time": "2023-03-23T23:02:21.652Z"
   },
   {
    "duration": 3,
    "start_time": "2023-03-23T23:42:56.151Z"
   },
   {
    "duration": 6,
    "start_time": "2023-03-23T23:42:57.109Z"
   },
   {
    "duration": 63,
    "start_time": "2023-03-24T00:19:15.589Z"
   },
   {
    "duration": 15,
    "start_time": "2023-03-24T00:19:55.355Z"
   },
   {
    "duration": 45,
    "start_time": "2023-03-24T00:20:38.795Z"
   },
   {
    "duration": 40,
    "start_time": "2023-03-24T00:21:02.265Z"
   },
   {
    "duration": 51,
    "start_time": "2023-03-24T00:21:24.520Z"
   },
   {
    "duration": 464,
    "start_time": "2023-03-24T00:21:46.078Z"
   },
   {
    "duration": 431,
    "start_time": "2023-03-24T00:22:02.910Z"
   },
   {
    "duration": 167,
    "start_time": "2023-03-24T00:22:54.912Z"
   },
   {
    "duration": 159,
    "start_time": "2023-03-24T00:23:38.489Z"
   },
   {
    "duration": 4,
    "start_time": "2023-03-24T00:25:49.652Z"
   },
   {
    "duration": 9,
    "start_time": "2023-03-24T00:26:24.336Z"
   },
   {
    "duration": 150,
    "start_time": "2023-03-24T00:26:42.767Z"
   },
   {
    "duration": 10,
    "start_time": "2023-03-24T00:27:36.190Z"
   },
   {
    "duration": 11,
    "start_time": "2023-03-24T00:27:52.417Z"
   },
   {
    "duration": 14,
    "start_time": "2023-03-24T00:28:02.285Z"
   },
   {
    "duration": 13,
    "start_time": "2023-03-24T00:33:31.693Z"
   },
   {
    "duration": 11,
    "start_time": "2023-03-24T00:34:41.482Z"
   },
   {
    "duration": 1176,
    "start_time": "2023-03-24T00:35:23.921Z"
   },
   {
    "duration": 65,
    "start_time": "2023-03-24T00:35:25.099Z"
   },
   {
    "duration": 18,
    "start_time": "2023-03-24T00:35:25.165Z"
   },
   {
    "duration": 21,
    "start_time": "2023-03-24T00:35:25.185Z"
   },
   {
    "duration": 33,
    "start_time": "2023-03-24T00:35:25.208Z"
   },
   {
    "duration": 17,
    "start_time": "2023-03-24T00:35:25.242Z"
   },
   {
    "duration": 24,
    "start_time": "2023-03-24T00:35:25.260Z"
   },
   {
    "duration": 10,
    "start_time": "2023-03-24T00:35:25.286Z"
   },
   {
    "duration": 9,
    "start_time": "2023-03-24T00:35:25.297Z"
   },
   {
    "duration": 7,
    "start_time": "2023-03-24T00:35:25.308Z"
   },
   {
    "duration": 9,
    "start_time": "2023-03-24T00:35:25.317Z"
   },
   {
    "duration": 12,
    "start_time": "2023-03-24T00:35:25.327Z"
   },
   {
    "duration": 76,
    "start_time": "2023-03-24T00:35:25.341Z"
   },
   {
    "duration": 14,
    "start_time": "2023-03-24T00:35:25.420Z"
   },
   {
    "duration": 34,
    "start_time": "2023-03-24T00:35:25.435Z"
   },
   {
    "duration": 21,
    "start_time": "2023-03-24T00:35:25.470Z"
   },
   {
    "duration": 5,
    "start_time": "2023-03-24T00:35:25.492Z"
   },
   {
    "duration": 10,
    "start_time": "2023-03-24T00:35:25.498Z"
   },
   {
    "duration": 27,
    "start_time": "2023-03-24T00:35:25.509Z"
   },
   {
    "duration": 12,
    "start_time": "2023-03-24T00:35:25.537Z"
   },
   {
    "duration": 187,
    "start_time": "2023-03-24T00:35:25.550Z"
   },
   {
    "duration": 17,
    "start_time": "2023-03-24T00:35:25.739Z"
   },
   {
    "duration": 15,
    "start_time": "2023-03-24T00:35:25.757Z"
   },
   {
    "duration": 3,
    "start_time": "2023-03-24T00:35:25.774Z"
   },
   {
    "duration": 63,
    "start_time": "2023-03-24T00:35:25.779Z"
   },
   {
    "duration": 11,
    "start_time": "2023-03-24T00:35:25.843Z"
   },
   {
    "duration": 75,
    "start_time": "2023-03-24T00:35:25.855Z"
   },
   {
    "duration": 473,
    "start_time": "2023-03-24T00:35:25.931Z"
   },
   {
    "duration": 453,
    "start_time": "2023-03-24T00:35:26.406Z"
   },
   {
    "duration": 176,
    "start_time": "2023-03-24T00:35:26.861Z"
   },
   {
    "duration": 167,
    "start_time": "2023-03-24T00:35:27.038Z"
   },
   {
    "duration": 16,
    "start_time": "2023-03-24T00:35:27.206Z"
   },
   {
    "duration": 13,
    "start_time": "2023-03-24T00:35:27.224Z"
   },
   {
    "duration": 233,
    "start_time": "2023-03-24T00:35:27.239Z"
   },
   {
    "duration": 176,
    "start_time": "2023-03-24T00:35:27.474Z"
   },
   {
    "duration": 10,
    "start_time": "2023-03-24T00:35:27.652Z"
   },
   {
    "duration": 19,
    "start_time": "2023-03-24T00:35:27.664Z"
   },
   {
    "duration": 25,
    "start_time": "2023-03-24T00:35:27.684Z"
   },
   {
    "duration": 13,
    "start_time": "2023-03-24T00:35:27.718Z"
   },
   {
    "duration": 14,
    "start_time": "2023-03-24T00:35:27.733Z"
   },
   {
    "duration": 17,
    "start_time": "2023-03-24T00:35:27.752Z"
   },
   {
    "duration": 19,
    "start_time": "2023-03-24T00:35:27.770Z"
   },
   {
    "duration": 30,
    "start_time": "2023-03-24T00:35:27.790Z"
   },
   {
    "duration": 23,
    "start_time": "2023-03-24T00:35:27.821Z"
   },
   {
    "duration": 18,
    "start_time": "2023-03-24T00:35:27.845Z"
   },
   {
    "duration": 20,
    "start_time": "2023-03-24T00:35:27.864Z"
   },
   {
    "duration": 23,
    "start_time": "2023-03-24T00:35:27.885Z"
   },
   {
    "duration": 8,
    "start_time": "2023-03-24T00:35:27.910Z"
   },
   {
    "duration": 12,
    "start_time": "2023-03-24T00:35:27.919Z"
   },
   {
    "duration": 196,
    "start_time": "2023-03-24T00:44:22.136Z"
   },
   {
    "duration": 156,
    "start_time": "2023-03-24T00:47:58.096Z"
   },
   {
    "duration": 167,
    "start_time": "2023-03-24T00:48:41.075Z"
   },
   {
    "duration": 148,
    "start_time": "2023-03-24T00:49:01.368Z"
   },
   {
    "duration": 8,
    "start_time": "2023-03-24T00:51:41.114Z"
   },
   {
    "duration": 12,
    "start_time": "2023-03-24T00:51:41.887Z"
   },
   {
    "duration": 4,
    "start_time": "2023-03-24T00:58:01.761Z"
   },
   {
    "duration": 13,
    "start_time": "2023-03-24T01:03:17.549Z"
   },
   {
    "duration": 11,
    "start_time": "2023-03-24T01:03:18.281Z"
   },
   {
    "duration": 12,
    "start_time": "2023-03-24T01:03:18.893Z"
   },
   {
    "duration": 13,
    "start_time": "2023-03-24T01:03:19.851Z"
   },
   {
    "duration": 12,
    "start_time": "2023-03-24T01:03:20.494Z"
   },
   {
    "duration": 12,
    "start_time": "2023-03-24T01:03:21.030Z"
   },
   {
    "duration": 12,
    "start_time": "2023-03-24T01:03:21.685Z"
   },
   {
    "duration": 13,
    "start_time": "2023-03-24T01:03:22.248Z"
   },
   {
    "duration": 11,
    "start_time": "2023-03-24T01:03:22.825Z"
   },
   {
    "duration": 8,
    "start_time": "2023-03-24T01:03:43.623Z"
   },
   {
    "duration": 9,
    "start_time": "2023-03-24T01:03:46.037Z"
   },
   {
    "duration": 1003,
    "start_time": "2023-03-24T01:11:25.055Z"
   },
   {
    "duration": 51,
    "start_time": "2023-03-24T01:11:26.060Z"
   },
   {
    "duration": 15,
    "start_time": "2023-03-24T01:11:26.113Z"
   },
   {
    "duration": 18,
    "start_time": "2023-03-24T01:11:26.130Z"
   },
   {
    "duration": 27,
    "start_time": "2023-03-24T01:11:26.150Z"
   },
   {
    "duration": 39,
    "start_time": "2023-03-24T01:11:26.179Z"
   },
   {
    "duration": 3,
    "start_time": "2023-03-24T01:11:26.220Z"
   },
   {
    "duration": 16,
    "start_time": "2023-03-24T01:11:26.225Z"
   },
   {
    "duration": 17,
    "start_time": "2023-03-24T01:11:26.243Z"
   },
   {
    "duration": 8,
    "start_time": "2023-03-24T01:11:26.262Z"
   },
   {
    "duration": 10,
    "start_time": "2023-03-24T01:11:26.271Z"
   },
   {
    "duration": 9,
    "start_time": "2023-03-24T01:11:26.282Z"
   },
   {
    "duration": 60,
    "start_time": "2023-03-24T01:11:26.293Z"
   },
   {
    "duration": 13,
    "start_time": "2023-03-24T01:11:26.355Z"
   },
   {
    "duration": 8,
    "start_time": "2023-03-24T01:11:26.369Z"
   },
   {
    "duration": 17,
    "start_time": "2023-03-24T01:11:26.378Z"
   },
   {
    "duration": 5,
    "start_time": "2023-03-24T01:11:26.417Z"
   },
   {
    "duration": 9,
    "start_time": "2023-03-24T01:11:26.424Z"
   },
   {
    "duration": 15,
    "start_time": "2023-03-24T01:11:26.434Z"
   },
   {
    "duration": 10,
    "start_time": "2023-03-24T01:11:26.451Z"
   },
   {
    "duration": 191,
    "start_time": "2023-03-24T01:11:26.463Z"
   },
   {
    "duration": 17,
    "start_time": "2023-03-24T01:11:26.656Z"
   },
   {
    "duration": 16,
    "start_time": "2023-03-24T01:11:26.674Z"
   },
   {
    "duration": 27,
    "start_time": "2023-03-24T01:11:26.691Z"
   },
   {
    "duration": 47,
    "start_time": "2023-03-24T01:11:26.720Z"
   },
   {
    "duration": 12,
    "start_time": "2023-03-24T01:11:26.769Z"
   },
   {
    "duration": 74,
    "start_time": "2023-03-24T01:11:26.782Z"
   },
   {
    "duration": 431,
    "start_time": "2023-03-24T01:11:26.861Z"
   },
   {
    "duration": 454,
    "start_time": "2023-03-24T01:11:27.294Z"
   },
   {
    "duration": 160,
    "start_time": "2023-03-24T01:11:27.750Z"
   },
   {
    "duration": 154,
    "start_time": "2023-03-24T01:11:27.912Z"
   },
   {
    "duration": 9,
    "start_time": "2023-03-24T01:11:28.068Z"
   },
   {
    "duration": 20,
    "start_time": "2023-03-24T01:11:28.079Z"
   },
   {
    "duration": 214,
    "start_time": "2023-03-24T01:11:28.101Z"
   },
   {
    "duration": 160,
    "start_time": "2023-03-24T01:11:28.318Z"
   },
   {
    "duration": 10,
    "start_time": "2023-03-24T01:11:28.480Z"
   },
   {
    "duration": 12,
    "start_time": "2023-03-24T01:11:28.491Z"
   },
   {
    "duration": 151,
    "start_time": "2023-03-24T01:11:28.518Z"
   },
   {
    "duration": 150,
    "start_time": "2023-03-24T01:11:28.671Z"
   },
   {
    "duration": 9,
    "start_time": "2023-03-24T01:11:28.823Z"
   },
   {
    "duration": 12,
    "start_time": "2023-03-24T01:11:28.834Z"
   },
   {
    "duration": 15,
    "start_time": "2023-03-24T01:11:28.848Z"
   },
   {
    "duration": 11,
    "start_time": "2023-03-24T01:11:28.865Z"
   },
   {
    "duration": 42,
    "start_time": "2023-03-24T01:11:28.878Z"
   },
   {
    "duration": 13,
    "start_time": "2023-03-24T01:11:28.922Z"
   },
   {
    "duration": 17,
    "start_time": "2023-03-24T01:11:28.937Z"
   },
   {
    "duration": 11,
    "start_time": "2023-03-24T01:11:28.956Z"
   },
   {
    "duration": 12,
    "start_time": "2023-03-24T01:11:28.969Z"
   },
   {
    "duration": 39,
    "start_time": "2023-03-24T01:11:28.983Z"
   },
   {
    "duration": 12,
    "start_time": "2023-03-24T01:11:29.024Z"
   },
   {
    "duration": 11,
    "start_time": "2023-03-24T01:11:29.038Z"
   },
   {
    "duration": 11,
    "start_time": "2023-03-24T01:11:29.050Z"
   },
   {
    "duration": 8,
    "start_time": "2023-03-24T01:11:29.063Z"
   },
   {
    "duration": 17,
    "start_time": "2023-03-24T01:41:34.152Z"
   },
   {
    "duration": 17,
    "start_time": "2023-03-24T01:41:43.448Z"
   },
   {
    "duration": 5,
    "start_time": "2023-03-24T01:41:44.956Z"
   },
   {
    "duration": 43,
    "start_time": "2023-03-24T01:41:46.685Z"
   },
   {
    "duration": 11,
    "start_time": "2023-03-24T01:42:40.788Z"
   },
   {
    "duration": 26,
    "start_time": "2023-03-24T01:42:51.268Z"
   },
   {
    "duration": 3,
    "start_time": "2023-03-24T02:24:07.497Z"
   },
   {
    "duration": 4,
    "start_time": "2023-03-24T02:24:43.550Z"
   },
   {
    "duration": 1822,
    "start_time": "2023-03-24T02:26:11.570Z"
   },
   {
    "duration": 55,
    "start_time": "2023-03-24T02:26:13.393Z"
   },
   {
    "duration": 17,
    "start_time": "2023-03-24T02:26:13.450Z"
   },
   {
    "duration": 21,
    "start_time": "2023-03-24T02:26:13.468Z"
   },
   {
    "duration": 50,
    "start_time": "2023-03-24T02:26:13.491Z"
   },
   {
    "duration": 15,
    "start_time": "2023-03-24T02:26:13.543Z"
   },
   {
    "duration": 6,
    "start_time": "2023-03-24T02:26:13.560Z"
   },
   {
    "duration": 10,
    "start_time": "2023-03-24T02:26:13.567Z"
   },
   {
    "duration": 12,
    "start_time": "2023-03-24T02:26:13.578Z"
   },
   {
    "duration": 9,
    "start_time": "2023-03-24T02:26:13.592Z"
   },
   {
    "duration": 7,
    "start_time": "2023-03-24T02:26:13.617Z"
   },
   {
    "duration": 16,
    "start_time": "2023-03-24T02:26:13.626Z"
   },
   {
    "duration": 56,
    "start_time": "2023-03-24T02:26:13.644Z"
   },
   {
    "duration": 26,
    "start_time": "2023-03-24T02:26:13.703Z"
   },
   {
    "duration": 16,
    "start_time": "2023-03-24T02:26:13.731Z"
   },
   {
    "duration": 22,
    "start_time": "2023-03-24T02:26:13.749Z"
   },
   {
    "duration": 4,
    "start_time": "2023-03-24T02:26:13.773Z"
   },
   {
    "duration": 22,
    "start_time": "2023-03-24T02:26:13.778Z"
   },
   {
    "duration": 27,
    "start_time": "2023-03-24T02:26:13.801Z"
   },
   {
    "duration": 12,
    "start_time": "2023-03-24T02:26:13.829Z"
   },
   {
    "duration": 197,
    "start_time": "2023-03-24T02:26:13.842Z"
   },
   {
    "duration": 18,
    "start_time": "2023-03-24T02:26:14.040Z"
   },
   {
    "duration": 17,
    "start_time": "2023-03-24T02:26:14.059Z"
   },
   {
    "duration": 14,
    "start_time": "2023-03-24T02:26:14.078Z"
   },
   {
    "duration": 53,
    "start_time": "2023-03-24T02:26:14.094Z"
   },
   {
    "duration": 10,
    "start_time": "2023-03-24T02:26:14.149Z"
   },
   {
    "duration": 34,
    "start_time": "2023-03-24T02:26:14.161Z"
   },
   {
    "duration": 477,
    "start_time": "2023-03-24T02:26:14.197Z"
   },
   {
    "duration": 468,
    "start_time": "2023-03-24T02:26:14.676Z"
   },
   {
    "duration": 174,
    "start_time": "2023-03-24T02:26:15.146Z"
   },
   {
    "duration": 167,
    "start_time": "2023-03-24T02:26:15.322Z"
   },
   {
    "duration": 10,
    "start_time": "2023-03-24T02:26:15.491Z"
   },
   {
    "duration": 10,
    "start_time": "2023-03-24T02:26:15.517Z"
   },
   {
    "duration": 226,
    "start_time": "2023-03-24T02:26:15.529Z"
   },
   {
    "duration": 183,
    "start_time": "2023-03-24T02:26:15.756Z"
   },
   {
    "duration": 9,
    "start_time": "2023-03-24T02:26:15.941Z"
   },
   {
    "duration": 12,
    "start_time": "2023-03-24T02:26:15.952Z"
   },
   {
    "duration": 177,
    "start_time": "2023-03-24T02:26:15.966Z"
   },
   {
    "duration": 152,
    "start_time": "2023-03-24T02:26:16.144Z"
   },
   {
    "duration": 8,
    "start_time": "2023-03-24T02:26:16.298Z"
   },
   {
    "duration": 22,
    "start_time": "2023-03-24T02:26:16.317Z"
   },
   {
    "duration": 19,
    "start_time": "2023-03-24T02:26:16.341Z"
   },
   {
    "duration": 16,
    "start_time": "2023-03-24T02:26:16.362Z"
   },
   {
    "duration": 24,
    "start_time": "2023-03-24T02:26:16.380Z"
   },
   {
    "duration": 18,
    "start_time": "2023-03-24T02:26:16.406Z"
   },
   {
    "duration": 28,
    "start_time": "2023-03-24T02:26:16.426Z"
   },
   {
    "duration": 17,
    "start_time": "2023-03-24T02:26:16.456Z"
   },
   {
    "duration": 28,
    "start_time": "2023-03-24T02:26:16.474Z"
   },
   {
    "duration": 30,
    "start_time": "2023-03-24T02:26:16.504Z"
   },
   {
    "duration": 20,
    "start_time": "2023-03-24T02:26:16.535Z"
   },
   {
    "duration": 30,
    "start_time": "2023-03-24T02:26:16.556Z"
   },
   {
    "duration": 14,
    "start_time": "2023-03-24T02:26:16.588Z"
   },
   {
    "duration": 17,
    "start_time": "2023-03-24T02:26:16.604Z"
   }
  ],
  "kernelspec": {
   "display_name": "Python 3 (ipykernel)",
   "language": "python",
   "name": "python3"
  },
  "language_info": {
   "codemirror_mode": {
    "name": "ipython",
    "version": 3
   },
   "file_extension": ".py",
   "mimetype": "text/x-python",
   "name": "python",
   "nbconvert_exporter": "python",
   "pygments_lexer": "ipython3",
   "version": "3.9.5"
  },
  "toc": {
   "base_numbering": 1,
   "nav_menu": {},
   "number_sections": true,
   "sideBar": true,
   "skip_h1_title": true,
   "title_cell": "Table of Contents",
   "title_sidebar": "Contents",
   "toc_cell": false,
   "toc_position": {},
   "toc_section_display": true,
   "toc_window_display": true
  }
 },
 "nbformat": 4,
 "nbformat_minor": 2
}
